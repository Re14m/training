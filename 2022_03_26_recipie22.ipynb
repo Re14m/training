{
  "nbformat": 4,
  "nbformat_minor": 0,
  "metadata": {
    "colab": {
      "name": "2022-03-26_recipie22.ipynb",
      "provenance": [],
      "collapsed_sections": [],
      "authorship_tag": "ABX9TyMOzB3UG3vSYknmYgA6WssA",
      "include_colab_link": true
    },
    "kernelspec": {
      "name": "python3",
      "display_name": "Python 3"
    },
    "language_info": {
      "name": "python"
    },
    "accelerator": "GPU"
  },
  "cells": [
    {
      "cell_type": "markdown",
      "metadata": {
        "id": "view-in-github",
        "colab_type": "text"
      },
      "source": [
        "<a href=\"https://colab.research.google.com/github/Re14m/training/blob/master/2022_03_26_recipie22.ipynb\" target=\"_parent\"><img src=\"https://colab.research.google.com/assets/colab-badge.svg\" alt=\"Open In Colab\"/></a>"
      ]
    },
    {
      "cell_type": "code",
      "execution_count": 1,
      "metadata": {
        "colab": {
          "base_uri": "https://localhost:8080/"
        },
        "id": "wmVS-9Q64GUW",
        "outputId": "ffc47c5f-571f-4abd-f6cd-c8b3e8540548"
      },
      "outputs": [
        {
          "output_type": "stream",
          "name": "stdout",
          "text": [
            "Requirement already satisfied: scikit-learn==0.23.2 in /usr/local/lib/python3.7/dist-packages (0.23.2)\n",
            "Requirement already satisfied: numpy>=1.13.3 in /usr/local/lib/python3.7/dist-packages (from scikit-learn==0.23.2) (1.21.5)\n",
            "Requirement already satisfied: scipy>=0.19.1 in /usr/local/lib/python3.7/dist-packages (from scikit-learn==0.23.2) (1.4.1)\n",
            "Requirement already satisfied: joblib>=0.11 in /usr/local/lib/python3.7/dist-packages (from scikit-learn==0.23.2) (1.1.0)\n",
            "Requirement already satisfied: threadpoolctl>=2.0.0 in /usr/local/lib/python3.7/dist-packages (from scikit-learn==0.23.2) (3.1.0)\n"
          ]
        }
      ],
      "source": [
        "# ライブラリのインストール\n",
        "!pip install scikit-learn==0.23.2"
      ]
    },
    {
      "cell_type": "code",
      "source": [
        "# バージョン確認（python）\n",
        "import platform\n",
        "print(\"python \" + platform.python_version())"
      ],
      "metadata": {
        "colab": {
          "base_uri": "https://localhost:8080/"
        },
        "id": "jAFswgFe4ncG",
        "outputId": "26cfeb07-8faa-4a3f-cd59-c55431175f06"
      },
      "execution_count": 2,
      "outputs": [
        {
          "output_type": "stream",
          "name": "stdout",
          "text": [
            "python 3.7.13\n"
          ]
        }
      ]
    },
    {
      "cell_type": "code",
      "source": [
        "# datasetの読込\n",
        "from sklearn.datasets import fetch_20newsgroups\n",
        "train = fetch_20newsgroups(subset='train')"
      ],
      "metadata": {
        "id": "ndDfnwuv4ubW"
      },
      "execution_count": 3,
      "outputs": []
    },
    {
      "cell_type": "code",
      "source": [
        "# datasetの確認\n",
        "train.target_names"
      ],
      "metadata": {
        "colab": {
          "base_uri": "https://localhost:8080/"
        },
        "id": "TFCAkTSI5IEZ",
        "outputId": "b27cd127-393b-48a5-e619-6a3f63bc411e"
      },
      "execution_count": 4,
      "outputs": [
        {
          "output_type": "execute_result",
          "data": {
            "text/plain": [
              "['alt.atheism',\n",
              " 'comp.graphics',\n",
              " 'comp.os.ms-windows.misc',\n",
              " 'comp.sys.ibm.pc.hardware',\n",
              " 'comp.sys.mac.hardware',\n",
              " 'comp.windows.x',\n",
              " 'misc.forsale',\n",
              " 'rec.autos',\n",
              " 'rec.motorcycles',\n",
              " 'rec.sport.baseball',\n",
              " 'rec.sport.hockey',\n",
              " 'sci.crypt',\n",
              " 'sci.electronics',\n",
              " 'sci.med',\n",
              " 'sci.space',\n",
              " 'soc.religion.christian',\n",
              " 'talk.politics.guns',\n",
              " 'talk.politics.mideast',\n",
              " 'talk.politics.misc',\n",
              " 'talk.religion.misc']"
            ]
          },
          "metadata": {},
          "execution_count": 4
        }
      ]
    },
    {
      "cell_type": "code",
      "source": [
        "# datasetからカテゴリ指定して抽出\n",
        "categories=['sci.crypt', 'sci.electronics', 'sci.med', 'sci.space']\n",
        "train = fetch_20newsgroups(subset='train', categories=categories)"
      ],
      "metadata": {
        "id": "pG846VV_5RGL"
      },
      "execution_count": 5,
      "outputs": []
    },
    {
      "cell_type": "code",
      "source": [
        "# datasetのサイズ確認\n",
        "print(len(train.data))  # train.data=ニュース記事のテキスト\n",
        "print(len(train.target))  # train.target=ニュース記事のテキストに対する正解ラベル"
      ],
      "metadata": {
        "colab": {
          "base_uri": "https://localhost:8080/"
        },
        "id": "TWRmq_R_5eFg",
        "outputId": "daf700ce-7603-44b4-aff8-11378ce9aa86"
      },
      "execution_count": 6,
      "outputs": [
        {
          "output_type": "stream",
          "name": "stdout",
          "text": [
            "2373\n",
            "2373\n"
          ]
        }
      ]
    },
    {
      "cell_type": "code",
      "source": [
        "# ニュース記事のテキストを確認\n",
        "print(train.data[0])"
      ],
      "metadata": {
        "colab": {
          "base_uri": "https://localhost:8080/"
        },
        "id": "UFLOkgOX564v",
        "outputId": "1da89c7c-9dcd-4add-fa6b-8b0de18fee5b"
      },
      "execution_count": 7,
      "outputs": [
        {
          "output_type": "stream",
          "name": "stdout",
          "text": [
            "From: al@escom.com (Al Donaldson)\n",
            "Subject: Re: Once tapped, your code is no good any more.\n",
            "Reply-To: al@escom.COM (Al Donaldson)\n",
            "Organization: ESCOM Corp., Oakton VA (USA)\n",
            "Distribution: na\n",
            "Lines: 16\n",
            "\n",
            "amolitor@nmsu.edu (Andrew Molitor) writes:\n",
            ">Yes, those evil guys in the FBI can probably, with some\n",
            ">effort, abuse the system. I got news for you, if the evil guys in\n",
            ">the FBI decide they want to persecute you, they're gonna, ...\n",
            "\n",
            "And if Richard Nixon had had this kind of toy, he wouldn't have had\n",
            "to send people into the Watergate.\n",
            "\n",
            "But that's not really the issue.  The real issue is whether this \n",
            "will be used to justify a ban against individuals' use of private \n",
            "(i.e., anything else) encryption methods.\n",
            "\n",
            "Unrelated question...isn't the term \"Clipper,\" as neat as it is,\n",
            "already taken by Intergraph?\n",
            "\n",
            "Al\n",
            "\n"
          ]
        }
      ]
    },
    {
      "cell_type": "code",
      "source": [
        "# ニュース記事のラベルを確認\n",
        "train.target[0] # ラベルが0=分類が0"
      ],
      "metadata": {
        "colab": {
          "base_uri": "https://localhost:8080/"
        },
        "id": "62BdQ9zx-JPM",
        "outputId": "c424a3a6-ee04-4d1a-afca-75883e1dee65"
      },
      "execution_count": 8,
      "outputs": [
        {
          "output_type": "execute_result",
          "data": {
            "text/plain": [
              "0"
            ]
          },
          "metadata": {},
          "execution_count": 8
        }
      ]
    },
    {
      "cell_type": "code",
      "source": [
        "# 分類をすべて表示\n",
        "train.target_names"
      ],
      "metadata": {
        "colab": {
          "base_uri": "https://localhost:8080/"
        },
        "id": "IayS46N9-erM",
        "outputId": "127e5a26-f86b-4949-c7c3-12aec69eb679"
      },
      "execution_count": 9,
      "outputs": [
        {
          "output_type": "execute_result",
          "data": {
            "text/plain": [
              "['sci.crypt', 'sci.electronics', 'sci.med', 'sci.space']"
            ]
          },
          "metadata": {},
          "execution_count": 9
        }
      ]
    },
    {
      "cell_type": "code",
      "source": [
        "# 記事のラベルから分類名を表示\n",
        "train.target_names[train.target[0]]"
      ],
      "metadata": {
        "colab": {
          "base_uri": "https://localhost:8080/",
          "height": 35
        },
        "id": "E8ieXTBm-0cw",
        "outputId": "6a1b465c-fd1b-4884-94e8-178c6cee2c83"
      },
      "execution_count": 10,
      "outputs": [
        {
          "output_type": "execute_result",
          "data": {
            "text/plain": [
              "'sci.crypt'"
            ],
            "application/vnd.google.colaboratory.intrinsic+json": {
              "type": "string"
            }
          },
          "metadata": {},
          "execution_count": 10
        }
      ]
    },
    {
      "cell_type": "code",
      "source": [
        "# テキストの最適化（TS-IDF）\n",
        "from sklearn.feature_extraction.text import TfidfVectorizer\n",
        "\n",
        "vectorizer = TfidfVectorizer()\n",
        "X_train = vectorizer.fit_transform(train.data).toarray()\n",
        "print(len(vectorizer.get_feature_names()))\n",
        "print(X_train)\n",
        "print(X_train.shape)"
      ],
      "metadata": {
        "colab": {
          "base_uri": "https://localhost:8080/"
        },
        "id": "yknsj1mN_Mfw",
        "outputId": "c4655de4-7a23-415c-bf21-1d8630145654"
      },
      "execution_count": 11,
      "outputs": [
        {
          "output_type": "stream",
          "name": "stdout",
          "text": [
            "38683\n",
            "[[0. 0. 0. ... 0. 0. 0.]\n",
            " [0. 0. 0. ... 0. 0. 0.]\n",
            " [0. 0. 0. ... 0. 0. 0.]\n",
            " ...\n",
            " [0. 0. 0. ... 0. 0. 0.]\n",
            " [0. 0. 0. ... 0. 0. 0.]\n",
            " [0. 0. 0. ... 0. 0. 0.]]\n",
            "(2373, 38683)\n"
          ]
        }
      ]
    },
    {
      "cell_type": "code",
      "source": [
        "# 訓練（RandomForest）\n",
        "\n",
        "# 分類器の生成\n",
        "from sklearn.ensemble import RandomForestClassifier\n",
        "clf = RandomForestClassifier()"
      ],
      "metadata": {
        "id": "ZAsn0raz_Yq-"
      },
      "execution_count": 12,
      "outputs": []
    },
    {
      "cell_type": "code",
      "source": [
        "# 訓練の実施\n",
        "clf.fit(X_train, train.target) # fitの第一引数に訓練データセットの特徴量、第二引数に訓練データセットの正解ラベルを指定"
      ],
      "metadata": {
        "colab": {
          "base_uri": "https://localhost:8080/"
        },
        "id": "jmHLUS2l_ymk",
        "outputId": "5a529d67-3b50-4c79-c384-e2645d40e653"
      },
      "execution_count": 13,
      "outputs": [
        {
          "output_type": "execute_result",
          "data": {
            "text/plain": [
              "RandomForestClassifier()"
            ]
          },
          "metadata": {},
          "execution_count": 13
        }
      ]
    },
    {
      "cell_type": "code",
      "source": [
        "# 精度の検証\n",
        "\n",
        "# testdatasetの読込\n",
        "test = fetch_20newsgroups(subset='test', categories=categories)"
      ],
      "metadata": {
        "id": "0s9iY7rC_6E2"
      },
      "execution_count": 14,
      "outputs": []
    },
    {
      "cell_type": "code",
      "source": [
        "# TS-IDFで数値化\n",
        "X_test = vectorizer.transform(test.data).toarray()\n",
        "X_test.shape"
      ],
      "metadata": {
        "colab": {
          "base_uri": "https://localhost:8080/"
        },
        "id": "GL-tVZP9AGVq",
        "outputId": "4207d097-0e91-4bf4-c409-bd88048dd786"
      },
      "execution_count": 15,
      "outputs": [
        {
          "output_type": "execute_result",
          "data": {
            "text/plain": [
              "(1579, 38683)"
            ]
          },
          "metadata": {},
          "execution_count": 15
        }
      ]
    },
    {
      "cell_type": "code",
      "source": [
        "# testdataと分類器で予測\n",
        "preds = clf.predict(X_test)\n",
        "preds"
      ],
      "metadata": {
        "colab": {
          "base_uri": "https://localhost:8080/"
        },
        "id": "dyB_8d69CDLR",
        "outputId": "8f385e7f-e8b2-4e4b-9baa-99aabdb6a834"
      },
      "execution_count": 16,
      "outputs": [
        {
          "output_type": "execute_result",
          "data": {
            "text/plain": [
              "array([2, 3, 2, ..., 1, 3, 2])"
            ]
          },
          "metadata": {},
          "execution_count": 16
        }
      ]
    },
    {
      "cell_type": "code",
      "source": [
        "# 訓練した分類器の正解率を計算（Accurancy）\n",
        "from sklearn.metrics import accuracy_score\n",
        "accuracy_score(test.target, preds)"
      ],
      "metadata": {
        "colab": {
          "base_uri": "https://localhost:8080/"
        },
        "id": "IPFa5-vyCNdl",
        "outputId": "d2eea193-5686-4c20-89c2-c8de6b54e04b"
      },
      "execution_count": 17,
      "outputs": [
        {
          "output_type": "execute_result",
          "data": {
            "text/plain": [
              "0.8549715009499683"
            ]
          },
          "metadata": {},
          "execution_count": 17
        }
      ]
    }
  ]
}