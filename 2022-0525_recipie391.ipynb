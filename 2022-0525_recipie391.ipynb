{
  "nbformat": 4,
  "nbformat_minor": 0,
  "metadata": {
    "colab": {
      "name": "2022-0525_recipie391.ipynb",
      "provenance": [],
      "collapsed_sections": [
        "Tbc0CfQ2ZvEd"
      ],
      "private_outputs": true,
      "authorship_tag": "ABX9TyO7m19AX+Pmj5c+TQCdwH8D",
      "include_colab_link": true
    },
    "kernelspec": {
      "name": "python3",
      "display_name": "Python 3"
    },
    "language_info": {
      "name": "python"
    },
    "accelerator": "GPU"
  },
  "cells": [
    {
      "cell_type": "markdown",
      "metadata": {
        "id": "view-in-github",
        "colab_type": "text"
      },
      "source": [
        "<a href=\"https://colab.research.google.com/github/Re14m/training/blob/master/2022-0525_recipie391.ipynb\" target=\"_parent\"><img src=\"https://colab.research.google.com/assets/colab-badge.svg\" alt=\"Open In Colab\"/></a>"
      ]
    },
    {
      "cell_type": "markdown",
      "source": [
        "# [【Lesson6】MNISTの手書き文字を画像認識するレシピ](https://axross-recipe.com/recipes/391)"
      ],
      "metadata": {
        "id": "mVBFNMUAEPzA"
      }
    },
    {
      "cell_type": "markdown",
      "source": [
        "## 作業準備"
      ],
      "metadata": {
        "id": "Tbc0CfQ2ZvEd"
      }
    },
    {
      "cell_type": "code",
      "source": [
        "# CG mount\n",
        "from google.colab import drive\n",
        "drive.mount(\"/content/drive\")"
      ],
      "metadata": {
        "id": "3dhO1D-SYyvb"
      },
      "execution_count": null,
      "outputs": []
    },
    {
      "cell_type": "markdown",
      "source": [
        "## パッケージのインポート"
      ],
      "metadata": {
        "id": "fa0DyHLOFd3I"
      }
    },
    {
      "cell_type": "code",
      "source": [
        "import tensorflow as tf\n",
        "import matplotlib.pyplot as plt"
      ],
      "metadata": {
        "id": "-gperB-tV2CL"
      },
      "execution_count": null,
      "outputs": []
    },
    {
      "cell_type": "markdown",
      "source": [
        "## データのダウンロードと分割"
      ],
      "metadata": {
        "id": "adCxLqnWGhBk"
      }
    },
    {
      "cell_type": "code",
      "source": [
        "(train_images, train_labels), (test_images, test_labels) = tf.keras.datasets.mnist.load_data()"
      ],
      "metadata": {
        "id": "fC-pH-vIX_Xg"
      },
      "execution_count": null,
      "outputs": []
    },
    {
      "cell_type": "code",
      "source": [
        "# 画像ピクセルの値を0-255から0-1に縮小\n",
        "train_images = train_images / 255.0\n",
        "test_images = test_images / 255.0"
      ],
      "metadata": {
        "id": "2U8rUEoWYMRn"
      },
      "execution_count": null,
      "outputs": []
    },
    {
      "cell_type": "markdown",
      "source": [
        "## データの可視化"
      ],
      "metadata": {
        "id": "6-dd0N4UVyjX"
      }
    },
    {
      "cell_type": "code",
      "source": [
        "# データの可視化\n",
        "print(train_images.shape)\n",
        "print(test_images.shape)\n",
        "print(train_labels)\n",
        "\n",
        "plt.imshow(train_images[0], cmap='gray')\n",
        "plt.show()"
      ],
      "metadata": {
        "id": "2kE5CEc9WLOx"
      },
      "execution_count": null,
      "outputs": []
    },
    {
      "cell_type": "markdown",
      "source": [
        "## 機械学習モデルの定義"
      ],
      "metadata": {
        "id": "Z4DjoN8zYaZG"
      }
    },
    {
      "cell_type": "code",
      "source": [
        "# モデルの定義\n",
        "my_model = tf.keras.models.Sequential()\n",
        "my_model.add(tf.keras.layers.Flatten(input_shape=(28, 28)))\n",
        "my_model.add(tf.keras.layers.Dense(128, activation='relu'))\n",
        "my_model.add(tf.keras.layers.Dense(10, activation='softmax'))"
      ],
      "metadata": {
        "id": "mEE5Z5bjYZRq"
      },
      "execution_count": null,
      "outputs": []
    },
    {
      "cell_type": "markdown",
      "source": [
        "## モデルのコンパイル"
      ],
      "metadata": {
        "id": "L7RgJNtdYkrQ"
      }
    },
    {
      "cell_type": "code",
      "source": [
        "my_model.compile(optimizer='adam', loss='sparse_categorical_crossentropy', metrics=['accuracy'])"
      ],
      "metadata": {
        "id": "-T_JM7jpYnLj"
      },
      "execution_count": null,
      "outputs": []
    },
    {
      "cell_type": "markdown",
      "source": [
        "## モデルのトレーニング"
      ],
      "metadata": {
        "id": "of9A50ALYszw"
      }
    },
    {
      "cell_type": "code",
      "source": [
        "my_model.fit(train_images, train_labels, epochs=3)"
      ],
      "metadata": {
        "id": "7UmmT9NDYur2"
      },
      "execution_count": null,
      "outputs": []
    },
    {
      "cell_type": "markdown",
      "source": [
        "## モデル精度の確認"
      ],
      "metadata": {
        "id": "16-9LTIBY7HA"
      }
    },
    {
      "cell_type": "code",
      "source": [
        "val_loss, val_acc = my_model.evaluate(test_images, test_labels)\n",
        "print(\"Test accuracy: \", val_acc)"
      ],
      "metadata": {
        "id": "aWG_EYd1Y9RT"
      },
      "execution_count": null,
      "outputs": []
    },
    {
      "cell_type": "markdown",
      "source": [
        "## モデルの取得"
      ],
      "metadata": {
        "id": "hizKGYdRZBXZ"
      }
    },
    {
      "cell_type": "code",
      "source": [
        "my_model.save('my_mnist_model')"
      ],
      "metadata": {
        "id": "x5q_tgM7ZElG"
      },
      "execution_count": null,
      "outputs": []
    },
    {
      "cell_type": "markdown",
      "source": [
        "## モデルの取得"
      ],
      "metadata": {
        "id": "qs2f9RL5ZJu-"
      }
    },
    {
      "cell_type": "code",
      "source": [
        "my_new_model = tf.keras.models.load_model('my_mnist_model')"
      ],
      "metadata": {
        "id": "kcbGzBW3ZNNe"
      },
      "execution_count": null,
      "outputs": []
    },
    {
      "cell_type": "markdown",
      "source": [
        "## 新しくつくったモデル精度の確認"
      ],
      "metadata": {
        "id": "84hF5tvjZVw_"
      }
    },
    {
      "cell_type": "code",
      "source": [
        "new_val_loss, new_val_acc = my_new_model.evaluate(test_images, test_labels)\n",
        "print(\"New Test accuracy: \", new_val_acc)"
      ],
      "metadata": {
        "id": "oGRhqi9QZVRx"
      },
      "execution_count": null,
      "outputs": []
    }
  ]
}