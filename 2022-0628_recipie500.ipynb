{
  "nbformat": 4,
  "nbformat_minor": 0,
  "metadata": {
    "colab": {
      "name": "2022-0628_recipie500.ipynb",
      "private_outputs": true,
      "provenance": [],
      "collapsed_sections": [],
      "mount_file_id": "1QxnldRrAuaE_F7lpKqXuWZP6LLs4-hWB",
      "authorship_tag": "ABX9TyMk7O/UCQeo3MrENuiQLJUh",
      "include_colab_link": true
    },
    "kernelspec": {
      "name": "python3",
      "display_name": "Python 3"
    },
    "language_info": {
      "name": "python"
    },
    "accelerator": "GPU"
  },
  "cells": [
    {
      "cell_type": "markdown",
      "metadata": {
        "id": "view-in-github",
        "colab_type": "text"
      },
      "source": [
        "<a href=\"https://colab.research.google.com/github/Re14m/training/blob/master/2022-0628_recipie500.ipynb\" target=\"_parent\"><img src=\"https://colab.research.google.com/assets/colab-badge.svg\" alt=\"Open In Colab\"/></a>"
      ]
    },
    {
      "cell_type": "markdown",
      "source": [
        "# [PythonでPDFファイル内の表を抜き出すレシピ](https://axross-recipe.com/recipes/500)"
      ],
      "metadata": {
        "id": "r2XJSRJMof9Z"
      }
    },
    {
      "cell_type": "markdown",
      "source": [
        "## 環境準備"
      ],
      "metadata": {
        "id": "Oyp2R7EToqas"
      }
    },
    {
      "cell_type": "code",
      "source": [
        "from google.colab import drive\n",
        "drive.mount(\"/content/drive/\")"
      ],
      "metadata": {
        "id": "R0SHu_WZowX5"
      },
      "execution_count": null,
      "outputs": []
    },
    {
      "cell_type": "markdown",
      "source": [
        "## 練習: 練習用のPDFファイルから表を抜き出す"
      ],
      "metadata": {
        "id": "vFLZk81ao_6y"
      }
    },
    {
      "cell_type": "code",
      "execution_count": null,
      "metadata": {
        "id": "VvcXkEE4oQVX"
      },
      "outputs": [],
      "source": [
        "# パッケージのインストール\n",
        "!pip install tabula-py"
      ]
    },
    {
      "cell_type": "code",
      "source": [
        "# パッケージのインポート\n",
        "import tabula\n",
        "import pandas as pd"
      ],
      "metadata": {
        "id": "K5k9IfkG6InP"
      },
      "execution_count": null,
      "outputs": []
    },
    {
      "cell_type": "code",
      "source": [
        "# dataから表のみを抽出\n",
        "dfs = tabula.read_pdf(\"/content/drive/MyDrive/Colab Notebooks/note_Axross/_data/都道府県データ.pdf\", lattice=True, pages='1')"
      ],
      "metadata": {
        "id": "0dfhilYD6PUa"
      },
      "execution_count": null,
      "outputs": []
    },
    {
      "cell_type": "code",
      "source": [
        "# 抽出数の確認\n",
        "len(dfs)"
      ],
      "metadata": {
        "id": "rGHmZVTZ6fdC"
      },
      "execution_count": null,
      "outputs": []
    },
    {
      "cell_type": "code",
      "source": [
        "# 抽出データを確認する\n",
        "for df in dfs:\n",
        "    display(df)"
      ],
      "metadata": {
        "id": "Jfm_KWeh6pjd"
      },
      "execution_count": null,
      "outputs": []
    },
    {
      "cell_type": "code",
      "source": [
        "# 抽出データをCSVに書き出す\n",
        "for index, df in enumerate(dfs):\n",
        "    df.to_csv(f\"/content/drive/MyDrive/Colab Notebooks/note_Axross/_data/todouhuken_{index}.csv\", encoding=\"shift-jis\", index=None)"
      ],
      "metadata": {
        "id": "0hFKBoDc6xRz"
      },
      "execution_count": null,
      "outputs": []
    },
    {
      "cell_type": "code",
      "source": [
        "# 抽出データをexcelに書き出す\n",
        "for index, df in enumerate(dfs):\n",
        "    df.to_excel(f\"/content/drive/MyDrive/Colab Notebooks/note_Axross/_data/todouhuken_{index}.xlsx\", index=None)"
      ],
      "metadata": {
        "id": "Lj57gl9e7CwD"
      },
      "execution_count": null,
      "outputs": []
    },
    {
      "cell_type": "markdown",
      "source": [
        "## 実践: 森林づくり活動についての実態調査から複数の表を抜き出す"
      ],
      "metadata": {
        "id": "_Lz6YcWH8grB"
      }
    },
    {
      "cell_type": "code",
      "source": [
        "import pandas as pd\n",
        "import tabula\n",
        "\n",
        "dfs = tabula.read_pdf(\"/content/drive/MyDrive/Colab Notebooks/note_Axross/_data/h08taishisetsu000.pdf\", lattice=True, pages='1')\n",
        "\n",
        "for df in dfs:\n",
        "    display(df)\n",
        "\n",
        "# セル結合部は書き出し後、手修正"
      ],
      "metadata": {
        "id": "65kFgb_a8jdy"
      },
      "execution_count": null,
      "outputs": []
    },
    {
      "cell_type": "markdown",
      "source": [
        "## 実践: 森林づくり活動についての実態調査から複数の表を抜き出す"
      ],
      "metadata": {
        "id": "6LURhTmX9GJT"
      }
    },
    {
      "cell_type": "code",
      "source": [
        "import pandas as pd\n",
        "import tabula\n",
        "\n",
        "dfs = tabula.read_pdf(\"/content/drive/MyDrive/Colab Notebooks/note_Axross/_data/u006-24-a.pdf\", lattice=True, pages='4-6')\n",
        "print(len(dfs)) # 抜き出した表データ(DataFrame)の数を表示\n",
        "\n",
        "# 表データを1つずつ表示\n",
        "for df in dfs:\n",
        "    display(df)"
      ],
      "metadata": {
        "id": "4EeCOLNH9I3o"
      },
      "execution_count": null,
      "outputs": []
    },
    {
      "cell_type": "code",
      "source": [
        "# 4-6,10ページのみ表示\n",
        "dfs = tabula.read_pdf(\"/content/drive/MyDrive/Colab Notebooks/note_Axross/_data/u006-24-a.pdf\", lattice=True, pages='4-6,10')\n",
        "print(len(dfs)) # 抜き出した表データ(DataFrame)の数を表示\n",
        "\n",
        "# 表データを1つずつ表示\n",
        "for df in dfs:\n",
        "    display(df)"
      ],
      "metadata": {
        "id": "AEHBh9vQ9fzu"
      },
      "execution_count": null,
      "outputs": []
    },
    {
      "cell_type": "code",
      "source": [
        "# すべて表示\n",
        "dfs = tabula.read_pdf(\"/content/drive/MyDrive/Colab Notebooks/note_Axross/_data/u006-24-a.pdf\", lattice=True, pages='all')\n",
        "print(len(dfs)) # 抜き出した表データ(DataFrame)の数を表示\n",
        "\n",
        "# 表データを1つずつ表示\n",
        "for df in dfs:\n",
        "    display(df)"
      ],
      "metadata": {
        "id": "pXsLJz-m9yRy"
      },
      "execution_count": null,
      "outputs": []
    }
  ]
}