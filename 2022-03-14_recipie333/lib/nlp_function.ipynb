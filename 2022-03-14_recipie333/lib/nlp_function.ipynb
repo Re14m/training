{
 "cells": [
  {
   "cell_type": "code",
   "execution_count": null,
   "id": "6fa6e26a",
   "metadata": {},
   "outputs": [],
   "source": [
    "from transformers import BertJapaneseTokenizer, BertModel\n",
    "import torch\n",
    "\n",
    "MODEL_NAME = \"cl-tohoku/bert-base-japanese-whole-word-masking\"\n",
    "max_length = 256\n",
    "\n",
    "tokenizer = BertJapaneseTokenizer.from_pretrained(MODEL_NAME)\n",
    "model = BertModel.from_pretrained(MODEL_NAME)\n",
    "\n",
    "def text_to_vector(text_list):\n",
    "    texts_vector = []\n",
    "\n",
    "    for text in text_list:\n",
    "        # 入力文章をエンコード\n",
    "        encoding = tokenizer(text, max_length=max_length, padding=\"max_length\", truncation=True, return_tensors=\"pt\")\n",
    "        attention_mask = encoding[\"attention_mask\"]\n",
    "\n",
    "        with torch.no_grad():\n",
    "            # BERTで計算\n",
    "            output = model(**encoding)\n",
    "            last_hidden_state = output.last_hidden_state\n",
    "            averaged_hidden_state = (last_hidden_state * attention_mask.unsqueeze(-1)).sum(1) / attention_mask.sum(1, keepdim=True)\n",
    "\n",
    "        texts_vector.append(averaged_hidden_state[0].numpy())\n",
    "    return texts_vector"
   ]
  }
 ],
 "metadata": {
  "kernelspec": {
   "display_name": "Python 3 (ipykernel)",
   "language": "python",
   "name": "python3"
  },
  "language_info": {
   "codemirror_mode": {
    "name": "ipython",
    "version": 3
   },
   "file_extension": ".py",
   "mimetype": "text/x-python",
   "name": "python",
   "nbconvert_exporter": "python",
   "pygments_lexer": "ipython3",
   "version": "3.9.7"
  }
 },
 "nbformat": 4,
 "nbformat_minor": 5
}
