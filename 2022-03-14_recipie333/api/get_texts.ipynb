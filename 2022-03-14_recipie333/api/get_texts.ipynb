{
 "cells": [
  {
   "cell_type": "code",
   "execution_count": null,
   "id": "8b19d28c",
   "metadata": {},
   "outputs": [],
   "source": [
    "from flask import request, jsonify, Blueprint\n",
    "import numpy as np\n",
    "\n",
    "from lib.function import get_data, cos_sim\n",
    "from lib.nlp_function import text_to_vector\n",
    "\n",
    "api = Blueprint(\"api\", __name__)\n",
    "\n",
    "#取得文章をベクトルに変換\n",
    "data_path = \"data/text.txt\"\n",
    "text_list = get_data(data_path)\n",
    "text_vector_list = text_to_vector(text_list)\n",
    "\n",
    "@api.route(\"/get_texts\", methods=[\"GET\"])\n",
    "def get_texts():\n",
    "    #類似度の閾値\n",
    "    thred_value = 0.8\n",
    "\n",
    "    text = request.args.get('value', '')\n",
    "\n",
    "    #文章をベクトル化\n",
    "    text_vector = text_to_vector([text])[0]\n",
    "\n",
    "    cos_sim_list = []\n",
    "    for i, t_v in enumerate(text_vector_list):\n",
    "        #類似度取得\n",
    "        sim_value = cos_sim(t_v, text_vector)\n",
    "        #類似度が閾値以上の文章と類似度をリストに格納\n",
    "        if sim_value >= thred_value:\n",
    "            cos_sim_list.append({\"text\":text_list[i], \"value\":str(sim_value)})\n",
    "\n",
    "    #類似度が降順に並び替え\n",
    "    cos_sim_list = sorted(cos_sim_list, key=lambda x: x[\"value\"], reverse=True)\n",
    "\n",
    "    return jsonify(cos_sim_list)"
   ]
  }
 ],
 "metadata": {
  "kernelspec": {
   "display_name": "Python 3 (ipykernel)",
   "language": "python",
   "name": "python3"
  },
  "language_info": {
   "codemirror_mode": {
    "name": "ipython",
    "version": 3
   },
   "file_extension": ".py",
   "mimetype": "text/x-python",
   "name": "python",
   "nbconvert_exporter": "python",
   "pygments_lexer": "ipython3",
   "version": "3.9.7"
  }
 },
 "nbformat": 4,
 "nbformat_minor": 5
}
