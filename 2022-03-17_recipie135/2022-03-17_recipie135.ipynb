{
 "cells": [
  {
   "cell_type": "code",
   "execution_count": 1,
   "metadata": {
    "id": "9XZz5gaie4bB"
   },
   "outputs": [
    {
     "name": "stdout",
     "output_type": "stream",
     "text": [
      "Requirement already satisfied: openai in c:\\users\\isk\\anaconda3\\lib\\site-packages (0.15.0)\n",
      "Requirement already satisfied: openpyxl>=3.0.7 in c:\\users\\isk\\anaconda3\\lib\\site-packages (from openai) (3.0.9)\n",
      "Requirement already satisfied: pandas>=1.2.3 in c:\\users\\isk\\anaconda3\\lib\\site-packages (from openai) (1.3.4)\n",
      "Requirement already satisfied: tqdm in c:\\users\\isk\\anaconda3\\lib\\site-packages (from openai) (4.62.3)\n",
      "Requirement already satisfied: pandas-stubs>=1.1.0.11 in c:\\users\\isk\\anaconda3\\lib\\site-packages (from openai) (1.2.0.50)\n",
      "Requirement already satisfied: requests>=2.20 in c:\\users\\isk\\anaconda3\\lib\\site-packages (from openai) (2.26.0)\n",
      "Requirement already satisfied: et-xmlfile in c:\\users\\isk\\anaconda3\\lib\\site-packages (from openpyxl>=3.0.7->openai) (1.1.0)\n",
      "Requirement already satisfied: pytz>=2017.3 in c:\\users\\isk\\anaconda3\\lib\\site-packages (from pandas>=1.2.3->openai) (2021.3)\n",
      "Requirement already satisfied: numpy>=1.17.3 in c:\\users\\isk\\anaconda3\\lib\\site-packages (from pandas>=1.2.3->openai) (1.20.3)\n",
      "Requirement already satisfied: python-dateutil>=2.7.3 in c:\\users\\isk\\anaconda3\\lib\\site-packages (from pandas>=1.2.3->openai) (2.8.2)\n",
      "Requirement already satisfied: six>=1.5 in c:\\users\\isk\\anaconda3\\lib\\site-packages (from python-dateutil>=2.7.3->pandas>=1.2.3->openai) (1.16.0)\n",
      "Requirement already satisfied: charset-normalizer~=2.0.0 in c:\\users\\isk\\anaconda3\\lib\\site-packages (from requests>=2.20->openai) (2.0.4)\n",
      "Requirement already satisfied: urllib3<1.27,>=1.21.1 in c:\\users\\isk\\anaconda3\\lib\\site-packages (from requests>=2.20->openai) (1.26.7)\n",
      "Requirement already satisfied: idna<4,>=2.5 in c:\\users\\isk\\anaconda3\\lib\\site-packages (from requests>=2.20->openai) (3.2)\n",
      "Requirement already satisfied: certifi>=2017.4.17 in c:\\users\\isk\\anaconda3\\lib\\site-packages (from requests>=2.20->openai) (2021.10.8)\n",
      "Requirement already satisfied: colorama in c:\\users\\isk\\anaconda3\\lib\\site-packages (from tqdm->openai) (0.4.4)\n"
     ]
    }
   ],
   "source": [
    "# ライブラリのインストール\n",
    "!pip install openai"
   ]
  },
  {
   "cell_type": "code",
   "execution_count": 3,
   "metadata": {},
   "outputs": [
    {
     "name": "stdout",
     "output_type": "stream",
     "text": [
      "\n",
      "2021年3月2日\n",
      "Title:人工知能は人間の仕事を奪うのか？\n",
      "Tags:人工知能,機械学習,シンギュラリティ\n",
      "Summary:人工知能が人間の知性を超えた時に人間の仕事が奪われるのではないかという危険性について説明する。\n",
      "Full Text:\n",
      "最近、人工知能(AI)や機械学習(ML)について話題になっています。そこで、この技術が人間の知性を超えた時に人間の仕事が奪われるのではないかという懸念を持っている人が増えているという話を聞きました。\n",
      "\n",
      "まず、人工知能が人間の仕事を奪うということを確認しておきましょう。\n",
      "\n",
      "人工知能が人間の仕事を奪うという言い方\n",
      "\n",
      "私がこの話を聞いた時には、人工知能が人間の仕事を奪うという言い方に違和感を覚えました。人工知能が人間以上に優れた能力を発揮すれば、人間はそれ以上の仕事をしないでいいのではないかと思ってしまいます。\n",
      "\n",
      "では、どういう言い方が適切なのでしょうか。\n",
      "\n",
      "AIが人間の仕事を奪うという言い方\n",
      "\n",
      "AIが人間の仕事を奪うという言い方に該当するのが、AIが人間の仕事を奪うのではないかという言い方です。\n",
      "\n",
      "人工知能が人間の知性を超えるということは、機械が人間の知能を超えるということに等しいので、人工知能が人間の仕事を奪うという言い方に該当します。\n",
      "\n",
      "\n",
      "\n",
      "AIのシンギュラリティはどういうことか？\n",
      "\n",
      "AIは人間の知性を超えるという言い方が、AIが人間の仕事を奪うという言い方に該当するので、AIのシンギュラリティについて説明します。\n",
      "\n",
      "AIのシンギュラリティとは、AIが人間の仕事を奪うということを意味します。AIが人間の仕事を奪って、人間はそれ以上の仕事をしなくていいということです。\n",
      "\n",
      "AIが人間の仕事を奪った時に、それまでは人間の仕事が必要だったのに、人間はそれ以上の仕事をしなくていいというのは非常に不自然です。では人間はどうするのかというと、人間はAIの仕事を奪うということになります。\n",
      "\n",
      "AIの能力が人間の能力を超えた時に、人間はAIの仕事を奪うということが、AIのシンギュラリティということになります。\n",
      "\n",
      "AIのシンギュラリティは、AIが人間の仕事を奪うということではなく、AIの能力が人間の能力を超えた時に、人間はAIの仕事を奪うということになるので、AIのシンギュラリティはAIの能力が人間の能力を超えた時に、人間はAIの仕事を奪うということではなく、人間はAIの能力を超えた時に、人間の能力を超えたAIと共に仕事をするということを意味します。\n",
      "\n",
      "AIが人間の仕事を奪うという場合も、AIのシンギュラリティが起これば、人間はAIの仕事を奪うことになります。\n",
      "\n",
      "AIではなく、人間が人間の仕事を奪うということは、AIのシンギュラリティが起こった時に、人間はAIの仕事を奪ったということになります。人工知能が人間の仕事を奪うという\n"
     ]
    }
   ],
   "source": [
    "!python 2022-03-17_recipie135main.py"
   ]
  }
 ],
 "metadata": {
  "colab": {
   "authorship_tag": "ABX9TyP5sL9pkOeHu4g3qyd/4XEP",
   "collapsed_sections": [],
   "name": "2022-03-14_recipie135.ipynb",
   "provenance": []
  },
  "kernelspec": {
   "display_name": "Python 3 (ipykernel)",
   "language": "python",
   "name": "python3"
  },
  "language_info": {
   "codemirror_mode": {
    "name": "ipython",
    "version": 3
   },
   "file_extension": ".py",
   "mimetype": "text/x-python",
   "name": "python",
   "nbconvert_exporter": "python",
   "pygments_lexer": "ipython3",
   "version": "3.9.7"
  }
 },
 "nbformat": 4,
 "nbformat_minor": 1
}
