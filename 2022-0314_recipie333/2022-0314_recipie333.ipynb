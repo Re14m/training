{
 "cells": [
  {
   "cell_type": "code",
   "execution_count": null,
   "metadata": {
    "colab": {
     "base_uri": "https://localhost:8080/"
    },
    "executionInfo": {
     "elapsed": 3698,
     "status": "ok",
     "timestamp": 1647217554221,
     "user": {
      "displayName": "iseki marie",
      "photoUrl": "https://lh3.googleusercontent.com/a-/AOh14Gj1FMExOt8sHQbBOQ7F-93ZUuITsGOfFMqfal1T=s64",
      "userId": "09150555860364815380"
     },
     "user_tz": -540
    },
    "id": "HBe7dfBIl3LD",
    "outputId": "2c5ff393-50c1-45d3-b0ef-6a52710eb688"
   },
   "outputs": [],
   "source": [
    "# ライブラリのインストール\n",
    "# transformers,torch = BERT利用\n",
    "# fugashi,ipadic = BERTへ入力するデータの前処理\n",
    "# flask, flask_cors = REST API作成\n",
    "!pip install transformers torch fugashi ipadic flask flask_cors"
   ]
  },
  {
   "cell_type": "code",
   "execution_count": null,
   "metadata": {
    "colab": {
     "base_uri": "https://localhost:8080/"
    },
    "executionInfo": {
     "elapsed": 271,
     "status": "ok",
     "timestamp": 1647217562841,
     "user": {
      "displayName": "iseki marie",
      "photoUrl": "https://lh3.googleusercontent.com/a-/AOh14Gj1FMExOt8sHQbBOQ7F-93ZUuITsGOfFMqfal1T=s64",
      "userId": "09150555860364815380"
     },
     "user_tz": -540
    },
    "id": "dUUNb3auqj2b",
    "outputId": "4b725ea6-19be-427d-e42c-e652745431c9"
   },
   "outputs": [],
   "source": [
    "# ディレクトリ作成 = data,api,lib\n",
    "!mkdir data api lib"
   ]
  },
  {
   "cell_type": "code",
   "execution_count": null,
   "metadata": {
    "executionInfo": {
     "elapsed": 413,
     "status": "ok",
     "timestamp": 1647217566095,
     "user": {
      "displayName": "iseki marie",
      "photoUrl": "https://lh3.googleusercontent.com/a-/AOh14Gj1FMExOt8sHQbBOQ7F-93ZUuITsGOfFMqfal1T=s64",
      "userId": "09150555860364815380"
     },
     "user_tz": -540
    },
    "id": "8kMBBypOmgoq"
   },
   "outputs": [],
   "source": [
    "# 検索対象となる文章をtxtファイル化する\n",
    "with open(r'./data/text.txt','w+',encoding='utf-8') as msg:\n",
    " input = '明日晴れるかな。\\n私はアイスクリームが好きです。お腹すいた。\\n今日の夜ご飯はオムレツだ。\\n昨日よりも成長していたい。\\n雨の日は嫌いです。\\nこの前よりも大きくなりました。\\n新しい携帯が欲しい。\\n運動がしたい。\\nコロナウイルスが早くなくならないかな。\\n街に出て、買い物をするのが好きだ。\\nこれからもずっと好きでいよう。\\nマスクは定期的に必要です。\\n機械学習って何なんだろう。\\n少し肌寒くなってきました。\\n新しい物に目がない。\\n毎日同じことをずっとしていると飽きてきてしまう。\\n春と秋を比べると、花粉症のない秋の方が好きだ。'\n",
    " msg.write(input)"
   ]
  },
  {
   "cell_type": "code",
   "execution_count": null,
   "metadata": {
    "colab": {
     "base_uri": "https://localhost:8080/"
    },
    "executionInfo": {
     "elapsed": 265,
     "status": "ok",
     "timestamp": 1647219080916,
     "user": {
      "displayName": "iseki marie",
      "photoUrl": "https://lh3.googleusercontent.com/a-/AOh14Gj1FMExOt8sHQbBOQ7F-93ZUuITsGOfFMqfal1T=s64",
      "userId": "09150555860364815380"
     },
     "user_tz": -540
    },
    "id": "UJBf9aybz6R_",
    "outputId": "74b7fe01-7908-4393-b5bc-646824fa3ff2"
   },
   "outputs": [],
   "source": [
    "# main.pyを実行\n",
    "!python 2022-03-14_recipie333main.py"
   ]
  }
 ],
 "metadata": {
  "colab": {
   "authorship_tag": "ABX9TyN1TBR9xZsXb0pFhqtsXk+q",
   "collapsed_sections": [],
   "mount_file_id": "1-8mDFojN7ER_9pru-Xhc347eh25nvGoR",
   "name": "2022-03-14_recipie333.ipynb",
   "provenance": []
  },
  "kernelspec": {
   "display_name": "Python 3 (ipykernel)",
   "language": "python",
   "name": "python3"
  },
  "language_info": {
   "codemirror_mode": {
    "name": "ipython",
    "version": 3
   },
   "file_extension": ".py",
   "mimetype": "text/x-python",
   "name": "python",
   "nbconvert_exporter": "python",
   "pygments_lexer": "ipython3",
   "version": "3.9.7"
  }
 },
 "nbformat": 4,
 "nbformat_minor": 1
}
