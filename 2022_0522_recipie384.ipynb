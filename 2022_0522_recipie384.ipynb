{
  "nbformat": 4,
  "nbformat_minor": 0,
  "metadata": {
    "colab": {
      "name": "2022-0522_recipie384.ipynb",
      "private_outputs": true,
      "provenance": [],
      "collapsed_sections": [],
      "authorship_tag": "ABX9TyPCpqBU/dpOcq/cL1vKtgY6",
      "include_colab_link": true
    },
    "kernelspec": {
      "name": "python3",
      "display_name": "Python 3"
    },
    "language_info": {
      "name": "python"
    },
    "accelerator": "GPU"
  },
  "cells": [
    {
      "cell_type": "markdown",
      "metadata": {
        "id": "view-in-github",
        "colab_type": "text"
      },
      "source": [
        "<a href=\"https://colab.research.google.com/github/Re14m/training/blob/master/2022_0522_recipie384.ipynb\" target=\"_parent\"><img src=\"https://colab.research.google.com/assets/colab-badge.svg\" alt=\"Open In Colab\"/></a>"
      ]
    },
    {
      "cell_type": "markdown",
      "source": [
        "# [【Lesson2】Pythonで数値の扱い方を学ぶレシピ](https://axross-recipe.com/recipes/384)"
      ],
      "metadata": {
        "id": "WdrA5_TGFRsx"
      }
    },
    {
      "cell_type": "code",
      "execution_count": null,
      "metadata": {
        "id": "8cigX6CkFO2x"
      },
      "outputs": [],
      "source": [
        "# 平均値=Mean\n",
        "import numpy\n",
        "speed = [65,23,43,67,45,75,67,64,67,64,87,86,54,35,56]\n",
        "x = numpy.mean(speed)\n",
        "print(x)"
      ]
    },
    {
      "cell_type": "code",
      "source": [
        "# 中央値=Median\n",
        "import numpy\n",
        "speed = [65,23,43,67,45,75,67,64,67,64,87,86,54,35,56]\n",
        "x = numpy.median(speed)\n",
        "print(x)"
      ],
      "metadata": {
        "id": "t_-MT08ZGd4j"
      },
      "execution_count": null,
      "outputs": []
    },
    {
      "cell_type": "code",
      "source": [
        "# 最頻値=Mode\n",
        "from scipy import stats\n",
        "speed = [65,23,43,67,45,75,67,64,67,64,87,86,54,35,56]\n",
        "x = stats.mode(speed)\n",
        "print(x)"
      ],
      "metadata": {
        "id": "Q3MAY-Z1GluE"
      },
      "execution_count": null,
      "outputs": []
    },
    {
      "cell_type": "code",
      "source": [
        "# 標準偏差=Standard deviation\n",
        "import numpy\n",
        "speed = [65,23,43,67,45,75,67,64,67,64,87,86,54,35,56]\n",
        "x = numpy.std(speed)\n",
        "print(x)"
      ],
      "metadata": {
        "id": "q92D8AagGt8Z"
      },
      "execution_count": null,
      "outputs": []
    },
    {
      "cell_type": "code",
      "source": [
        "# パーセンタイル値=Percentile\n",
        "import numpy\n",
        "speed = [65,23,43,67,45,75,67,64,67,64,87,86,54,35,56]\n",
        "x = numpy.percentile(speed, 80)\n",
        "print(x)"
      ],
      "metadata": {
        "id": "rCHKSSwMG4Di"
      },
      "execution_count": null,
      "outputs": []
    },
    {
      "cell_type": "code",
      "source": [
        "# テスト\n",
        "import numpy\n",
        "from scipy import stats\n",
        "\n",
        "array = [99,86,87,88,111,86,103,87,94,78,77,85,86]\n",
        "a = numpy.mean(array)\n",
        "b = numpy.median(array)\n",
        "c = stats.mode(array)\n",
        "d = numpy.std(array)\n",
        "e = numpy.percentile(array, 80)\n",
        "print(\"平均: \" + str(a))\n",
        "print(\"中央値: \" + str(b))\n",
        "print(\"最頻値: \" + str(c))\n",
        "print(\"標準偏差: \" + str(d))\n",
        "print(\"パーセンタイル値: \" + str(e))"
      ],
      "metadata": {
        "id": "1hsRDIrgG8gx"
      },
      "execution_count": null,
      "outputs": []
    }
  ]
}