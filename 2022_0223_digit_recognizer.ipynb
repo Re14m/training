{
  "nbformat": 4,
  "nbformat_minor": 0,
  "metadata": {
    "colab": {
      "name": "2022-0223_digit-recognizer.ipynb",
      "provenance": [],
      "collapsed_sections": [],
      "mount_file_id": "1TspSzSez4auOYs1H27Bnqzzp5gmuaCr9",
      "authorship_tag": "ABX9TyMQdz8IbvUpDdw070675Cc0",
      "include_colab_link": true
    },
    "kernelspec": {
      "name": "python3",
      "display_name": "Python 3"
    },
    "language_info": {
      "name": "python"
    },
    "accelerator": "GPU",
    "widgets": {
      "application/vnd.jupyter.widget-state+json": {
        "4c86ef86e17d422eb1cf2ecdeedd9991": {
          "model_module": "@jupyter-widgets/controls",
          "model_name": "HBoxModel",
          "model_module_version": "1.5.0",
          "state": {
            "_view_name": "HBoxView",
            "_dom_classes": [],
            "_model_name": "HBoxModel",
            "_view_module": "@jupyter-widgets/controls",
            "_model_module_version": "1.5.0",
            "_view_count": null,
            "_view_module_version": "1.5.0",
            "box_style": "",
            "layout": "IPY_MODEL_3478ae29b0b548f380b318969cf8af1e",
            "_model_module": "@jupyter-widgets/controls",
            "children": [
              "IPY_MODEL_89c3220540bf49219703b65a40d913ba",
              "IPY_MODEL_4c32215f13d642c2af77fdbd42fd3393",
              "IPY_MODEL_fe536bd750aa44aaa0e615895dd3e28d"
            ]
          }
        },
        "3478ae29b0b548f380b318969cf8af1e": {
          "model_module": "@jupyter-widgets/base",
          "model_name": "LayoutModel",
          "model_module_version": "1.2.0",
          "state": {
            "_view_name": "LayoutView",
            "grid_template_rows": null,
            "right": null,
            "justify_content": null,
            "_view_module": "@jupyter-widgets/base",
            "overflow": null,
            "_model_module_version": "1.2.0",
            "_view_count": null,
            "flex_flow": null,
            "width": null,
            "min_width": null,
            "border": null,
            "align_items": null,
            "bottom": null,
            "_model_module": "@jupyter-widgets/base",
            "top": null,
            "grid_column": null,
            "overflow_y": null,
            "overflow_x": null,
            "grid_auto_flow": null,
            "grid_area": null,
            "grid_template_columns": null,
            "flex": null,
            "_model_name": "LayoutModel",
            "justify_items": null,
            "grid_row": null,
            "max_height": null,
            "align_content": null,
            "visibility": null,
            "align_self": null,
            "height": null,
            "min_height": null,
            "padding": null,
            "grid_auto_rows": null,
            "grid_gap": null,
            "max_width": null,
            "order": null,
            "_view_module_version": "1.2.0",
            "grid_template_areas": null,
            "object_position": null,
            "object_fit": null,
            "grid_auto_columns": null,
            "margin": null,
            "display": null,
            "left": null
          }
        },
        "89c3220540bf49219703b65a40d913ba": {
          "model_module": "@jupyter-widgets/controls",
          "model_name": "HTMLModel",
          "model_module_version": "1.5.0",
          "state": {
            "_view_name": "HTMLView",
            "style": "IPY_MODEL_9b502e039c354bf0b3ad10bdba085239",
            "_dom_classes": [],
            "description": "",
            "_model_name": "HTMLModel",
            "placeholder": "​",
            "_view_module": "@jupyter-widgets/controls",
            "_model_module_version": "1.5.0",
            "value": "100%",
            "_view_count": null,
            "_view_module_version": "1.5.0",
            "description_tooltip": null,
            "_model_module": "@jupyter-widgets/controls",
            "layout": "IPY_MODEL_038616d8b48a470aae1e2cd888a4c3c0"
          }
        },
        "4c32215f13d642c2af77fdbd42fd3393": {
          "model_module": "@jupyter-widgets/controls",
          "model_name": "FloatProgressModel",
          "model_module_version": "1.5.0",
          "state": {
            "_view_name": "ProgressView",
            "style": "IPY_MODEL_b2f8c5cf0c20409bb6deb492fae1439c",
            "_dom_classes": [],
            "description": "",
            "_model_name": "FloatProgressModel",
            "bar_style": "success",
            "max": 46830571,
            "_view_module": "@jupyter-widgets/controls",
            "_model_module_version": "1.5.0",
            "value": 46830571,
            "_view_count": null,
            "_view_module_version": "1.5.0",
            "orientation": "horizontal",
            "min": 0,
            "description_tooltip": null,
            "_model_module": "@jupyter-widgets/controls",
            "layout": "IPY_MODEL_0b63b04861044294a1d2a57d21476b29"
          }
        },
        "fe536bd750aa44aaa0e615895dd3e28d": {
          "model_module": "@jupyter-widgets/controls",
          "model_name": "HTMLModel",
          "model_module_version": "1.5.0",
          "state": {
            "_view_name": "HTMLView",
            "style": "IPY_MODEL_c311ffe801d64552bcff658b8c12ad1e",
            "_dom_classes": [],
            "description": "",
            "_model_name": "HTMLModel",
            "placeholder": "​",
            "_view_module": "@jupyter-widgets/controls",
            "_model_module_version": "1.5.0",
            "value": " 44.7M/44.7M [00:00&lt;00:00, 89.7MB/s]",
            "_view_count": null,
            "_view_module_version": "1.5.0",
            "description_tooltip": null,
            "_model_module": "@jupyter-widgets/controls",
            "layout": "IPY_MODEL_ae326057dc4c49e59b328224dbb959e4"
          }
        },
        "9b502e039c354bf0b3ad10bdba085239": {
          "model_module": "@jupyter-widgets/controls",
          "model_name": "DescriptionStyleModel",
          "model_module_version": "1.5.0",
          "state": {
            "_view_name": "StyleView",
            "_model_name": "DescriptionStyleModel",
            "description_width": "",
            "_view_module": "@jupyter-widgets/base",
            "_model_module_version": "1.5.0",
            "_view_count": null,
            "_view_module_version": "1.2.0",
            "_model_module": "@jupyter-widgets/controls"
          }
        },
        "038616d8b48a470aae1e2cd888a4c3c0": {
          "model_module": "@jupyter-widgets/base",
          "model_name": "LayoutModel",
          "model_module_version": "1.2.0",
          "state": {
            "_view_name": "LayoutView",
            "grid_template_rows": null,
            "right": null,
            "justify_content": null,
            "_view_module": "@jupyter-widgets/base",
            "overflow": null,
            "_model_module_version": "1.2.0",
            "_view_count": null,
            "flex_flow": null,
            "width": null,
            "min_width": null,
            "border": null,
            "align_items": null,
            "bottom": null,
            "_model_module": "@jupyter-widgets/base",
            "top": null,
            "grid_column": null,
            "overflow_y": null,
            "overflow_x": null,
            "grid_auto_flow": null,
            "grid_area": null,
            "grid_template_columns": null,
            "flex": null,
            "_model_name": "LayoutModel",
            "justify_items": null,
            "grid_row": null,
            "max_height": null,
            "align_content": null,
            "visibility": null,
            "align_self": null,
            "height": null,
            "min_height": null,
            "padding": null,
            "grid_auto_rows": null,
            "grid_gap": null,
            "max_width": null,
            "order": null,
            "_view_module_version": "1.2.0",
            "grid_template_areas": null,
            "object_position": null,
            "object_fit": null,
            "grid_auto_columns": null,
            "margin": null,
            "display": null,
            "left": null
          }
        },
        "b2f8c5cf0c20409bb6deb492fae1439c": {
          "model_module": "@jupyter-widgets/controls",
          "model_name": "ProgressStyleModel",
          "model_module_version": "1.5.0",
          "state": {
            "_view_name": "StyleView",
            "_model_name": "ProgressStyleModel",
            "description_width": "",
            "_view_module": "@jupyter-widgets/base",
            "_model_module_version": "1.5.0",
            "_view_count": null,
            "_view_module_version": "1.2.0",
            "bar_color": null,
            "_model_module": "@jupyter-widgets/controls"
          }
        },
        "0b63b04861044294a1d2a57d21476b29": {
          "model_module": "@jupyter-widgets/base",
          "model_name": "LayoutModel",
          "model_module_version": "1.2.0",
          "state": {
            "_view_name": "LayoutView",
            "grid_template_rows": null,
            "right": null,
            "justify_content": null,
            "_view_module": "@jupyter-widgets/base",
            "overflow": null,
            "_model_module_version": "1.2.0",
            "_view_count": null,
            "flex_flow": null,
            "width": null,
            "min_width": null,
            "border": null,
            "align_items": null,
            "bottom": null,
            "_model_module": "@jupyter-widgets/base",
            "top": null,
            "grid_column": null,
            "overflow_y": null,
            "overflow_x": null,
            "grid_auto_flow": null,
            "grid_area": null,
            "grid_template_columns": null,
            "flex": null,
            "_model_name": "LayoutModel",
            "justify_items": null,
            "grid_row": null,
            "max_height": null,
            "align_content": null,
            "visibility": null,
            "align_self": null,
            "height": null,
            "min_height": null,
            "padding": null,
            "grid_auto_rows": null,
            "grid_gap": null,
            "max_width": null,
            "order": null,
            "_view_module_version": "1.2.0",
            "grid_template_areas": null,
            "object_position": null,
            "object_fit": null,
            "grid_auto_columns": null,
            "margin": null,
            "display": null,
            "left": null
          }
        },
        "c311ffe801d64552bcff658b8c12ad1e": {
          "model_module": "@jupyter-widgets/controls",
          "model_name": "DescriptionStyleModel",
          "model_module_version": "1.5.0",
          "state": {
            "_view_name": "StyleView",
            "_model_name": "DescriptionStyleModel",
            "description_width": "",
            "_view_module": "@jupyter-widgets/base",
            "_model_module_version": "1.5.0",
            "_view_count": null,
            "_view_module_version": "1.2.0",
            "_model_module": "@jupyter-widgets/controls"
          }
        },
        "ae326057dc4c49e59b328224dbb959e4": {
          "model_module": "@jupyter-widgets/base",
          "model_name": "LayoutModel",
          "model_module_version": "1.2.0",
          "state": {
            "_view_name": "LayoutView",
            "grid_template_rows": null,
            "right": null,
            "justify_content": null,
            "_view_module": "@jupyter-widgets/base",
            "overflow": null,
            "_model_module_version": "1.2.0",
            "_view_count": null,
            "flex_flow": null,
            "width": null,
            "min_width": null,
            "border": null,
            "align_items": null,
            "bottom": null,
            "_model_module": "@jupyter-widgets/base",
            "top": null,
            "grid_column": null,
            "overflow_y": null,
            "overflow_x": null,
            "grid_auto_flow": null,
            "grid_area": null,
            "grid_template_columns": null,
            "flex": null,
            "_model_name": "LayoutModel",
            "justify_items": null,
            "grid_row": null,
            "max_height": null,
            "align_content": null,
            "visibility": null,
            "align_self": null,
            "height": null,
            "min_height": null,
            "padding": null,
            "grid_auto_rows": null,
            "grid_gap": null,
            "max_width": null,
            "order": null,
            "_view_module_version": "1.2.0",
            "grid_template_areas": null,
            "object_position": null,
            "object_fit": null,
            "grid_auto_columns": null,
            "margin": null,
            "display": null,
            "left": null
          }
        }
      }
    }
  },
  "cells": [
    {
      "cell_type": "markdown",
      "metadata": {
        "id": "view-in-github",
        "colab_type": "text"
      },
      "source": [
        "<a href=\"https://colab.research.google.com/github/Re14m/isk/blob/master/2022_0223_digit_recognizer.ipynb\" target=\"_parent\"><img src=\"https://colab.research.google.com/assets/colab-badge.svg\" alt=\"Open In Colab\"/></a>"
      ]
    },
    {
      "cell_type": "code",
      "execution_count": 1,
      "metadata": {
        "id": "mwtbV8EXoGzX",
        "colab": {
          "base_uri": "https://localhost:8080/"
        },
        "outputId": "a80afc8c-da4e-44a2-a313-b1017d2e56f1"
      },
      "outputs": [
        {
          "output_type": "stream",
          "name": "stdout",
          "text": [
            "Mounted at /content/drive\n"
          ]
        }
      ],
      "source": [
        "#Google Driveをマウント\n",
        "from google.colab import drive\n",
        "drive.mount('/content/drive')"
      ]
    },
    {
      "cell_type": "code",
      "source": [
        "#Kaggle APIのインストール\n",
        "!pip install kaggle"
      ],
      "metadata": {
        "id": "LS7NiauPpfCh",
        "colab": {
          "base_uri": "https://localhost:8080/"
        },
        "outputId": "d188dbc9-50b9-4116-9347-377355114ede"
      },
      "execution_count": 2,
      "outputs": [
        {
          "output_type": "stream",
          "name": "stdout",
          "text": [
            "Requirement already satisfied: kaggle in /usr/local/lib/python3.7/dist-packages (1.5.12)\n",
            "Requirement already satisfied: urllib3 in /usr/local/lib/python3.7/dist-packages (from kaggle) (1.24.3)\n",
            "Requirement already satisfied: requests in /usr/local/lib/python3.7/dist-packages (from kaggle) (2.23.0)\n",
            "Requirement already satisfied: python-slugify in /usr/local/lib/python3.7/dist-packages (from kaggle) (6.0.1)\n",
            "Requirement already satisfied: tqdm in /usr/local/lib/python3.7/dist-packages (from kaggle) (4.62.3)\n",
            "Requirement already satisfied: certifi in /usr/local/lib/python3.7/dist-packages (from kaggle) (2021.10.8)\n",
            "Requirement already satisfied: python-dateutil in /usr/local/lib/python3.7/dist-packages (from kaggle) (2.8.2)\n",
            "Requirement already satisfied: six>=1.10 in /usr/local/lib/python3.7/dist-packages (from kaggle) (1.15.0)\n",
            "Requirement already satisfied: text-unidecode>=1.3 in /usr/local/lib/python3.7/dist-packages (from python-slugify->kaggle) (1.3)\n",
            "Requirement already satisfied: idna<3,>=2.5 in /usr/local/lib/python3.7/dist-packages (from requests->kaggle) (2.10)\n",
            "Requirement already satisfied: chardet<4,>=3.0.2 in /usr/local/lib/python3.7/dist-packages (from requests->kaggle) (3.0.4)\n"
          ]
        }
      ]
    },
    {
      "cell_type": "code",
      "source": [
        "#jsonで認証\n",
        "from google.colab import files\n",
        "uploaded = files.upload()\n",
        "\n",
        "for fn in uploaded.keys():\n",
        "  print('User uploaded file \"{name}\" with length {length} bytes'.format(\n",
        "      name=fn, length=len(uploaded[fn])))\n",
        "\n",
        "# Then move kaggle.json into the folder where the API expects to find it.\n",
        "!mkdir -p ~/.kaggle/ && mv kaggle.json ~/.kaggle/ && chmod 600 ~/.kaggle/kaggle.json"
      ],
      "metadata": {
        "id": "rMJ7JWyWp4_p",
        "colab": {
          "resources": {
            "http://localhost:8080/nbextensions/google.colab/files.js": {
              "data": "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",
              "ok": true,
              "headers": [
                [
                  "content-type",
                  "application/javascript"
                ]
              ],
              "status": 200,
              "status_text": ""
            }
          },
          "base_uri": "https://localhost:8080/",
          "height": 95
        },
        "outputId": "b6210e55-5596-4f90-b38d-bfd06d4e01fd"
      },
      "execution_count": 3,
      "outputs": [
        {
          "output_type": "display_data",
          "data": {
            "text/html": [
              "\n",
              "     <input type=\"file\" id=\"files-0436e8d1-812e-4c43-8295-1e80dd1f1c57\" name=\"files[]\" multiple disabled\n",
              "        style=\"border:none\" />\n",
              "     <output id=\"result-0436e8d1-812e-4c43-8295-1e80dd1f1c57\">\n",
              "      Upload widget is only available when the cell has been executed in the\n",
              "      current browser session. Please rerun this cell to enable.\n",
              "      </output>\n",
              "      <script src=\"/nbextensions/google.colab/files.js\"></script> "
            ],
            "text/plain": [
              "<IPython.core.display.HTML object>"
            ]
          },
          "metadata": {}
        },
        {
          "output_type": "stream",
          "name": "stdout",
          "text": [
            "Saving kaggle.json to kaggle.json\n",
            "User uploaded file \"kaggle.json\" with length 62 bytes\n"
          ]
        }
      ]
    },
    {
      "cell_type": "code",
      "source": [
        "#datasetダウンロード\n",
        "!kaggle competitions download -c digit-recognizer"
      ],
      "metadata": {
        "colab": {
          "base_uri": "https://localhost:8080/"
        },
        "id": "qarpIPKqBNXg",
        "outputId": "aca371d0-55d3-4776-b8fa-b3ddb7243704"
      },
      "execution_count": 4,
      "outputs": [
        {
          "output_type": "stream",
          "name": "stdout",
          "text": [
            "Warning: Looks like you're using an outdated API Version, please consider updating (server 1.5.12 / client 1.5.4)\n",
            "Downloading train.csv.zip to /content\n",
            " 76% 7.00M/9.16M [00:00<00:00, 62.1MB/s]\n",
            "100% 9.16M/9.16M [00:00<00:00, 54.3MB/s]\n",
            "Downloading sample_submission.csv to /content\n",
            "  0% 0.00/235k [00:00<?, ?B/s]\n",
            "100% 235k/235k [00:00<00:00, 109MB/s]\n",
            "Downloading test.csv.zip to /content\n",
            " 82% 5.00M/6.09M [00:00<00:00, 49.8MB/s]\n",
            "100% 6.09M/6.09M [00:00<00:00, 49.2MB/s]\n"
          ]
        }
      ]
    },
    {
      "cell_type": "code",
      "source": [
        "#zip解凍\n",
        "!unzip train.csv.zip\n",
        "!unzip test.csv.zip"
      ],
      "metadata": {
        "colab": {
          "base_uri": "https://localhost:8080/"
        },
        "id": "JtzJn02dCGY0",
        "outputId": "6be0b17c-2df1-4145-af84-3212c2a92111"
      },
      "execution_count": 7,
      "outputs": [
        {
          "output_type": "stream",
          "name": "stdout",
          "text": [
            "Archive:  train.csv.zip\n",
            "  inflating: train.csv               \n",
            "Archive:  test.csv.zip\n",
            "  inflating: test.csv                \n"
          ]
        }
      ]
    },
    {
      "cell_type": "code",
      "source": [
        "# ライブラリをインポート\n",
        "import  numpy as np\n",
        "import pandas as pd\n",
        "import matplotlib.pyplot as plt\n",
        "import os\n",
        "from tqdm import tqdm\n",
        "import seaborn as sns\n",
        "from sklearn.model_selection import train_test_split\n",
        "import warnings\n",
        "warnings.filterwarnings(\"ignore\")\n",
        "\n",
        "import torch\n",
        "import torch.nn as nn\n",
        "import torchvision\n",
        "from torch.utils.data import DataLoader, Dataset\n",
        "from torchvision import transforms"
      ],
      "metadata": {
        "id": "Cb5bbgyCSNIg"
      },
      "execution_count": 5,
      "outputs": []
    },
    {
      "cell_type": "code",
      "source": [
        "# CSVファイルを読み込み、正解ラベルのデータを分ける\n",
        "data = pd.read_csv('train.csv', dtype = np.float32)\n",
        "labels = data.pop('label').astype('int64')"
      ],
      "metadata": {
        "id": "BkkrPJbhX2oF"
      },
      "execution_count": 8,
      "outputs": []
    },
    {
      "cell_type": "code",
      "source": [
        "# 0～255のピクセルデータを0～1に変換\n",
        "data = data.to_numpy() / 255.0\n",
        "labels = labels.to_numpy()"
      ],
      "metadata": {
        "id": "3WlxLKjmX7fe"
      },
      "execution_count": 9,
      "outputs": []
    },
    {
      "cell_type": "code",
      "source": [
        "data = data.reshape(-1, 28, 28, 1)\n",
        "labels = labels.reshape(-1,1)\n",
        "print(labels.shape)"
      ],
      "metadata": {
        "colab": {
          "base_uri": "https://localhost:8080/"
        },
        "id": "mXWxE5slZNnC",
        "outputId": "d7535f33-620a-43c8-a533-8742eef8ba5b"
      },
      "execution_count": 10,
      "outputs": [
        {
          "output_type": "stream",
          "name": "stdout",
          "text": [
            "(42000, 1)\n"
          ]
        }
      ]
    },
    {
      "cell_type": "code",
      "source": [
        "# 訓練データと評価データに分ける\n",
        "x_train, x_val, y_train, y_val = train_test_split(data, labels, test_size=0.2)\n",
        "print(f'x_train.shape: {x_train.shape}, x_val.shape: {x_val.shape}')"
      ],
      "metadata": {
        "colab": {
          "base_uri": "https://localhost:8080/"
        },
        "id": "H0DQgPGnX_LQ",
        "outputId": "2e3e7802-72b5-4414-e393-fe103f8ffc51"
      },
      "execution_count": 11,
      "outputs": [
        {
          "output_type": "stream",
          "name": "stdout",
          "text": [
            "x_train.shape: (33600, 28, 28, 1), x_val.shape: (8400, 28, 28, 1)\n"
          ]
        }
      ]
    },
    {
      "cell_type": "code",
      "source": [
        "# カスタムデータセットの定義\n",
        "class MNISTDataset(Dataset):\n",
        "        \n",
        "    def __init__(self, images, labels, transform = None):\n",
        "        \"\"\"Method to initilaize variables.\"\"\" \n",
        "        self.images = images\n",
        "        self.labels = labels\n",
        "        self.transform = transform\n",
        "\n",
        "    def __getitem__(self, index):\n",
        "        label = self.labels[index]\n",
        "        image = self.images[index]\n",
        "        \n",
        "        if self.transform is not None:\n",
        "            image = self.transform(image)\n",
        "        image = image.repeat(3, 1, 1)\n",
        "        return image, label\n",
        "\n",
        "    def __len__(self):\n",
        "        return len(self.images)"
      ],
      "metadata": {
        "id": "fKWGSMaFZZgC"
      },
      "execution_count": 12,
      "outputs": []
    },
    {
      "cell_type": "code",
      "source": [
        "# データを0～1のテンソルに変換\n",
        "train_set = MNISTDataset(x_train, y_train, transform=transforms.Compose([transforms.ToTensor()]))\n",
        "val_set = MNISTDataset(x_val, y_val, transform=transforms.Compose([transforms.ToTensor()]))\n",
        "all_data = MNISTDataset(data, labels, transform=transforms.Compose([transforms.ToTensor()]))"
      ],
      "metadata": {
        "id": "RrteNAeMZa95"
      },
      "execution_count": 13,
      "outputs": []
    },
    {
      "cell_type": "code",
      "source": [
        "train_loader = DataLoader(train_set, batch_size=32)\n",
        "val_loader = DataLoader(val_set, batch_size=32)\n",
        "all_data_loader = DataLoader(all_data, batch_size=32)"
      ],
      "metadata": {
        "id": "JRyHXRK5Zi9h"
      },
      "execution_count": 14,
      "outputs": []
    },
    {
      "cell_type": "code",
      "source": [
        "# GPUが使えればGPUを使用\n",
        "device = torch.device('cuda' if torch.cuda.is_available() else 'cpu')"
      ],
      "metadata": {
        "id": "vF7oWAhiZmaI"
      },
      "execution_count": 15,
      "outputs": []
    },
    {
      "cell_type": "code",
      "source": [
        "learning_rate = 0.001\n",
        "num_classes = 10\n",
        "num_epochs = 10"
      ],
      "metadata": {
        "id": "hFGiV3HJZoqw"
      },
      "execution_count": 16,
      "outputs": []
    },
    {
      "cell_type": "code",
      "source": [
        "# TorchvisionからResNet-18（畳み込みニューラル ネットワーク）モデルをダウンロード\n",
        "model = torchvision.models.resnet18(pretrained=True)\n",
        "num_ftrs = model.fc.in_features"
      ],
      "metadata": {
        "colab": {
          "base_uri": "https://localhost:8080/",
          "height": 66,
          "referenced_widgets": [
            "4c86ef86e17d422eb1cf2ecdeedd9991",
            "3478ae29b0b548f380b318969cf8af1e",
            "89c3220540bf49219703b65a40d913ba",
            "4c32215f13d642c2af77fdbd42fd3393",
            "fe536bd750aa44aaa0e615895dd3e28d",
            "9b502e039c354bf0b3ad10bdba085239",
            "038616d8b48a470aae1e2cd888a4c3c0",
            "b2f8c5cf0c20409bb6deb492fae1439c",
            "0b63b04861044294a1d2a57d21476b29",
            "c311ffe801d64552bcff658b8c12ad1e",
            "ae326057dc4c49e59b328224dbb959e4"
          ]
        },
        "id": "WDgG6TkqZrgW",
        "outputId": "fdbea8cd-412d-43f7-ef3d-762b3130a4fd"
      },
      "execution_count": 17,
      "outputs": [
        {
          "output_type": "stream",
          "name": "stderr",
          "text": [
            "Downloading: \"https://download.pytorch.org/models/resnet18-f37072fd.pth\" to /root/.cache/torch/hub/checkpoints/resnet18-f37072fd.pth\n"
          ]
        },
        {
          "output_type": "display_data",
          "data": {
            "application/vnd.jupyter.widget-view+json": {
              "model_id": "4c86ef86e17d422eb1cf2ecdeedd9991",
              "version_minor": 0,
              "version_major": 2
            },
            "text/plain": [
              "  0%|          | 0.00/44.7M [00:00<?, ?B/s]"
            ]
          },
          "metadata": {}
        }
      ]
    },
    {
      "cell_type": "code",
      "source": [
        "# 全結合を行う3層構造のニューラルネットワークを生成\n",
        "model.fc = nn.Linear(num_ftrs, num_classes)"
      ],
      "metadata": {
        "id": "S8DnqsBYZuwV"
      },
      "execution_count": 18,
      "outputs": []
    },
    {
      "cell_type": "code",
      "source": [
        "model.to(device)"
      ],
      "metadata": {
        "colab": {
          "base_uri": "https://localhost:8080/"
        },
        "id": "Xn3JPhDeZ20G",
        "outputId": "111b017f-3926-4647-9fdf-f21daab53425"
      },
      "execution_count": 19,
      "outputs": [
        {
          "output_type": "execute_result",
          "data": {
            "text/plain": [
              "ResNet(\n",
              "  (conv1): Conv2d(3, 64, kernel_size=(7, 7), stride=(2, 2), padding=(3, 3), bias=False)\n",
              "  (bn1): BatchNorm2d(64, eps=1e-05, momentum=0.1, affine=True, track_running_stats=True)\n",
              "  (relu): ReLU(inplace=True)\n",
              "  (maxpool): MaxPool2d(kernel_size=3, stride=2, padding=1, dilation=1, ceil_mode=False)\n",
              "  (layer1): Sequential(\n",
              "    (0): BasicBlock(\n",
              "      (conv1): Conv2d(64, 64, kernel_size=(3, 3), stride=(1, 1), padding=(1, 1), bias=False)\n",
              "      (bn1): BatchNorm2d(64, eps=1e-05, momentum=0.1, affine=True, track_running_stats=True)\n",
              "      (relu): ReLU(inplace=True)\n",
              "      (conv2): Conv2d(64, 64, kernel_size=(3, 3), stride=(1, 1), padding=(1, 1), bias=False)\n",
              "      (bn2): BatchNorm2d(64, eps=1e-05, momentum=0.1, affine=True, track_running_stats=True)\n",
              "    )\n",
              "    (1): BasicBlock(\n",
              "      (conv1): Conv2d(64, 64, kernel_size=(3, 3), stride=(1, 1), padding=(1, 1), bias=False)\n",
              "      (bn1): BatchNorm2d(64, eps=1e-05, momentum=0.1, affine=True, track_running_stats=True)\n",
              "      (relu): ReLU(inplace=True)\n",
              "      (conv2): Conv2d(64, 64, kernel_size=(3, 3), stride=(1, 1), padding=(1, 1), bias=False)\n",
              "      (bn2): BatchNorm2d(64, eps=1e-05, momentum=0.1, affine=True, track_running_stats=True)\n",
              "    )\n",
              "  )\n",
              "  (layer2): Sequential(\n",
              "    (0): BasicBlock(\n",
              "      (conv1): Conv2d(64, 128, kernel_size=(3, 3), stride=(2, 2), padding=(1, 1), bias=False)\n",
              "      (bn1): BatchNorm2d(128, eps=1e-05, momentum=0.1, affine=True, track_running_stats=True)\n",
              "      (relu): ReLU(inplace=True)\n",
              "      (conv2): Conv2d(128, 128, kernel_size=(3, 3), stride=(1, 1), padding=(1, 1), bias=False)\n",
              "      (bn2): BatchNorm2d(128, eps=1e-05, momentum=0.1, affine=True, track_running_stats=True)\n",
              "      (downsample): Sequential(\n",
              "        (0): Conv2d(64, 128, kernel_size=(1, 1), stride=(2, 2), bias=False)\n",
              "        (1): BatchNorm2d(128, eps=1e-05, momentum=0.1, affine=True, track_running_stats=True)\n",
              "      )\n",
              "    )\n",
              "    (1): BasicBlock(\n",
              "      (conv1): Conv2d(128, 128, kernel_size=(3, 3), stride=(1, 1), padding=(1, 1), bias=False)\n",
              "      (bn1): BatchNorm2d(128, eps=1e-05, momentum=0.1, affine=True, track_running_stats=True)\n",
              "      (relu): ReLU(inplace=True)\n",
              "      (conv2): Conv2d(128, 128, kernel_size=(3, 3), stride=(1, 1), padding=(1, 1), bias=False)\n",
              "      (bn2): BatchNorm2d(128, eps=1e-05, momentum=0.1, affine=True, track_running_stats=True)\n",
              "    )\n",
              "  )\n",
              "  (layer3): Sequential(\n",
              "    (0): BasicBlock(\n",
              "      (conv1): Conv2d(128, 256, kernel_size=(3, 3), stride=(2, 2), padding=(1, 1), bias=False)\n",
              "      (bn1): BatchNorm2d(256, eps=1e-05, momentum=0.1, affine=True, track_running_stats=True)\n",
              "      (relu): ReLU(inplace=True)\n",
              "      (conv2): Conv2d(256, 256, kernel_size=(3, 3), stride=(1, 1), padding=(1, 1), bias=False)\n",
              "      (bn2): BatchNorm2d(256, eps=1e-05, momentum=0.1, affine=True, track_running_stats=True)\n",
              "      (downsample): Sequential(\n",
              "        (0): Conv2d(128, 256, kernel_size=(1, 1), stride=(2, 2), bias=False)\n",
              "        (1): BatchNorm2d(256, eps=1e-05, momentum=0.1, affine=True, track_running_stats=True)\n",
              "      )\n",
              "    )\n",
              "    (1): BasicBlock(\n",
              "      (conv1): Conv2d(256, 256, kernel_size=(3, 3), stride=(1, 1), padding=(1, 1), bias=False)\n",
              "      (bn1): BatchNorm2d(256, eps=1e-05, momentum=0.1, affine=True, track_running_stats=True)\n",
              "      (relu): ReLU(inplace=True)\n",
              "      (conv2): Conv2d(256, 256, kernel_size=(3, 3), stride=(1, 1), padding=(1, 1), bias=False)\n",
              "      (bn2): BatchNorm2d(256, eps=1e-05, momentum=0.1, affine=True, track_running_stats=True)\n",
              "    )\n",
              "  )\n",
              "  (layer4): Sequential(\n",
              "    (0): BasicBlock(\n",
              "      (conv1): Conv2d(256, 512, kernel_size=(3, 3), stride=(2, 2), padding=(1, 1), bias=False)\n",
              "      (bn1): BatchNorm2d(512, eps=1e-05, momentum=0.1, affine=True, track_running_stats=True)\n",
              "      (relu): ReLU(inplace=True)\n",
              "      (conv2): Conv2d(512, 512, kernel_size=(3, 3), stride=(1, 1), padding=(1, 1), bias=False)\n",
              "      (bn2): BatchNorm2d(512, eps=1e-05, momentum=0.1, affine=True, track_running_stats=True)\n",
              "      (downsample): Sequential(\n",
              "        (0): Conv2d(256, 512, kernel_size=(1, 1), stride=(2, 2), bias=False)\n",
              "        (1): BatchNorm2d(512, eps=1e-05, momentum=0.1, affine=True, track_running_stats=True)\n",
              "      )\n",
              "    )\n",
              "    (1): BasicBlock(\n",
              "      (conv1): Conv2d(512, 512, kernel_size=(3, 3), stride=(1, 1), padding=(1, 1), bias=False)\n",
              "      (bn1): BatchNorm2d(512, eps=1e-05, momentum=0.1, affine=True, track_running_stats=True)\n",
              "      (relu): ReLU(inplace=True)\n",
              "      (conv2): Conv2d(512, 512, kernel_size=(3, 3), stride=(1, 1), padding=(1, 1), bias=False)\n",
              "      (bn2): BatchNorm2d(512, eps=1e-05, momentum=0.1, affine=True, track_running_stats=True)\n",
              "    )\n",
              "  )\n",
              "  (avgpool): AdaptiveAvgPool2d(output_size=(1, 1))\n",
              "  (fc): Linear(in_features=512, out_features=10, bias=True)\n",
              ")"
            ]
          },
          "metadata": {},
          "execution_count": 19
        }
      ]
    },
    {
      "cell_type": "code",
      "source": [
        "criterion = nn.CrossEntropyLoss()"
      ],
      "metadata": {
        "id": "PNx68q9bZ--r"
      },
      "execution_count": null,
      "outputs": []
    },
    {
      "cell_type": "code",
      "source": [
        "# 全てのパラメータが最適化されることを観察\n",
        "optimizer = torch.optim.SGD(model.parameters(), lr=learning_rate, momentum=0.9)"
      ],
      "metadata": {
        "id": "DK9WIB4YaAK-"
      },
      "execution_count": null,
      "outputs": []
    },
    {
      "cell_type": "code",
      "source": [
        "# ７エポックごとにLRを0.1ずつ減らす\n",
        "# LR range test：初期学習率を決める手段で、ある幅で学習率を徐々に増加させながらAccuracyないしLossを観察し決定する手法\n",
        "exp_lr_scheduler = torch.optim.lr_scheduler.StepLR(optimizer, step_size=7, gamma=0.1)"
      ],
      "metadata": {
        "id": "X6cXm0lDaCvS"
      },
      "execution_count": null,
      "outputs": []
    },
    {
      "cell_type": "code",
      "source": [
        "# 損失関数と最適化アルゴリズムを生成\n",
        "criterion = nn.CrossEntropyLoss()\n",
        "optimizer = torch.optim.SGD(model.parameters(), lr=learning_rate)"
      ],
      "metadata": {
        "id": "qfn8CkyiaF3t"
      },
      "execution_count": null,
      "outputs": []
    },
    {
      "cell_type": "code",
      "source": [
        "# 学習率を更新する\n",
        "def update_lr(optimizer, lr):\n",
        "    for param_group in optimizer.param_groups:\n",
        "        param_group['lr'] = lr"
      ],
      "metadata": {
        "id": "NhiNhzMPaJFC"
      },
      "execution_count": null,
      "outputs": []
    },
    {
      "cell_type": "code",
      "source": [
        "# 学習する\n",
        "total_step = len(train_loader)\n",
        "curr_lr = learning_rate\n",
        "for epoch in range(num_epochs):\n",
        "    for i, (images, labels) in enumerate(train_loader):\n",
        "        images = images.to(device)\n",
        "        labels = labels.to(device)\n",
        "\n",
        "        # Forward pass（順伝搬：初期の入力を層ごとに処理して出力に向けて送ること）\n",
        "        outputs = model(images)\n",
        "        loss = criterion(outputs, labels.flatten())\n",
        "\n",
        "        # Backward and optimize（逆伝播と最適化を行う）\n",
        "        optimizer.zero_grad()\n",
        "        loss.backward()\n",
        "        optimizer.step()\n",
        "\n",
        "        if (i + 1) % 300 == 0:\n",
        "            print(f'Epoch: {epoch + 1}/{num_epochs}, Loss: {loss.item()}')"
      ],
      "metadata": {
        "colab": {
          "base_uri": "https://localhost:8080/"
        },
        "id": "-n0O5iF6aL6E",
        "outputId": "6ad93b9c-dc44-4ed8-b358-b2a58c5fd3b0"
      },
      "execution_count": null,
      "outputs": [
        {
          "output_type": "stream",
          "name": "stdout",
          "text": [
            "Epoch: 1/10, Loss: 0.2998724579811096\n",
            "Epoch: 1/10, Loss: 0.319784015417099\n",
            "Epoch: 1/10, Loss: 0.15973897278308868\n",
            "Epoch: 2/10, Loss: 0.02989523485302925\n",
            "Epoch: 2/10, Loss: 0.13289044797420502\n",
            "Epoch: 2/10, Loss: 0.06090101599693298\n",
            "Epoch: 3/10, Loss: 0.013707166537642479\n",
            "Epoch: 3/10, Loss: 0.061143454164266586\n",
            "Epoch: 3/10, Loss: 0.021016106009483337\n",
            "Epoch: 4/10, Loss: 0.007110942155122757\n",
            "Epoch: 4/10, Loss: 0.028975604102015495\n",
            "Epoch: 4/10, Loss: 0.009665836580097675\n",
            "Epoch: 5/10, Loss: 0.004808831959962845\n",
            "Epoch: 5/10, Loss: 0.018560420721769333\n",
            "Epoch: 5/10, Loss: 0.005073982756584883\n",
            "Epoch: 6/10, Loss: 0.003653968684375286\n",
            "Epoch: 6/10, Loss: 0.013183138333261013\n",
            "Epoch: 6/10, Loss: 0.0032614616211503744\n",
            "Epoch: 7/10, Loss: 0.0028419967275112867\n",
            "Epoch: 7/10, Loss: 0.009468715637922287\n",
            "Epoch: 7/10, Loss: 0.002478603273630142\n",
            "Epoch: 8/10, Loss: 0.002291696146130562\n",
            "Epoch: 8/10, Loss: 0.006992284674197435\n",
            "Epoch: 8/10, Loss: 0.0020673214457929134\n",
            "Epoch: 9/10, Loss: 0.0018868263578042388\n",
            "Epoch: 9/10, Loss: 0.0056554051116108894\n",
            "Epoch: 9/10, Loss: 0.001714753219857812\n",
            "Epoch: 10/10, Loss: 0.001575325964950025\n",
            "Epoch: 10/10, Loss: 0.004706903360784054\n",
            "Epoch: 10/10, Loss: 0.0014559815172106028\n"
          ]
        }
      ]
    },
    {
      "cell_type": "code",
      "source": [
        "# 評価する\n",
        "model.eval()\n",
        "with torch.no_grad():\n",
        "    correct = 0\n",
        "    total = 0\n",
        "    for images, labels in val_loader:\n",
        "        images = images.to(device)\n",
        "        labels = labels.to(device)\n",
        "\n",
        "        outputs = model(images)\n",
        "        _, predicted = torch.max(outputs, 1)\n",
        "        total += labels.size(0)\n",
        "        correct += (predicted == labels.flatten()).sum()\n",
        "\n",
        "        print(f'Test acc: {100 * correct / total}')"
      ],
      "metadata": {
        "colab": {
          "base_uri": "https://localhost:8080/"
        },
        "id": "aGPFD64JaR1u",
        "outputId": "bc2d8b38-ef32-463d-c04f-b0ec925559a4"
      },
      "execution_count": null,
      "outputs": [
        {
          "output_type": "stream",
          "name": "stdout",
          "text": [
            "Test acc: 100.0\n",
            "Test acc: 98.4375\n",
            "Test acc: 98.95833587646484\n",
            "Test acc: 98.4375\n",
            "Test acc: 98.75\n",
            "Test acc: 98.4375\n",
            "Test acc: 98.21428680419922\n",
            "Test acc: 98.046875\n",
            "Test acc: 98.2638931274414\n",
            "Test acc: 98.4375\n",
            "Test acc: 98.57955169677734\n",
            "Test acc: 98.69792175292969\n",
            "Test acc: 98.55769348144531\n",
            "Test acc: 98.66072082519531\n",
            "Test acc: 98.54167175292969\n",
            "Test acc: 98.4375\n",
            "Test acc: 98.34558868408203\n",
            "Test acc: 98.4375\n",
            "Test acc: 98.51973724365234\n",
            "Test acc: 98.4375\n",
            "Test acc: 98.21428680419922\n",
            "Test acc: 98.29545593261719\n",
            "Test acc: 98.23369598388672\n",
            "Test acc: 98.30729675292969\n",
            "Test acc: 98.125\n",
            "Test acc: 98.0769271850586\n",
            "Test acc: 98.14814758300781\n",
            "Test acc: 98.21428680419922\n",
            "Test acc: 98.27586364746094\n",
            "Test acc: 98.22917175292969\n",
            "Test acc: 98.08467102050781\n",
            "Test acc: 98.046875\n",
            "Test acc: 98.10606384277344\n",
            "Test acc: 98.1617660522461\n",
            "Test acc: 98.21428680419922\n",
            "Test acc: 98.2638931274414\n",
            "Test acc: 98.22635650634766\n",
            "Test acc: 98.19078826904297\n",
            "Test acc: 98.2371826171875\n",
            "Test acc: 98.28125\n",
            "Test acc: 98.32316589355469\n",
            "Test acc: 98.36309814453125\n",
            "Test acc: 98.40116119384766\n",
            "Test acc: 98.29545593261719\n",
            "Test acc: 98.33333587646484\n",
            "Test acc: 98.3016357421875\n",
            "Test acc: 98.27127075195312\n",
            "Test acc: 98.30729675292969\n",
            "Test acc: 98.21428680419922\n",
            "Test acc: 98.25\n",
            "Test acc: 98.28431701660156\n",
            "Test acc: 98.31731414794922\n",
            "Test acc: 98.29009246826172\n",
            "Test acc: 98.2638931274414\n",
            "Test acc: 98.29544830322266\n",
            "Test acc: 98.32589721679688\n",
            "Test acc: 98.24561309814453\n",
            "Test acc: 98.22198486328125\n",
            "Test acc: 98.25212097167969\n",
            "Test acc: 98.22917175292969\n",
            "Test acc: 98.25819396972656\n",
            "Test acc: 98.28628540039062\n",
            "Test acc: 98.2638931274414\n",
            "Test acc: 98.291015625\n",
            "Test acc: 98.26923370361328\n",
            "Test acc: 98.24810791015625\n",
            "Test acc: 98.22760772705078\n",
            "Test acc: 98.25367736816406\n",
            "Test acc: 98.27898406982422\n",
            "Test acc: 98.25892639160156\n",
            "Test acc: 98.283447265625\n",
            "Test acc: 98.30728912353516\n",
            "Test acc: 98.33048248291016\n",
            "Test acc: 98.35304260253906\n",
            "Test acc: 98.375\n",
            "Test acc: 98.35526275634766\n",
            "Test acc: 98.37662506103516\n",
            "Test acc: 98.35737609863281\n",
            "Test acc: 98.37816619873047\n",
            "Test acc: 98.3984375\n",
            "Test acc: 98.37963104248047\n",
            "Test acc: 98.39938354492188\n",
            "Test acc: 98.41867065429688\n",
            "Test acc: 98.4375\n",
            "Test acc: 98.45588684082031\n",
            "Test acc: 98.47383880615234\n",
            "Test acc: 98.49137878417969\n",
            "Test acc: 98.5085220336914\n",
            "Test acc: 98.49017333984375\n",
            "Test acc: 98.50695037841797\n",
            "Test acc: 98.52335357666016\n",
            "Test acc: 98.5394058227539\n",
            "Test acc: 98.55510711669922\n",
            "Test acc: 98.57047271728516\n",
            "Test acc: 98.5526351928711\n",
            "Test acc: 98.56771087646484\n",
            "Test acc: 98.58247375488281\n",
            "Test acc: 98.59693908691406\n",
            "Test acc: 98.61111450195312\n",
            "Test acc: 98.625\n",
            "Test acc: 98.63861083984375\n",
            "Test acc: 98.65196228027344\n",
            "Test acc: 98.66504669189453\n",
            "Test acc: 98.67788696289062\n",
            "Test acc: 98.66072082519531\n",
            "Test acc: 98.61438751220703\n",
            "Test acc: 98.59812927246094\n",
            "Test acc: 98.61111450195312\n",
            "Test acc: 98.62384796142578\n",
            "Test acc: 98.63636016845703\n",
            "Test acc: 98.64865112304688\n",
            "Test acc: 98.66072082519531\n",
            "Test acc: 98.67256927490234\n",
            "Test acc: 98.68421173095703\n",
            "Test acc: 98.66847229003906\n",
            "Test acc: 98.65301513671875\n",
            "Test acc: 98.66453552246094\n",
            "Test acc: 98.67584991455078\n",
            "Test acc: 98.63446044921875\n",
            "Test acc: 98.64583587646484\n",
            "Test acc: 98.65702056884766\n",
            "Test acc: 98.66802978515625\n",
            "Test acc: 98.65345001220703\n",
            "Test acc: 98.61390686035156\n",
            "Test acc: 98.62500762939453\n",
            "Test acc: 98.61111450195312\n",
            "Test acc: 98.6220474243164\n",
            "Test acc: 98.6328125\n",
            "Test acc: 98.61918640136719\n",
            "Test acc: 98.62980651855469\n",
            "Test acc: 98.61640930175781\n",
            "Test acc: 98.62689971923828\n",
            "Test acc: 98.63722229003906\n",
            "Test acc: 98.64738464355469\n",
            "Test acc: 98.65740203857422\n",
            "Test acc: 98.66728210449219\n",
            "Test acc: 98.6541976928711\n",
            "Test acc: 98.66394805908203\n",
            "Test acc: 98.65108489990234\n",
            "Test acc: 98.66071319580078\n",
            "Test acc: 98.67021179199219\n",
            "Test acc: 98.6575698852539\n",
            "Test acc: 98.64510345458984\n",
            "Test acc: 98.6545181274414\n",
            "Test acc: 98.6637954711914\n",
            "Test acc: 98.67294311523438\n",
            "Test acc: 98.68196868896484\n",
            "Test acc: 98.69087982177734\n",
            "Test acc: 98.6786880493164\n",
            "Test acc: 98.6875\n",
            "Test acc: 98.67549896240234\n",
            "Test acc: 98.66365051269531\n",
            "Test acc: 98.6723861694336\n",
            "Test acc: 98.6810073852539\n",
            "Test acc: 98.6491928100586\n",
            "Test acc: 98.65785217285156\n",
            "Test acc: 98.6664047241211\n",
            "Test acc: 98.67484283447266\n",
            "Test acc: 98.66352081298828\n",
            "Test acc: 98.6328125\n",
            "Test acc: 98.64130401611328\n",
            "Test acc: 98.63040161132812\n",
            "Test acc: 98.60045623779297\n",
            "Test acc: 98.60899353027344\n",
            "Test acc: 98.59848022460938\n",
            "Test acc: 98.60692596435547\n",
            "Test acc: 98.61527252197266\n",
            "Test acc: 98.60491180419922\n",
            "Test acc: 98.61316680908203\n",
            "Test acc: 98.62132263183594\n",
            "Test acc: 98.61111450195312\n",
            "Test acc: 98.60102081298828\n",
            "Test acc: 98.5910415649414\n",
            "Test acc: 98.5811767578125\n",
            "Test acc: 98.58928680419922\n",
            "Test acc: 98.57955169677734\n",
            "Test acc: 98.58757019042969\n",
            "Test acc: 98.59550476074219\n",
            "Test acc: 98.58589172363281\n",
            "Test acc: 98.5763931274414\n",
            "Test acc: 98.5669937133789\n",
            "Test acc: 98.55769348144531\n",
            "Test acc: 98.5655746459961\n",
            "Test acc: 98.57337188720703\n",
            "Test acc: 98.58108520507812\n",
            "Test acc: 98.57190704345703\n",
            "Test acc: 98.57954406738281\n",
            "Test acc: 98.57047271728516\n",
            "Test acc: 98.57804107666016\n",
            "Test acc: 98.58553314208984\n",
            "Test acc: 98.59293365478516\n",
            "Test acc: 98.583984375\n",
            "Test acc: 98.59131622314453\n",
            "Test acc: 98.59857940673828\n",
            "Test acc: 98.60577392578125\n",
            "Test acc: 98.61287689208984\n",
            "Test acc: 98.60405731201172\n",
            "Test acc: 98.59532928466797\n",
            "Test acc: 98.60238647460938\n",
            "Test acc: 98.609375\n",
            "Test acc: 98.61629486083984\n",
            "Test acc: 98.62313842773438\n",
            "Test acc: 98.62992095947266\n",
            "Test acc: 98.62133026123047\n",
            "Test acc: 98.61280822753906\n",
            "Test acc: 98.61953735351562\n",
            "Test acc: 98.6111068725586\n",
            "Test acc: 98.61779022216797\n",
            "Test acc: 98.60944366455078\n",
            "Test acc: 98.61607360839844\n",
            "Test acc: 98.62263488769531\n",
            "Test acc: 98.6291275024414\n",
            "Test acc: 98.63556671142578\n",
            "Test acc: 98.64193725585938\n",
            "Test acc: 98.64825439453125\n",
            "Test acc: 98.64004516601562\n",
            "Test acc: 98.64631652832031\n",
            "Test acc: 98.65251922607422\n",
            "Test acc: 98.6586685180664\n",
            "Test acc: 98.6647720336914\n",
            "Test acc: 98.65667724609375\n",
            "Test acc: 98.64865112304688\n",
            "Test acc: 98.65471649169922\n",
            "Test acc: 98.64676666259766\n",
            "Test acc: 98.65277862548828\n",
            "Test acc: 98.64491271972656\n",
            "Test acc: 98.6371078491211\n",
            "Test acc: 98.6430892944336\n",
            "Test acc: 98.6353759765625\n",
            "Test acc: 98.64129638671875\n",
            "Test acc: 98.64718627929688\n",
            "Test acc: 98.6395492553711\n",
            "Test acc: 98.6453857421875\n",
            "Test acc: 98.63782501220703\n",
            "Test acc: 98.64361572265625\n",
            "Test acc: 98.63612365722656\n",
            "Test acc: 98.6286849975586\n",
            "Test acc: 98.62133026123047\n",
            "Test acc: 98.62709045410156\n",
            "Test acc: 98.61979675292969\n",
            "Test acc: 98.62552642822266\n",
            "Test acc: 98.61827850341797\n",
            "Test acc: 98.62397003173828\n",
            "Test acc: 98.62960815429688\n",
            "Test acc: 98.60968780517578\n",
            "Test acc: 98.61534118652344\n",
            "Test acc: 98.62095642089844\n",
            "Test acc: 98.61390686035156\n",
            "Test acc: 98.61947631835938\n",
            "Test acc: 98.62500762939453\n",
            "Test acc: 98.63047790527344\n",
            "Test acc: 98.63591766357422\n",
            "Test acc: 98.62895965576172\n",
            "Test acc: 98.6220474243164\n",
            "Test acc: 98.62745666503906\n",
            "Test acc: 98.6328125\n",
            "Test acc: 98.63813018798828\n",
            "Test acc: 98.63130187988281\n",
            "Test acc: 98.62451171875\n",
            "Test acc: 98.62980651855469\n",
            "Test acc: 98.63505554199219\n",
            "Test acc: 98.62834167480469\n",
            "Test acc: 98.63095092773438\n"
          ]
        }
      ]
    },
    {
      "cell_type": "code",
      "source": [
        "test_data = pd.read_csv('test.csv', dtype=np.float32)\n",
        "test_data = test_data.to_numpy() / 255.0\n",
        "test_data = test_data.reshape(-1, 28, 28, 1)  # reshapeの一つのサイズが決まっているとき、もう一方を-1とすると、-1には元の形"
      ],
      "metadata": {
        "id": "s3IN__Z4aaiN"
      },
      "execution_count": null,
      "outputs": []
    },
    {
      "cell_type": "code",
      "source": [
        "test_tensor = torch.from_numpy(test_data).permute(0, 3, 1, 2)  # numpy ndarrayからPytorch tensorに変換し、次元の入れ替え(permute)\n",
        "test_tensor = test_tensor.repeat(1, 3, 1, 1)  # データセットの繰り返し"
      ],
      "metadata": {
        "id": "8nVjqtglad1o"
      },
      "execution_count": null,
      "outputs": []
    },
    {
      "cell_type": "code",
      "source": [
        "images = test_tensor.to(device)\n",
        "outputs = model(images)\n",
        "_, predictions = torch.max(outputs, 1)  # 配列の最大値の要素を返す"
      ],
      "metadata": {
        "id": "5Zq-IqFQaf9o"
      },
      "execution_count": null,
      "outputs": []
    },
    {
      "cell_type": "code",
      "source": [
        "predictions = predictions.cpu()\n",
        "submission = pd.DataFrame({'ImageId': np.arange(1, (predictions.size(0) + 1)), 'Label': predictions})\n",
        "submission.to_csv(\"submission.csv\", index = False)\n",
        "print(\"# 終了 #\")"
      ],
      "metadata": {
        "colab": {
          "base_uri": "https://localhost:8080/"
        },
        "id": "-ONHdvXbai6j",
        "outputId": "63dd645e-ecd0-4702-b1cd-ddf4478ddef7"
      },
      "execution_count": null,
      "outputs": [
        {
          "output_type": "stream",
          "name": "stdout",
          "text": [
            "# 終了 #\n"
          ]
        }
      ]
    }
  ]
}