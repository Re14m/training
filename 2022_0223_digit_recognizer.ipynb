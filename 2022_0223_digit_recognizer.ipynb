{
  "nbformat": 4,
  "nbformat_minor": 0,
  "metadata": {
    "colab": {
      "name": "2022-0223_digit-recognizer.ipynb",
      "provenance": [],
      "collapsed_sections": [],
      "mount_file_id": "1TspSzSez4auOYs1H27Bnqzzp5gmuaCr9",
      "authorship_tag": "ABX9TyOgX61yJUkTRi41FuDMFNtc",
      "include_colab_link": true
    },
    "kernelspec": {
      "name": "python3",
      "display_name": "Python 3"
    },
    "language_info": {
      "name": "python"
    },
    "accelerator": "GPU",
    "widgets": {
      "application/vnd.jupyter.widget-state+json": {
        "dfe01e1829864bdc9a9a06f59d1ddfb9": {
          "model_module": "@jupyter-widgets/controls",
          "model_name": "HBoxModel",
          "model_module_version": "1.5.0",
          "state": {
            "_view_name": "HBoxView",
            "_dom_classes": [],
            "_model_name": "HBoxModel",
            "_view_module": "@jupyter-widgets/controls",
            "_model_module_version": "1.5.0",
            "_view_count": null,
            "_view_module_version": "1.5.0",
            "box_style": "",
            "layout": "IPY_MODEL_972a4fd8f78b425db8e741c545881ed7",
            "_model_module": "@jupyter-widgets/controls",
            "children": [
              "IPY_MODEL_aea4f5c21f8d4179b47ac27fa3288788",
              "IPY_MODEL_e80004dc2a43476cb896244937fcde46",
              "IPY_MODEL_2c3c0425ebcb4adbb0e4cb2383063761"
            ]
          }
        },
        "972a4fd8f78b425db8e741c545881ed7": {
          "model_module": "@jupyter-widgets/base",
          "model_name": "LayoutModel",
          "model_module_version": "1.2.0",
          "state": {
            "_view_name": "LayoutView",
            "grid_template_rows": null,
            "right": null,
            "justify_content": null,
            "_view_module": "@jupyter-widgets/base",
            "overflow": null,
            "_model_module_version": "1.2.0",
            "_view_count": null,
            "flex_flow": null,
            "width": null,
            "min_width": null,
            "border": null,
            "align_items": null,
            "bottom": null,
            "_model_module": "@jupyter-widgets/base",
            "top": null,
            "grid_column": null,
            "overflow_y": null,
            "overflow_x": null,
            "grid_auto_flow": null,
            "grid_area": null,
            "grid_template_columns": null,
            "flex": null,
            "_model_name": "LayoutModel",
            "justify_items": null,
            "grid_row": null,
            "max_height": null,
            "align_content": null,
            "visibility": null,
            "align_self": null,
            "height": null,
            "min_height": null,
            "padding": null,
            "grid_auto_rows": null,
            "grid_gap": null,
            "max_width": null,
            "order": null,
            "_view_module_version": "1.2.0",
            "grid_template_areas": null,
            "object_position": null,
            "object_fit": null,
            "grid_auto_columns": null,
            "margin": null,
            "display": null,
            "left": null
          }
        },
        "aea4f5c21f8d4179b47ac27fa3288788": {
          "model_module": "@jupyter-widgets/controls",
          "model_name": "HTMLModel",
          "model_module_version": "1.5.0",
          "state": {
            "_view_name": "HTMLView",
            "style": "IPY_MODEL_5fc032a9d04b4401bf3c29035d50062a",
            "_dom_classes": [],
            "description": "",
            "_model_name": "HTMLModel",
            "placeholder": "​",
            "_view_module": "@jupyter-widgets/controls",
            "_model_module_version": "1.5.0",
            "value": "100%",
            "_view_count": null,
            "_view_module_version": "1.5.0",
            "description_tooltip": null,
            "_model_module": "@jupyter-widgets/controls",
            "layout": "IPY_MODEL_1e70fb27c4594e41a2df35f0ca951cd8"
          }
        },
        "e80004dc2a43476cb896244937fcde46": {
          "model_module": "@jupyter-widgets/controls",
          "model_name": "FloatProgressModel",
          "model_module_version": "1.5.0",
          "state": {
            "_view_name": "ProgressView",
            "style": "IPY_MODEL_2705ec180aeb4553abdb9787a380524a",
            "_dom_classes": [],
            "description": "",
            "_model_name": "FloatProgressModel",
            "bar_style": "success",
            "max": 46830571,
            "_view_module": "@jupyter-widgets/controls",
            "_model_module_version": "1.5.0",
            "value": 46830571,
            "_view_count": null,
            "_view_module_version": "1.5.0",
            "orientation": "horizontal",
            "min": 0,
            "description_tooltip": null,
            "_model_module": "@jupyter-widgets/controls",
            "layout": "IPY_MODEL_d4bf6b5b6f6a493bb7b6905936ef5b3a"
          }
        },
        "2c3c0425ebcb4adbb0e4cb2383063761": {
          "model_module": "@jupyter-widgets/controls",
          "model_name": "HTMLModel",
          "model_module_version": "1.5.0",
          "state": {
            "_view_name": "HTMLView",
            "style": "IPY_MODEL_8bd005dd383e4984a9d56664edfcfc47",
            "_dom_classes": [],
            "description": "",
            "_model_name": "HTMLModel",
            "placeholder": "​",
            "_view_module": "@jupyter-widgets/controls",
            "_model_module_version": "1.5.0",
            "value": " 44.7M/44.7M [00:00&lt;00:00, 87.9MB/s]",
            "_view_count": null,
            "_view_module_version": "1.5.0",
            "description_tooltip": null,
            "_model_module": "@jupyter-widgets/controls",
            "layout": "IPY_MODEL_9d559c8d68d34fe3b5b6b151b64d3fd1"
          }
        },
        "5fc032a9d04b4401bf3c29035d50062a": {
          "model_module": "@jupyter-widgets/controls",
          "model_name": "DescriptionStyleModel",
          "model_module_version": "1.5.0",
          "state": {
            "_view_name": "StyleView",
            "_model_name": "DescriptionStyleModel",
            "description_width": "",
            "_view_module": "@jupyter-widgets/base",
            "_model_module_version": "1.5.0",
            "_view_count": null,
            "_view_module_version": "1.2.0",
            "_model_module": "@jupyter-widgets/controls"
          }
        },
        "1e70fb27c4594e41a2df35f0ca951cd8": {
          "model_module": "@jupyter-widgets/base",
          "model_name": "LayoutModel",
          "model_module_version": "1.2.0",
          "state": {
            "_view_name": "LayoutView",
            "grid_template_rows": null,
            "right": null,
            "justify_content": null,
            "_view_module": "@jupyter-widgets/base",
            "overflow": null,
            "_model_module_version": "1.2.0",
            "_view_count": null,
            "flex_flow": null,
            "width": null,
            "min_width": null,
            "border": null,
            "align_items": null,
            "bottom": null,
            "_model_module": "@jupyter-widgets/base",
            "top": null,
            "grid_column": null,
            "overflow_y": null,
            "overflow_x": null,
            "grid_auto_flow": null,
            "grid_area": null,
            "grid_template_columns": null,
            "flex": null,
            "_model_name": "LayoutModel",
            "justify_items": null,
            "grid_row": null,
            "max_height": null,
            "align_content": null,
            "visibility": null,
            "align_self": null,
            "height": null,
            "min_height": null,
            "padding": null,
            "grid_auto_rows": null,
            "grid_gap": null,
            "max_width": null,
            "order": null,
            "_view_module_version": "1.2.0",
            "grid_template_areas": null,
            "object_position": null,
            "object_fit": null,
            "grid_auto_columns": null,
            "margin": null,
            "display": null,
            "left": null
          }
        },
        "2705ec180aeb4553abdb9787a380524a": {
          "model_module": "@jupyter-widgets/controls",
          "model_name": "ProgressStyleModel",
          "model_module_version": "1.5.0",
          "state": {
            "_view_name": "StyleView",
            "_model_name": "ProgressStyleModel",
            "description_width": "",
            "_view_module": "@jupyter-widgets/base",
            "_model_module_version": "1.5.0",
            "_view_count": null,
            "_view_module_version": "1.2.0",
            "bar_color": null,
            "_model_module": "@jupyter-widgets/controls"
          }
        },
        "d4bf6b5b6f6a493bb7b6905936ef5b3a": {
          "model_module": "@jupyter-widgets/base",
          "model_name": "LayoutModel",
          "model_module_version": "1.2.0",
          "state": {
            "_view_name": "LayoutView",
            "grid_template_rows": null,
            "right": null,
            "justify_content": null,
            "_view_module": "@jupyter-widgets/base",
            "overflow": null,
            "_model_module_version": "1.2.0",
            "_view_count": null,
            "flex_flow": null,
            "width": null,
            "min_width": null,
            "border": null,
            "align_items": null,
            "bottom": null,
            "_model_module": "@jupyter-widgets/base",
            "top": null,
            "grid_column": null,
            "overflow_y": null,
            "overflow_x": null,
            "grid_auto_flow": null,
            "grid_area": null,
            "grid_template_columns": null,
            "flex": null,
            "_model_name": "LayoutModel",
            "justify_items": null,
            "grid_row": null,
            "max_height": null,
            "align_content": null,
            "visibility": null,
            "align_self": null,
            "height": null,
            "min_height": null,
            "padding": null,
            "grid_auto_rows": null,
            "grid_gap": null,
            "max_width": null,
            "order": null,
            "_view_module_version": "1.2.0",
            "grid_template_areas": null,
            "object_position": null,
            "object_fit": null,
            "grid_auto_columns": null,
            "margin": null,
            "display": null,
            "left": null
          }
        },
        "8bd005dd383e4984a9d56664edfcfc47": {
          "model_module": "@jupyter-widgets/controls",
          "model_name": "DescriptionStyleModel",
          "model_module_version": "1.5.0",
          "state": {
            "_view_name": "StyleView",
            "_model_name": "DescriptionStyleModel",
            "description_width": "",
            "_view_module": "@jupyter-widgets/base",
            "_model_module_version": "1.5.0",
            "_view_count": null,
            "_view_module_version": "1.2.0",
            "_model_module": "@jupyter-widgets/controls"
          }
        },
        "9d559c8d68d34fe3b5b6b151b64d3fd1": {
          "model_module": "@jupyter-widgets/base",
          "model_name": "LayoutModel",
          "model_module_version": "1.2.0",
          "state": {
            "_view_name": "LayoutView",
            "grid_template_rows": null,
            "right": null,
            "justify_content": null,
            "_view_module": "@jupyter-widgets/base",
            "overflow": null,
            "_model_module_version": "1.2.0",
            "_view_count": null,
            "flex_flow": null,
            "width": null,
            "min_width": null,
            "border": null,
            "align_items": null,
            "bottom": null,
            "_model_module": "@jupyter-widgets/base",
            "top": null,
            "grid_column": null,
            "overflow_y": null,
            "overflow_x": null,
            "grid_auto_flow": null,
            "grid_area": null,
            "grid_template_columns": null,
            "flex": null,
            "_model_name": "LayoutModel",
            "justify_items": null,
            "grid_row": null,
            "max_height": null,
            "align_content": null,
            "visibility": null,
            "align_self": null,
            "height": null,
            "min_height": null,
            "padding": null,
            "grid_auto_rows": null,
            "grid_gap": null,
            "max_width": null,
            "order": null,
            "_view_module_version": "1.2.0",
            "grid_template_areas": null,
            "object_position": null,
            "object_fit": null,
            "grid_auto_columns": null,
            "margin": null,
            "display": null,
            "left": null
          }
        }
      }
    }
  },
  "cells": [
    {
      "cell_type": "markdown",
      "metadata": {
        "id": "view-in-github",
        "colab_type": "text"
      },
      "source": [
        "<a href=\"https://colab.research.google.com/github/Re14m/isk/blob/master/2022_0223_digit_recognizer.ipynb\" target=\"_parent\"><img src=\"https://colab.research.google.com/assets/colab-badge.svg\" alt=\"Open In Colab\"/></a>"
      ]
    },
    {
      "cell_type": "code",
      "execution_count": null,
      "metadata": {
        "id": "mwtbV8EXoGzX",
        "colab": {
          "base_uri": "https://localhost:8080/"
        },
        "outputId": "2e60bc89-ca5d-4e59-f764-564507760c90"
      },
      "outputs": [
        {
          "output_type": "stream",
          "name": "stdout",
          "text": [
            "Mounted at /content/drive\n"
          ]
        }
      ],
      "source": [
        "#Google Driveをマウント\n",
        "from google.colab import drive\n",
        "drive.mount('/content/drive')"
      ]
    },
    {
      "cell_type": "code",
      "source": [
        "#GoogleDriveのKaggleフォルダの中に、[コンペ名]のフォルダを作る"
      ],
      "metadata": {
        "id": "LS7NiauPpfCh"
      },
      "execution_count": null,
      "outputs": []
    },
    {
      "cell_type": "code",
      "source": [
        "#Kaggleのコンペデータのzipを[コンペ名フォルダ]に入れる"
      ],
      "metadata": {
        "id": "rMJ7JWyWp4_p"
      },
      "execution_count": null,
      "outputs": []
    },
    {
      "cell_type": "code",
      "source": [
        "#コンペのzipをコピー\n",
        "!cp \"/content/drive/MyDrive/Kaggle/digit-recognizer/digit-recognizer.zip\" ."
      ],
      "metadata": {
        "id": "n83Hm0AdpHHC"
      },
      "execution_count": null,
      "outputs": []
    },
    {
      "cell_type": "code",
      "source": [
        "#zipを展開\n",
        "!unzip -o /content/drive/MyDrive/Kaggle/digit-recognizer/digit-recognizer.zip -d ."
      ],
      "metadata": {
        "colab": {
          "base_uri": "https://localhost:8080/"
        },
        "id": "gUisirdSIO3c",
        "outputId": "5297a762-094d-477b-8782-2fe38c95faf6"
      },
      "execution_count": null,
      "outputs": [
        {
          "output_type": "stream",
          "name": "stdout",
          "text": [
            "Archive:  /content/drive/MyDrive/Kaggle/digit-recognizer/digit-recognizer.zip\n",
            "  inflating: ./sample_submission.csv  \n",
            "  inflating: ./test.csv              \n",
            "  inflating: ./train.csv             \n"
          ]
        }
      ]
    },
    {
      "cell_type": "code",
      "source": [
        "# ライブラリをインポート\n",
        "import  numpy as np\n",
        "import pandas as pd\n",
        "import matplotlib.pyplot as plt\n",
        "import os\n",
        "from tqdm import tqdm\n",
        "import seaborn as sns\n",
        "from sklearn.model_selection import train_test_split\n",
        "import warnings\n",
        "warnings.filterwarnings(\"ignore\")\n",
        "\n",
        "import torch\n",
        "import torch.nn as nn\n",
        "import torchvision\n",
        "from torch.utils.data import DataLoader, Dataset\n",
        "from torchvision import transforms"
      ],
      "metadata": {
        "id": "Cb5bbgyCSNIg"
      },
      "execution_count": null,
      "outputs": []
    },
    {
      "cell_type": "code",
      "source": [
        "# CSVファイルを読み込み、正解ラベルのデータを分ける\n",
        "data = pd.read_csv('train.csv', dtype = np.float32)\n",
        "labels = data.pop('label').astype('int64')"
      ],
      "metadata": {
        "id": "BkkrPJbhX2oF"
      },
      "execution_count": null,
      "outputs": []
    },
    {
      "cell_type": "code",
      "source": [
        "# 0～255のピクセルデータを0～1に変換\n",
        "data = data.to_numpy() / 255.0\n",
        "labels = labels.to_numpy()"
      ],
      "metadata": {
        "id": "3WlxLKjmX7fe"
      },
      "execution_count": null,
      "outputs": []
    },
    {
      "cell_type": "code",
      "source": [
        "data = data.reshape(-1, 28, 28, 1)\n",
        "labels = labels.reshape(-1,1)\n",
        "print(labels.shape)"
      ],
      "metadata": {
        "colab": {
          "base_uri": "https://localhost:8080/"
        },
        "id": "mXWxE5slZNnC",
        "outputId": "789e0ba6-3983-45c9-cc99-5ee3c69f3d47"
      },
      "execution_count": null,
      "outputs": [
        {
          "output_type": "stream",
          "name": "stdout",
          "text": [
            "(42000, 1)\n"
          ]
        }
      ]
    },
    {
      "cell_type": "code",
      "source": [
        "# 訓練データと評価データに分ける\n",
        "x_train, x_val, y_train, y_val = train_test_split(data, labels, test_size=0.2)\n",
        "print(f'x_train.shape: {x_train.shape}, x_val.shape: {x_val.shape}')"
      ],
      "metadata": {
        "colab": {
          "base_uri": "https://localhost:8080/"
        },
        "id": "H0DQgPGnX_LQ",
        "outputId": "d98109af-11c8-4f2e-8a4b-974e9248effe"
      },
      "execution_count": null,
      "outputs": [
        {
          "output_type": "stream",
          "name": "stdout",
          "text": [
            "x_train.shape: (33600, 28, 28, 1), x_val.shape: (8400, 28, 28, 1)\n"
          ]
        }
      ]
    },
    {
      "cell_type": "code",
      "source": [
        "# カスタムデータセットの定義\n",
        "class MNISTDataset(Dataset):\n",
        "        \n",
        "    def __init__(self, images, labels, transform = None):\n",
        "        \"\"\"Method to initilaize variables.\"\"\" \n",
        "        self.images = images\n",
        "        self.labels = labels\n",
        "        self.transform = transform\n",
        "\n",
        "    def __getitem__(self, index):\n",
        "        label = self.labels[index]\n",
        "        image = self.images[index]\n",
        "        \n",
        "        if self.transform is not None:\n",
        "            image = self.transform(image)\n",
        "        image = image.repeat(3, 1, 1)\n",
        "        return image, label\n",
        "\n",
        "    def __len__(self):\n",
        "        return len(self.images)"
      ],
      "metadata": {
        "id": "fKWGSMaFZZgC"
      },
      "execution_count": null,
      "outputs": []
    },
    {
      "cell_type": "code",
      "source": [
        "# データを0～1のテンソルに変換\n",
        "train_set = MNISTDataset(x_train, y_train, transform=transforms.Compose([transforms.ToTensor()]))\n",
        "val_set = MNISTDataset(x_val, y_val, transform=transforms.Compose([transforms.ToTensor()]))\n",
        "all_data = MNISTDataset(data, labels, transform=transforms.Compose([transforms.ToTensor()]))"
      ],
      "metadata": {
        "id": "RrteNAeMZa95"
      },
      "execution_count": null,
      "outputs": []
    },
    {
      "cell_type": "code",
      "source": [
        "train_loader = DataLoader(train_set, batch_size=32)\n",
        "val_loader = DataLoader(val_set, batch_size=32)\n",
        "all_data_loader = DataLoader(all_data, batch_size=32)"
      ],
      "metadata": {
        "id": "JRyHXRK5Zi9h"
      },
      "execution_count": null,
      "outputs": []
    },
    {
      "cell_type": "code",
      "source": [
        "# GPUが使えればGPUを使用\n",
        "device = torch.device('cuda' if torch.cuda.is_available() else 'cpu')"
      ],
      "metadata": {
        "id": "vF7oWAhiZmaI"
      },
      "execution_count": null,
      "outputs": []
    },
    {
      "cell_type": "code",
      "source": [
        "learning_rate = 0.001\n",
        "num_classes = 10\n",
        "num_epochs = 10"
      ],
      "metadata": {
        "id": "hFGiV3HJZoqw"
      },
      "execution_count": null,
      "outputs": []
    },
    {
      "cell_type": "code",
      "source": [
        "# TorchvisionからResNet-18（畳み込みニューラル ネットワーク）モデルをダウンロード\n",
        "model = torchvision.models.resnet18(pretrained=True)\n",
        "num_ftrs = model.fc.in_features"
      ],
      "metadata": {
        "colab": {
          "base_uri": "https://localhost:8080/",
          "height": 66,
          "referenced_widgets": [
            "dfe01e1829864bdc9a9a06f59d1ddfb9",
            "972a4fd8f78b425db8e741c545881ed7",
            "aea4f5c21f8d4179b47ac27fa3288788",
            "e80004dc2a43476cb896244937fcde46",
            "2c3c0425ebcb4adbb0e4cb2383063761",
            "5fc032a9d04b4401bf3c29035d50062a",
            "1e70fb27c4594e41a2df35f0ca951cd8",
            "2705ec180aeb4553abdb9787a380524a",
            "d4bf6b5b6f6a493bb7b6905936ef5b3a",
            "8bd005dd383e4984a9d56664edfcfc47",
            "9d559c8d68d34fe3b5b6b151b64d3fd1"
          ]
        },
        "id": "WDgG6TkqZrgW",
        "outputId": "a2f9bd6c-fa42-49c2-d62f-1d6d1f41b452"
      },
      "execution_count": null,
      "outputs": [
        {
          "output_type": "stream",
          "name": "stderr",
          "text": [
            "Downloading: \"https://download.pytorch.org/models/resnet18-f37072fd.pth\" to /root/.cache/torch/hub/checkpoints/resnet18-f37072fd.pth\n"
          ]
        },
        {
          "output_type": "display_data",
          "data": {
            "application/vnd.jupyter.widget-view+json": {
              "model_id": "dfe01e1829864bdc9a9a06f59d1ddfb9",
              "version_minor": 0,
              "version_major": 2
            },
            "text/plain": [
              "  0%|          | 0.00/44.7M [00:00<?, ?B/s]"
            ]
          },
          "metadata": {}
        }
      ]
    },
    {
      "cell_type": "code",
      "source": [
        "# 全結合を行う3層構造のニューラルネットワークを生成\n",
        "model.fc = nn.Linear(num_ftrs, num_classes)"
      ],
      "metadata": {
        "id": "S8DnqsBYZuwV"
      },
      "execution_count": null,
      "outputs": []
    },
    {
      "cell_type": "code",
      "source": [
        "model.to(device)"
      ],
      "metadata": {
        "colab": {
          "base_uri": "https://localhost:8080/"
        },
        "id": "Xn3JPhDeZ20G",
        "outputId": "a3ffe46f-ac6c-4ea4-b1fe-8cc17324bebc"
      },
      "execution_count": null,
      "outputs": [
        {
          "output_type": "execute_result",
          "data": {
            "text/plain": [
              "ResNet(\n",
              "  (conv1): Conv2d(3, 64, kernel_size=(7, 7), stride=(2, 2), padding=(3, 3), bias=False)\n",
              "  (bn1): BatchNorm2d(64, eps=1e-05, momentum=0.1, affine=True, track_running_stats=True)\n",
              "  (relu): ReLU(inplace=True)\n",
              "  (maxpool): MaxPool2d(kernel_size=3, stride=2, padding=1, dilation=1, ceil_mode=False)\n",
              "  (layer1): Sequential(\n",
              "    (0): BasicBlock(\n",
              "      (conv1): Conv2d(64, 64, kernel_size=(3, 3), stride=(1, 1), padding=(1, 1), bias=False)\n",
              "      (bn1): BatchNorm2d(64, eps=1e-05, momentum=0.1, affine=True, track_running_stats=True)\n",
              "      (relu): ReLU(inplace=True)\n",
              "      (conv2): Conv2d(64, 64, kernel_size=(3, 3), stride=(1, 1), padding=(1, 1), bias=False)\n",
              "      (bn2): BatchNorm2d(64, eps=1e-05, momentum=0.1, affine=True, track_running_stats=True)\n",
              "    )\n",
              "    (1): BasicBlock(\n",
              "      (conv1): Conv2d(64, 64, kernel_size=(3, 3), stride=(1, 1), padding=(1, 1), bias=False)\n",
              "      (bn1): BatchNorm2d(64, eps=1e-05, momentum=0.1, affine=True, track_running_stats=True)\n",
              "      (relu): ReLU(inplace=True)\n",
              "      (conv2): Conv2d(64, 64, kernel_size=(3, 3), stride=(1, 1), padding=(1, 1), bias=False)\n",
              "      (bn2): BatchNorm2d(64, eps=1e-05, momentum=0.1, affine=True, track_running_stats=True)\n",
              "    )\n",
              "  )\n",
              "  (layer2): Sequential(\n",
              "    (0): BasicBlock(\n",
              "      (conv1): Conv2d(64, 128, kernel_size=(3, 3), stride=(2, 2), padding=(1, 1), bias=False)\n",
              "      (bn1): BatchNorm2d(128, eps=1e-05, momentum=0.1, affine=True, track_running_stats=True)\n",
              "      (relu): ReLU(inplace=True)\n",
              "      (conv2): Conv2d(128, 128, kernel_size=(3, 3), stride=(1, 1), padding=(1, 1), bias=False)\n",
              "      (bn2): BatchNorm2d(128, eps=1e-05, momentum=0.1, affine=True, track_running_stats=True)\n",
              "      (downsample): Sequential(\n",
              "        (0): Conv2d(64, 128, kernel_size=(1, 1), stride=(2, 2), bias=False)\n",
              "        (1): BatchNorm2d(128, eps=1e-05, momentum=0.1, affine=True, track_running_stats=True)\n",
              "      )\n",
              "    )\n",
              "    (1): BasicBlock(\n",
              "      (conv1): Conv2d(128, 128, kernel_size=(3, 3), stride=(1, 1), padding=(1, 1), bias=False)\n",
              "      (bn1): BatchNorm2d(128, eps=1e-05, momentum=0.1, affine=True, track_running_stats=True)\n",
              "      (relu): ReLU(inplace=True)\n",
              "      (conv2): Conv2d(128, 128, kernel_size=(3, 3), stride=(1, 1), padding=(1, 1), bias=False)\n",
              "      (bn2): BatchNorm2d(128, eps=1e-05, momentum=0.1, affine=True, track_running_stats=True)\n",
              "    )\n",
              "  )\n",
              "  (layer3): Sequential(\n",
              "    (0): BasicBlock(\n",
              "      (conv1): Conv2d(128, 256, kernel_size=(3, 3), stride=(2, 2), padding=(1, 1), bias=False)\n",
              "      (bn1): BatchNorm2d(256, eps=1e-05, momentum=0.1, affine=True, track_running_stats=True)\n",
              "      (relu): ReLU(inplace=True)\n",
              "      (conv2): Conv2d(256, 256, kernel_size=(3, 3), stride=(1, 1), padding=(1, 1), bias=False)\n",
              "      (bn2): BatchNorm2d(256, eps=1e-05, momentum=0.1, affine=True, track_running_stats=True)\n",
              "      (downsample): Sequential(\n",
              "        (0): Conv2d(128, 256, kernel_size=(1, 1), stride=(2, 2), bias=False)\n",
              "        (1): BatchNorm2d(256, eps=1e-05, momentum=0.1, affine=True, track_running_stats=True)\n",
              "      )\n",
              "    )\n",
              "    (1): BasicBlock(\n",
              "      (conv1): Conv2d(256, 256, kernel_size=(3, 3), stride=(1, 1), padding=(1, 1), bias=False)\n",
              "      (bn1): BatchNorm2d(256, eps=1e-05, momentum=0.1, affine=True, track_running_stats=True)\n",
              "      (relu): ReLU(inplace=True)\n",
              "      (conv2): Conv2d(256, 256, kernel_size=(3, 3), stride=(1, 1), padding=(1, 1), bias=False)\n",
              "      (bn2): BatchNorm2d(256, eps=1e-05, momentum=0.1, affine=True, track_running_stats=True)\n",
              "    )\n",
              "  )\n",
              "  (layer4): Sequential(\n",
              "    (0): BasicBlock(\n",
              "      (conv1): Conv2d(256, 512, kernel_size=(3, 3), stride=(2, 2), padding=(1, 1), bias=False)\n",
              "      (bn1): BatchNorm2d(512, eps=1e-05, momentum=0.1, affine=True, track_running_stats=True)\n",
              "      (relu): ReLU(inplace=True)\n",
              "      (conv2): Conv2d(512, 512, kernel_size=(3, 3), stride=(1, 1), padding=(1, 1), bias=False)\n",
              "      (bn2): BatchNorm2d(512, eps=1e-05, momentum=0.1, affine=True, track_running_stats=True)\n",
              "      (downsample): Sequential(\n",
              "        (0): Conv2d(256, 512, kernel_size=(1, 1), stride=(2, 2), bias=False)\n",
              "        (1): BatchNorm2d(512, eps=1e-05, momentum=0.1, affine=True, track_running_stats=True)\n",
              "      )\n",
              "    )\n",
              "    (1): BasicBlock(\n",
              "      (conv1): Conv2d(512, 512, kernel_size=(3, 3), stride=(1, 1), padding=(1, 1), bias=False)\n",
              "      (bn1): BatchNorm2d(512, eps=1e-05, momentum=0.1, affine=True, track_running_stats=True)\n",
              "      (relu): ReLU(inplace=True)\n",
              "      (conv2): Conv2d(512, 512, kernel_size=(3, 3), stride=(1, 1), padding=(1, 1), bias=False)\n",
              "      (bn2): BatchNorm2d(512, eps=1e-05, momentum=0.1, affine=True, track_running_stats=True)\n",
              "    )\n",
              "  )\n",
              "  (avgpool): AdaptiveAvgPool2d(output_size=(1, 1))\n",
              "  (fc): Linear(in_features=512, out_features=10, bias=True)\n",
              ")"
            ]
          },
          "metadata": {},
          "execution_count": 41
        }
      ]
    },
    {
      "cell_type": "code",
      "source": [
        "criterion = nn.CrossEntropyLoss()"
      ],
      "metadata": {
        "id": "PNx68q9bZ--r"
      },
      "execution_count": null,
      "outputs": []
    },
    {
      "cell_type": "code",
      "source": [
        "# 全てのパラメータが最適化されることを観察\n",
        "optimizer = torch.optim.SGD(model.parameters(), lr=learning_rate, momentum=0.9)"
      ],
      "metadata": {
        "id": "DK9WIB4YaAK-"
      },
      "execution_count": null,
      "outputs": []
    },
    {
      "cell_type": "code",
      "source": [
        "# ７エポックごとにLRを0.1ずつ減らす\n",
        "# LR range test：初期学習率を決める手段で、ある幅で学習率を徐々に増加させながらAccuracyないしLossを観察し決定する手法\n",
        "exp_lr_scheduler = torch.optim.lr_scheduler.StepLR(optimizer, step_size=7, gamma=0.1)"
      ],
      "metadata": {
        "id": "X6cXm0lDaCvS"
      },
      "execution_count": null,
      "outputs": []
    },
    {
      "cell_type": "code",
      "source": [
        "# 損失関数と最適化アルゴリズムを生成\n",
        "criterion = nn.CrossEntropyLoss()\n",
        "optimizer = torch.optim.SGD(model.parameters(), lr=learning_rate)"
      ],
      "metadata": {
        "id": "qfn8CkyiaF3t"
      },
      "execution_count": null,
      "outputs": []
    },
    {
      "cell_type": "code",
      "source": [
        "# 学習率を更新する\n",
        "def update_lr(optimizer, lr):\n",
        "    for param_group in optimizer.param_groups:\n",
        "        param_group['lr'] = lr"
      ],
      "metadata": {
        "id": "NhiNhzMPaJFC"
      },
      "execution_count": null,
      "outputs": []
    },
    {
      "cell_type": "code",
      "source": [
        "# 学習する\n",
        "total_step = len(train_loader)\n",
        "curr_lr = learning_rate\n",
        "for epoch in range(num_epochs):\n",
        "    for i, (images, labels) in enumerate(train_loader):\n",
        "        images = images.to(device)\n",
        "        labels = labels.to(device)\n",
        "\n",
        "        # Forward pass（順伝搬：初期の入力を層ごとに処理して出力に向けて送ること）\n",
        "        outputs = model(images)\n",
        "        loss = criterion(outputs, labels.flatten())\n",
        "\n",
        "        # Backward and optimize（逆伝播と最適化を行う）\n",
        "        optimizer.zero_grad()\n",
        "        loss.backward()\n",
        "        optimizer.step()\n",
        "\n",
        "        if (i + 1) % 300 == 0:\n",
        "            print(f'Epoch: {epoch + 1}/{num_epochs}, Loss: {loss.item()}')"
      ],
      "metadata": {
        "colab": {
          "base_uri": "https://localhost:8080/"
        },
        "id": "-n0O5iF6aL6E",
        "outputId": "6ad93b9c-dc44-4ed8-b358-b2a58c5fd3b0"
      },
      "execution_count": null,
      "outputs": [
        {
          "output_type": "stream",
          "name": "stdout",
          "text": [
            "Epoch: 1/10, Loss: 0.2998724579811096\n",
            "Epoch: 1/10, Loss: 0.319784015417099\n",
            "Epoch: 1/10, Loss: 0.15973897278308868\n",
            "Epoch: 2/10, Loss: 0.02989523485302925\n",
            "Epoch: 2/10, Loss: 0.13289044797420502\n",
            "Epoch: 2/10, Loss: 0.06090101599693298\n",
            "Epoch: 3/10, Loss: 0.013707166537642479\n",
            "Epoch: 3/10, Loss: 0.061143454164266586\n",
            "Epoch: 3/10, Loss: 0.021016106009483337\n",
            "Epoch: 4/10, Loss: 0.007110942155122757\n",
            "Epoch: 4/10, Loss: 0.028975604102015495\n",
            "Epoch: 4/10, Loss: 0.009665836580097675\n",
            "Epoch: 5/10, Loss: 0.004808831959962845\n",
            "Epoch: 5/10, Loss: 0.018560420721769333\n",
            "Epoch: 5/10, Loss: 0.005073982756584883\n",
            "Epoch: 6/10, Loss: 0.003653968684375286\n",
            "Epoch: 6/10, Loss: 0.013183138333261013\n",
            "Epoch: 6/10, Loss: 0.0032614616211503744\n",
            "Epoch: 7/10, Loss: 0.0028419967275112867\n",
            "Epoch: 7/10, Loss: 0.009468715637922287\n",
            "Epoch: 7/10, Loss: 0.002478603273630142\n",
            "Epoch: 8/10, Loss: 0.002291696146130562\n",
            "Epoch: 8/10, Loss: 0.006992284674197435\n",
            "Epoch: 8/10, Loss: 0.0020673214457929134\n",
            "Epoch: 9/10, Loss: 0.0018868263578042388\n",
            "Epoch: 9/10, Loss: 0.0056554051116108894\n",
            "Epoch: 9/10, Loss: 0.001714753219857812\n",
            "Epoch: 10/10, Loss: 0.001575325964950025\n",
            "Epoch: 10/10, Loss: 0.004706903360784054\n",
            "Epoch: 10/10, Loss: 0.0014559815172106028\n"
          ]
        }
      ]
    },
    {
      "cell_type": "code",
      "source": [
        "# 評価する\n",
        "model.eval()\n",
        "with torch.no_grad():\n",
        "    correct = 0\n",
        "    total = 0\n",
        "    for images, labels in val_loader:\n",
        "        images = images.to(device)\n",
        "        labels = labels.to(device)\n",
        "\n",
        "        outputs = model(images)\n",
        "        _, predicted = torch.max(outputs, 1)\n",
        "        total += labels.size(0)\n",
        "        correct += (predicted == labels.flatten()).sum()\n",
        "\n",
        "        print(f'Test acc: {100 * correct / total}')"
      ],
      "metadata": {
        "colab": {
          "base_uri": "https://localhost:8080/"
        },
        "id": "aGPFD64JaR1u",
        "outputId": "bc2d8b38-ef32-463d-c04f-b0ec925559a4"
      },
      "execution_count": null,
      "outputs": [
        {
          "output_type": "stream",
          "name": "stdout",
          "text": [
            "Test acc: 100.0\n",
            "Test acc: 98.4375\n",
            "Test acc: 98.95833587646484\n",
            "Test acc: 98.4375\n",
            "Test acc: 98.75\n",
            "Test acc: 98.4375\n",
            "Test acc: 98.21428680419922\n",
            "Test acc: 98.046875\n",
            "Test acc: 98.2638931274414\n",
            "Test acc: 98.4375\n",
            "Test acc: 98.57955169677734\n",
            "Test acc: 98.69792175292969\n",
            "Test acc: 98.55769348144531\n",
            "Test acc: 98.66072082519531\n",
            "Test acc: 98.54167175292969\n",
            "Test acc: 98.4375\n",
            "Test acc: 98.34558868408203\n",
            "Test acc: 98.4375\n",
            "Test acc: 98.51973724365234\n",
            "Test acc: 98.4375\n",
            "Test acc: 98.21428680419922\n",
            "Test acc: 98.29545593261719\n",
            "Test acc: 98.23369598388672\n",
            "Test acc: 98.30729675292969\n",
            "Test acc: 98.125\n",
            "Test acc: 98.0769271850586\n",
            "Test acc: 98.14814758300781\n",
            "Test acc: 98.21428680419922\n",
            "Test acc: 98.27586364746094\n",
            "Test acc: 98.22917175292969\n",
            "Test acc: 98.08467102050781\n",
            "Test acc: 98.046875\n",
            "Test acc: 98.10606384277344\n",
            "Test acc: 98.1617660522461\n",
            "Test acc: 98.21428680419922\n",
            "Test acc: 98.2638931274414\n",
            "Test acc: 98.22635650634766\n",
            "Test acc: 98.19078826904297\n",
            "Test acc: 98.2371826171875\n",
            "Test acc: 98.28125\n",
            "Test acc: 98.32316589355469\n",
            "Test acc: 98.36309814453125\n",
            "Test acc: 98.40116119384766\n",
            "Test acc: 98.29545593261719\n",
            "Test acc: 98.33333587646484\n",
            "Test acc: 98.3016357421875\n",
            "Test acc: 98.27127075195312\n",
            "Test acc: 98.30729675292969\n",
            "Test acc: 98.21428680419922\n",
            "Test acc: 98.25\n",
            "Test acc: 98.28431701660156\n",
            "Test acc: 98.31731414794922\n",
            "Test acc: 98.29009246826172\n",
            "Test acc: 98.2638931274414\n",
            "Test acc: 98.29544830322266\n",
            "Test acc: 98.32589721679688\n",
            "Test acc: 98.24561309814453\n",
            "Test acc: 98.22198486328125\n",
            "Test acc: 98.25212097167969\n",
            "Test acc: 98.22917175292969\n",
            "Test acc: 98.25819396972656\n",
            "Test acc: 98.28628540039062\n",
            "Test acc: 98.2638931274414\n",
            "Test acc: 98.291015625\n",
            "Test acc: 98.26923370361328\n",
            "Test acc: 98.24810791015625\n",
            "Test acc: 98.22760772705078\n",
            "Test acc: 98.25367736816406\n",
            "Test acc: 98.27898406982422\n",
            "Test acc: 98.25892639160156\n",
            "Test acc: 98.283447265625\n",
            "Test acc: 98.30728912353516\n",
            "Test acc: 98.33048248291016\n",
            "Test acc: 98.35304260253906\n",
            "Test acc: 98.375\n",
            "Test acc: 98.35526275634766\n",
            "Test acc: 98.37662506103516\n",
            "Test acc: 98.35737609863281\n",
            "Test acc: 98.37816619873047\n",
            "Test acc: 98.3984375\n",
            "Test acc: 98.37963104248047\n",
            "Test acc: 98.39938354492188\n",
            "Test acc: 98.41867065429688\n",
            "Test acc: 98.4375\n",
            "Test acc: 98.45588684082031\n",
            "Test acc: 98.47383880615234\n",
            "Test acc: 98.49137878417969\n",
            "Test acc: 98.5085220336914\n",
            "Test acc: 98.49017333984375\n",
            "Test acc: 98.50695037841797\n",
            "Test acc: 98.52335357666016\n",
            "Test acc: 98.5394058227539\n",
            "Test acc: 98.55510711669922\n",
            "Test acc: 98.57047271728516\n",
            "Test acc: 98.5526351928711\n",
            "Test acc: 98.56771087646484\n",
            "Test acc: 98.58247375488281\n",
            "Test acc: 98.59693908691406\n",
            "Test acc: 98.61111450195312\n",
            "Test acc: 98.625\n",
            "Test acc: 98.63861083984375\n",
            "Test acc: 98.65196228027344\n",
            "Test acc: 98.66504669189453\n",
            "Test acc: 98.67788696289062\n",
            "Test acc: 98.66072082519531\n",
            "Test acc: 98.61438751220703\n",
            "Test acc: 98.59812927246094\n",
            "Test acc: 98.61111450195312\n",
            "Test acc: 98.62384796142578\n",
            "Test acc: 98.63636016845703\n",
            "Test acc: 98.64865112304688\n",
            "Test acc: 98.66072082519531\n",
            "Test acc: 98.67256927490234\n",
            "Test acc: 98.68421173095703\n",
            "Test acc: 98.66847229003906\n",
            "Test acc: 98.65301513671875\n",
            "Test acc: 98.66453552246094\n",
            "Test acc: 98.67584991455078\n",
            "Test acc: 98.63446044921875\n",
            "Test acc: 98.64583587646484\n",
            "Test acc: 98.65702056884766\n",
            "Test acc: 98.66802978515625\n",
            "Test acc: 98.65345001220703\n",
            "Test acc: 98.61390686035156\n",
            "Test acc: 98.62500762939453\n",
            "Test acc: 98.61111450195312\n",
            "Test acc: 98.6220474243164\n",
            "Test acc: 98.6328125\n",
            "Test acc: 98.61918640136719\n",
            "Test acc: 98.62980651855469\n",
            "Test acc: 98.61640930175781\n",
            "Test acc: 98.62689971923828\n",
            "Test acc: 98.63722229003906\n",
            "Test acc: 98.64738464355469\n",
            "Test acc: 98.65740203857422\n",
            "Test acc: 98.66728210449219\n",
            "Test acc: 98.6541976928711\n",
            "Test acc: 98.66394805908203\n",
            "Test acc: 98.65108489990234\n",
            "Test acc: 98.66071319580078\n",
            "Test acc: 98.67021179199219\n",
            "Test acc: 98.6575698852539\n",
            "Test acc: 98.64510345458984\n",
            "Test acc: 98.6545181274414\n",
            "Test acc: 98.6637954711914\n",
            "Test acc: 98.67294311523438\n",
            "Test acc: 98.68196868896484\n",
            "Test acc: 98.69087982177734\n",
            "Test acc: 98.6786880493164\n",
            "Test acc: 98.6875\n",
            "Test acc: 98.67549896240234\n",
            "Test acc: 98.66365051269531\n",
            "Test acc: 98.6723861694336\n",
            "Test acc: 98.6810073852539\n",
            "Test acc: 98.6491928100586\n",
            "Test acc: 98.65785217285156\n",
            "Test acc: 98.6664047241211\n",
            "Test acc: 98.67484283447266\n",
            "Test acc: 98.66352081298828\n",
            "Test acc: 98.6328125\n",
            "Test acc: 98.64130401611328\n",
            "Test acc: 98.63040161132812\n",
            "Test acc: 98.60045623779297\n",
            "Test acc: 98.60899353027344\n",
            "Test acc: 98.59848022460938\n",
            "Test acc: 98.60692596435547\n",
            "Test acc: 98.61527252197266\n",
            "Test acc: 98.60491180419922\n",
            "Test acc: 98.61316680908203\n",
            "Test acc: 98.62132263183594\n",
            "Test acc: 98.61111450195312\n",
            "Test acc: 98.60102081298828\n",
            "Test acc: 98.5910415649414\n",
            "Test acc: 98.5811767578125\n",
            "Test acc: 98.58928680419922\n",
            "Test acc: 98.57955169677734\n",
            "Test acc: 98.58757019042969\n",
            "Test acc: 98.59550476074219\n",
            "Test acc: 98.58589172363281\n",
            "Test acc: 98.5763931274414\n",
            "Test acc: 98.5669937133789\n",
            "Test acc: 98.55769348144531\n",
            "Test acc: 98.5655746459961\n",
            "Test acc: 98.57337188720703\n",
            "Test acc: 98.58108520507812\n",
            "Test acc: 98.57190704345703\n",
            "Test acc: 98.57954406738281\n",
            "Test acc: 98.57047271728516\n",
            "Test acc: 98.57804107666016\n",
            "Test acc: 98.58553314208984\n",
            "Test acc: 98.59293365478516\n",
            "Test acc: 98.583984375\n",
            "Test acc: 98.59131622314453\n",
            "Test acc: 98.59857940673828\n",
            "Test acc: 98.60577392578125\n",
            "Test acc: 98.61287689208984\n",
            "Test acc: 98.60405731201172\n",
            "Test acc: 98.59532928466797\n",
            "Test acc: 98.60238647460938\n",
            "Test acc: 98.609375\n",
            "Test acc: 98.61629486083984\n",
            "Test acc: 98.62313842773438\n",
            "Test acc: 98.62992095947266\n",
            "Test acc: 98.62133026123047\n",
            "Test acc: 98.61280822753906\n",
            "Test acc: 98.61953735351562\n",
            "Test acc: 98.6111068725586\n",
            "Test acc: 98.61779022216797\n",
            "Test acc: 98.60944366455078\n",
            "Test acc: 98.61607360839844\n",
            "Test acc: 98.62263488769531\n",
            "Test acc: 98.6291275024414\n",
            "Test acc: 98.63556671142578\n",
            "Test acc: 98.64193725585938\n",
            "Test acc: 98.64825439453125\n",
            "Test acc: 98.64004516601562\n",
            "Test acc: 98.64631652832031\n",
            "Test acc: 98.65251922607422\n",
            "Test acc: 98.6586685180664\n",
            "Test acc: 98.6647720336914\n",
            "Test acc: 98.65667724609375\n",
            "Test acc: 98.64865112304688\n",
            "Test acc: 98.65471649169922\n",
            "Test acc: 98.64676666259766\n",
            "Test acc: 98.65277862548828\n",
            "Test acc: 98.64491271972656\n",
            "Test acc: 98.6371078491211\n",
            "Test acc: 98.6430892944336\n",
            "Test acc: 98.6353759765625\n",
            "Test acc: 98.64129638671875\n",
            "Test acc: 98.64718627929688\n",
            "Test acc: 98.6395492553711\n",
            "Test acc: 98.6453857421875\n",
            "Test acc: 98.63782501220703\n",
            "Test acc: 98.64361572265625\n",
            "Test acc: 98.63612365722656\n",
            "Test acc: 98.6286849975586\n",
            "Test acc: 98.62133026123047\n",
            "Test acc: 98.62709045410156\n",
            "Test acc: 98.61979675292969\n",
            "Test acc: 98.62552642822266\n",
            "Test acc: 98.61827850341797\n",
            "Test acc: 98.62397003173828\n",
            "Test acc: 98.62960815429688\n",
            "Test acc: 98.60968780517578\n",
            "Test acc: 98.61534118652344\n",
            "Test acc: 98.62095642089844\n",
            "Test acc: 98.61390686035156\n",
            "Test acc: 98.61947631835938\n",
            "Test acc: 98.62500762939453\n",
            "Test acc: 98.63047790527344\n",
            "Test acc: 98.63591766357422\n",
            "Test acc: 98.62895965576172\n",
            "Test acc: 98.6220474243164\n",
            "Test acc: 98.62745666503906\n",
            "Test acc: 98.6328125\n",
            "Test acc: 98.63813018798828\n",
            "Test acc: 98.63130187988281\n",
            "Test acc: 98.62451171875\n",
            "Test acc: 98.62980651855469\n",
            "Test acc: 98.63505554199219\n",
            "Test acc: 98.62834167480469\n",
            "Test acc: 98.63095092773438\n"
          ]
        }
      ]
    },
    {
      "cell_type": "code",
      "source": [
        "test_data = pd.read_csv('test.csv', dtype=np.float32)\n",
        "test_data = test_data.to_numpy() / 255.0\n",
        "test_data = test_data.reshape(-1, 28, 28, 1)  # reshapeの一つのサイズが決まっているとき、もう一方を-1とすると、-1には元の形"
      ],
      "metadata": {
        "id": "s3IN__Z4aaiN"
      },
      "execution_count": null,
      "outputs": []
    },
    {
      "cell_type": "code",
      "source": [
        "test_tensor = torch.from_numpy(test_data).permute(0, 3, 1, 2)  # numpy ndarrayからPytorch tensorに変換し、次元の入れ替え(permute)\n",
        "test_tensor = test_tensor.repeat(1, 3, 1, 1)  # データセットの繰り返し"
      ],
      "metadata": {
        "id": "8nVjqtglad1o"
      },
      "execution_count": null,
      "outputs": []
    },
    {
      "cell_type": "code",
      "source": [
        "images = test_tensor.to(device)\n",
        "outputs = model(images)\n",
        "_, predictions = torch.max(outputs, 1)  # 配列の最大値の要素を返す"
      ],
      "metadata": {
        "id": "5Zq-IqFQaf9o"
      },
      "execution_count": null,
      "outputs": []
    },
    {
      "cell_type": "code",
      "source": [
        "predictions = predictions.cpu()\n",
        "submission = pd.DataFrame({'ImageId': np.arange(1, (predictions.size(0) + 1)), 'Label': predictions})\n",
        "submission.to_csv(\"submission.csv\", index = False)\n",
        "print(\"# 終了 #\")"
      ],
      "metadata": {
        "colab": {
          "base_uri": "https://localhost:8080/"
        },
        "id": "-ONHdvXbai6j",
        "outputId": "63dd645e-ecd0-4702-b1cd-ddf4478ddef7"
      },
      "execution_count": null,
      "outputs": [
        {
          "output_type": "stream",
          "name": "stdout",
          "text": [
            "# 終了 #\n"
          ]
        }
      ]
    }
  ]
}