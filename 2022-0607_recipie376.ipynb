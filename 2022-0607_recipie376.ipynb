{
  "nbformat": 4,
  "nbformat_minor": 0,
  "metadata": {
    "colab": {
      "name": "2022-0607_recipie376.ipynb",
      "private_outputs": true,
      "provenance": [],
      "collapsed_sections": [],
      "mount_file_id": "1QxnldRrAuaE_F7lpKqXuWZP6LLs4-hWB",
      "authorship_tag": "ABX9TyPIANhVXZKREmwz8p6qYYTB",
      "include_colab_link": true
    },
    "kernelspec": {
      "name": "python3",
      "display_name": "Python 3"
    },
    "language_info": {
      "name": "python"
    },
    "accelerator": "GPU"
  },
  "cells": [
    {
      "cell_type": "markdown",
      "metadata": {
        "id": "view-in-github",
        "colab_type": "text"
      },
      "source": [
        "<a href=\"https://colab.research.google.com/github/Re14m/training/blob/master/2022-0607_recipie376.ipynb\" target=\"_parent\"><img src=\"https://colab.research.google.com/assets/colab-badge.svg\" alt=\"Open In Colab\"/></a>"
      ]
    },
    {
      "cell_type": "markdown",
      "source": [
        "# [pandasでマーケティングシミュレーションをするレシピ](https://axross-recipe.com/recipes/376)"
      ],
      "metadata": {
        "id": "r2XJSRJMof9Z"
      }
    },
    {
      "cell_type": "markdown",
      "source": [
        "## 環境準備"
      ],
      "metadata": {
        "id": "Oyp2R7EToqas"
      }
    },
    {
      "cell_type": "code",
      "source": [
        "from google.colab import drive\n",
        "drive.mount(\"/content/drive/\")"
      ],
      "metadata": {
        "id": "R0SHu_WZowX5"
      },
      "execution_count": null,
      "outputs": []
    },
    {
      "cell_type": "markdown",
      "source": [
        "## シミュレーションの準備をしよう"
      ],
      "metadata": {
        "id": "vFLZk81ao_6y"
      }
    },
    {
      "cell_type": "code",
      "execution_count": null,
      "metadata": {
        "id": "VvcXkEE4oQVX"
      },
      "outputs": [],
      "source": [
        "# シミュレーション値の設定\n",
        "\n",
        "# シミュレーション人数\n",
        "simulation_num = 50000\n",
        "\n",
        "# 指定期間の使用数\n",
        "using_num = 20\n",
        "\n",
        "# 初期シェア分布(個数比)\n",
        "SampleA_first = 0.2\n",
        "SampleB_first = 0.3\n",
        "SampleC_first =  0.5\n",
        "\n",
        "# あるサンプルからサンプルへの遷移確率のリスト\n",
        "# SampleA_toは、A→A（リピート）, A→B(Bのトライアル), A→C(Cのトライアル)の確率を順に格納したリスト\n",
        "\n",
        "SampleA_to = [0.9, 0.03, 0.07]\n",
        "SampleB_to = [0.1, 0.7, 0.2]\n",
        "SampleC_to = [0.1, 0.1, 0.8]"
      ]
    },
    {
      "cell_type": "code",
      "source": [
        "# 各商品への遷移確率の合計（トライアル率）\n",
        "sample_name_list = [\"SampleA\",\"SampleB\",\"SampleC\"]\n",
        "\n",
        "for val in range(len(sample_name_list)):\n",
        "    trial_sum = list([SampleA_to[val], SampleB_to[val], SampleC_to[val]])\n",
        "    trial_rate = sum(trial_sum) - trial_sum[val]\n",
        "    print(sample_name_list[val],\"のトライアル率は\",\"{:.3f}\\n\".format(trial_rate), \"\\t\\tリピート率は\", trial_sum[val])"
      ],
      "metadata": {
        "id": "Yte3n3VvqcFh"
      },
      "execution_count": null,
      "outputs": []
    },
    {
      "cell_type": "markdown",
      "source": [
        "## 表を生成しよう"
      ],
      "metadata": {
        "id": "ihpv0vA3qgUs"
      }
    },
    {
      "cell_type": "code",
      "source": [
        "# 与えられた確立を元にシミュレーションする\n",
        "import pandas as pd\n",
        "import random\n",
        "\n",
        "# 与えられた引数を元に、使用回数ごとにどの銘柄を使ったかをtableにする関数\n",
        "def make_simulation_table(simulation_num, using_num, SampleA_first, SampleB_first, SampleC_first):\n",
        "    \n",
        "    #シミュレーション人数\n",
        "    user_val = [\"user_\" + str(num) for num in range(1, simulation_num+1)]\n",
        "\n",
        "    #想定使用回数\n",
        "    cols = [\"use_\" + str(num) for num in range(1, using_num + 1)]\n",
        "    \n",
        "    #DataFrameの生成\n",
        "    simulation_table = pd.DataFrame(index = user_val,columns = cols)\n",
        "    \n",
        "    #use_1（使用1回目)は上から初期シェア比率に応じて入れていく\n",
        "    SampleA_using_num = round(simulation_num * SampleA_first)\n",
        "    SampleB_using_num = round(simulation_num * SampleB_first)\n",
        "    SampleC_using_num = round(simulation_num * SampleC_first)   \n",
        "    \n",
        "    for val in range(SampleA_using_num):\n",
        "        simulation_table[\"use_1\"][val] = \"SampleA\"\n",
        "\n",
        "    for val in range(SampleA_using_num, SampleA_using_num + SampleB_using_num):\n",
        "        simulation_table[\"use_1\"][val] = \"SampleB\"\n",
        "        \n",
        "    for val in range(SampleA_using_num + SampleB_using_num, SampleA_using_num + SampleB_using_num + SampleC_using_num):\n",
        "        simulation_table[\"use_1\"][val] = \"SampleC\"\n",
        "    \n",
        "    return simulation_table"
      ],
      "metadata": {
        "id": "ZVoLfwlFqTpT"
      },
      "execution_count": null,
      "outputs": []
    },
    {
      "cell_type": "code",
      "source": [
        "table = make_simulation_table(simulation_num, using_num,SampleA_first, SampleB_first, SampleC_first)\n",
        "\n",
        "print(table.head())\n",
        "print(table.tail())"
      ],
      "metadata": {
        "id": "4sItUt_tr_zi"
      },
      "execution_count": null,
      "outputs": []
    },
    {
      "cell_type": "markdown",
      "source": [
        "## 2回目以降の使用商品をシミュレーションしよう"
      ],
      "metadata": {
        "id": "cChojtV5sG64"
      }
    },
    {
      "cell_type": "code",
      "source": [
        "# use2以降は、一つ前のカラムの値に応じて、それぞれの遷移確率でランダムに代入する。\n",
        "# 同じ行の一つ前の列の値を参考して、確率に応じて代入する文字列を出力する関数を作る\n",
        "def select_object(simulation_table, index_num, col_num, SampleA_to, SampleB_to, SampleC_to):\n",
        " \n",
        "# SampleAの場合\n",
        "    if simulation_table.iloc[index_num, col_num-1] == \"SampleA\":\n",
        "        threshold_num = random.random()\n",
        "\n",
        "        if threshold_num < SampleA_to[0]:\n",
        "            using = \"SampleA\"\n",
        "        elif SampleA_to[0] <= threshold_num < sum(SampleA_to[0:2]):\n",
        "            using = \"SampleB\"\n",
        "        elif sum(SampleA_to[0:2])<= threshold_num <= sum(SampleA_to[0:3]):\n",
        "            using = \"SampleC\"    \n",
        "        \n",
        "# SampleBの場合\n",
        "        elif simulation_table.iloc[index_num, col_num-1] == \"SampleB\":\n",
        "            threshold_num = random.random()\n",
        "            \n",
        "        if threshold_num < SampleB_to[0]:\n",
        "            using = \"SampleA\"\n",
        "        elif SampleB_to[0] <= threshold_num < sum(SampleB_to[0:2]):\n",
        "            using = \"SampleB\"\n",
        "        elif sum(SampleB_to[0:2])<= threshold_num <= sum(SampleB_to[0:3]):\n",
        "            using = \"SampleC\"    \n",
        "\n",
        "# SampleCの場合\n",
        "        elif simulation_table.iloc[index_num, col_num-1] == \"SampleC\":\n",
        "            threshold_num = random.random()\n",
        "            \n",
        "        if threshold_num < SampleC_to[0]:\n",
        "            using = \"SampleA\"\n",
        "        elif SampleC_to[0] <= threshold_num < sum(SampleC_to[0:2]):\n",
        "            using = \"SampleB\"\n",
        "        elif sum(SampleC_to[0:2])<= threshold_num <= sum(SampleC_to[0:3]):\n",
        "            using = \"SampleC\"    \n",
        "\n",
        "        return using\n",
        "                \n",
        "# 遷移確率を元に各カラムに値を挿入\n",
        "    for index_val in range(simulation_num):\n",
        "        for col_val in range(1, using_num):\n",
        "            simulation_table.iloc[index_val][col_val] = select_object(simulation_table, index_val, col_val, SampleA_to, SampleB_to, SampleC_to)"
      ],
      "metadata": {
        "id": "ltFPRaRrsJMX"
      },
      "execution_count": null,
      "outputs": []
    },
    {
      "cell_type": "code",
      "source": [
        "# 与えられた確立を元にシミュレーションする\n",
        "import pandas as pd\n",
        "import random\n",
        "\n",
        "# 与えられた引数を元に、使用回数ごとにどの銘柄を使ったかをtableにする関数\n",
        "# 内部のselect_objectで遷移確率を引数にとる。\n",
        "def make_simulation_table(simulation_num, using_num, SampleA_first, SampleB_first, SampleC_first):\n",
        "    \n",
        "    #シミュレーション人数\n",
        "    user_val = [\"user_\" + str(num) for num in range(1, simulation_num+1)]\n",
        "\n",
        "    #想定使用回数\n",
        "    cols = [\"use_\" + str(num) for num in range(1, using_num + 1)]\n",
        "    \n",
        "    #DataFrameの生成\n",
        "    simulation_table = pd.DataFrame(index = user_val,columns = cols)\n",
        "    \n",
        "    #use_1（使用1回目)は上から初期シェア比率に応じて入れていく\n",
        "    SampleA_using_num = round(simulation_num * SampleA_first)\n",
        "    SampleB_using_num = round(simulation_num * SampleB_first)\n",
        "    SampleC_using_num = round(simulation_num * SampleC_first)   \n",
        "    \n",
        "    for val in range(SampleA_using_num):\n",
        "        simulation_table[\"use_1\"][val] = \"SampleA\"\n",
        "\n",
        "    for val in range(SampleA_using_num, SampleA_using_num + SampleB_using_num):\n",
        "        simulation_table[\"use_1\"][val] = \"SampleB\"\n",
        "        \n",
        "    for val in range(SampleA_using_num + SampleB_using_num, SampleA_using_num + SampleB_using_num + SampleC_using_num):\n",
        "        simulation_table[\"use_1\"][val] = \"SampleC\"\n",
        "    \n",
        "      \n",
        "    #use2以降は、一つ前のカラムの値に応じて、それぞれの遷移確率でランダムに代入する。\n",
        "    #同じ行の一つ前の列の値を参考して、確率に応じて代入する文字列を出力する関数を作る\n",
        "    def select_object(simulation_table, index_num, col_num, SampleA_to, SampleB_to, SampleC_to):\n",
        "        #SampleAの場合\n",
        "        if simulation_table.iloc[index_num, col_num-1] == \"SampleA\":\n",
        "            threshold_num = random.random()\n",
        "            \n",
        "            if threshold_num < SampleA_to[0]:\n",
        "                using = \"SampleA\"\n",
        "            elif SampleA_to[0] <= threshold_num < sum(SampleA_to[0:2]):\n",
        "                using = \"SampleB\"\n",
        "            elif sum(SampleA_to[0:2])<= threshold_num <= sum(SampleA_to[0:3]):\n",
        "                using = \"SampleC\"    \n",
        " \n",
        "        \n",
        "        #SampleBの場合\n",
        "        elif simulation_table.iloc[index_num, col_num-1] == \"SampleB\":\n",
        "            threshold_num = random.random()\n",
        "            \n",
        "            if threshold_num < SampleB_to[0]:\n",
        "                using = \"SampleA\"\n",
        "            elif SampleB_to[0] <= threshold_num < sum(SampleB_to[0:2]):\n",
        "                using = \"SampleB\"\n",
        "            elif sum(SampleB_to[0:2])<= threshold_num <= sum(SampleB_to[0:3]):\n",
        "                using = \"SampleC\"    \n",
        "\n",
        "        #SampleCの場合\n",
        "        elif simulation_table.iloc[index_num, col_num-1] == \"SampleC\":\n",
        "            threshold_num = random.random()\n",
        "            \n",
        "            if threshold_num < SampleC_to[0]:\n",
        "                using = \"SampleA\"\n",
        "            elif SampleC_to[0] <= threshold_num < sum(SampleC_to[0:2]):\n",
        "                using = \"SampleB\"\n",
        "            elif sum(SampleC_to[0:2])<= threshold_num <= sum(SampleC_to[0:3]):\n",
        "                using = \"SampleC\"    \n",
        "\n",
        "        return using\n",
        "                \n",
        "    #遷移確率を元に各カラムに値を挿入\n",
        "    for index_val in range(simulation_num):\n",
        "        for col_val in range(1, using_num):\n",
        "            simulation_table.iloc[index_val][col_val] = select_object(simulation_table, index_val, col_val, SampleA_to, SampleB_to, SampleC_to)\n",
        "\n",
        "    return simulation_table\n",
        "\n",
        "table = make_simulation_table(simulation_num, using_num,SampleA_first, SampleB_first, SampleC_first)\n",
        "table"
      ],
      "metadata": {
        "id": "fybVAvQUsygG"
      },
      "execution_count": null,
      "outputs": []
    },
    {
      "cell_type": "markdown",
      "source": [
        "## 作った表を解析しよう"
      ],
      "metadata": {
        "id": "C58Vm6BHvej9"
      }
    },
    {
      "cell_type": "code",
      "source": [
        "# 最終的な個数シェアを算出\n",
        "table_A = (table == \"SampleA\")\n",
        "print(table_A.values.sum())\n",
        "\n",
        "table_B = (table == \"SampleB\")\n",
        "print(table_B.values.sum())\n",
        "\n",
        "table_C = (table == \"SampleC\")\n",
        "print(table_C.values.sum())\n",
        "\n",
        "total_share = simulation_num * using_num #セルの数\n",
        "\n",
        "print(\"SampleA_share\", table_A.values.sum() / total_share)\n",
        "print(\"SampleB_share\", table_B.values.sum() / total_share)\n",
        "print(\"SampleC_share\", table_C.values.sum() / total_share)"
      ],
      "metadata": {
        "id": "49nhq4bQvgbz"
      },
      "execution_count": null,
      "outputs": []
    },
    {
      "cell_type": "code",
      "source": [
        "# 個数シェア推移\n",
        "\n",
        "import matplotlib.pyplot as plt\n",
        "%matplotlib inline\n",
        "\n",
        "SampleA_share_list = []\n",
        "SampleB_share_list = []\n",
        "SampleC_share_list = []\n",
        "\n",
        "for val in range(0, using_num):\n",
        "    SampleA_share_list.append(table.iloc[:,val].value_counts()[\"SampleA\"]/simulation_num)\n",
        "\n",
        "for val in range(0, using_num):\n",
        "    SampleB_share_list.append(table.iloc[:,val].value_counts()[\"SampleB\"]/simulation_num)\n",
        "\n",
        "for val in range(0, using_num):\n",
        "    SampleC_share_list.append(table.iloc[:,val].value_counts()[\"SampleC\"]/simulation_num)    \n",
        "\n",
        "plt.plot(SampleA_share_list, label = \"SampleA\")\n",
        "plt.plot(SampleB_share_list, label = \"SampleB\")\n",
        "plt.plot(SampleC_share_list, label = \"SampleC\")\n",
        "plt.legend(bbox_to_anchor=(1.05,1))\n",
        "plt.xlabel(\"using_num\")\n",
        "plt.ylabel(\"number_share\")\n",
        "\n",
        "plt.title(\"number_share\")"
      ],
      "metadata": {
        "id": "4Tkmt2Csvoj0"
      },
      "execution_count": null,
      "outputs": []
    },
    {
      "cell_type": "code",
      "source": [
        "# シミュレーションに用いる値を設定する\n",
        "\n",
        "#シミュレーション人数\n",
        "simulation_num = 50000\n",
        "\n",
        "#指定期間の使用数\n",
        "using_num = 20\n",
        "\n",
        "#初期シェア分布(個数比)\n",
        "SampleA_first = 0.2\n",
        "SampleB_first = 0.3\n",
        "SampleC_first =  0.5\n",
        "\n",
        "#あるサンプルからサンプルへの遷移確率のリスト\n",
        "#SampleA_toは、A→A（リピート）, A→B(Bのトライアル), A→C(Cのトライアル)の確率を順に格納したリスト\n",
        "\n",
        "SampleA_to = [0.85, 0.05, 0.1]\n",
        "SampleB_to = [0.05, 0.83, 0.12]\n",
        "SampleC_to = [0.08, 0.08, 0.84]"
      ],
      "metadata": {
        "id": "ALamoDzJvtjt"
      },
      "execution_count": null,
      "outputs": []
    }
  ]
}