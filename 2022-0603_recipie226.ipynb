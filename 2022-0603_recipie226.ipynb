{
  "nbformat": 4,
  "nbformat_minor": 0,
  "metadata": {
    "colab": {
      "name": "2022-0603_recipie226.ipynb",
      "private_outputs": true,
      "provenance": [],
      "collapsed_sections": [],
      "include_colab_link": true
    },
    "kernelspec": {
      "name": "python3",
      "display_name": "Python 3"
    },
    "language_info": {
      "name": "python"
    },
    "accelerator": "GPU"
  },
  "cells": [
    {
      "cell_type": "markdown",
      "metadata": {
        "id": "view-in-github",
        "colab_type": "text"
      },
      "source": [
        "<a href=\"https://colab.research.google.com/github/Re14m/training/blob/master/2022-0603_recipie226.ipynb\" target=\"_parent\"><img src=\"https://colab.research.google.com/assets/colab-badge.svg\" alt=\"Open In Colab\"/></a>"
      ]
    },
    {
      "cell_type": "markdown",
      "source": [
        "# [scikit-surpriseを使った映画のレコメンデーションレシピ](https://axross-recipe.com/recipes/226)"
      ],
      "metadata": {
        "id": "uBEQNS6RFYid"
      }
    },
    {
      "cell_type": "markdown",
      "source": [
        "## 環境準備"
      ],
      "metadata": {
        "id": "SBjjCiOItKlL"
      }
    },
    {
      "cell_type": "code",
      "source": [
        "from google.colab import drive\n",
        "drive.mount('/content/drive')"
      ],
      "metadata": {
        "id": "UlyXvV3hQ9pW"
      },
      "execution_count": null,
      "outputs": []
    },
    {
      "cell_type": "code",
      "source": [
        "# ライブラリのインストール\n",
        "!pip install jupyter\n",
        "!pip install pandas\n",
        "!pip install scikit-surprise"
      ],
      "metadata": {
        "id": "F9o1pp0vtU9X"
      },
      "execution_count": null,
      "outputs": []
    },
    {
      "cell_type": "markdown",
      "source": [
        "## データセットの準備"
      ],
      "metadata": {
        "id": "P132XhpENGkY"
      }
    },
    {
      "cell_type": "code",
      "source": [
        "# datasetのダウンロード\n",
        "!wget \"https://files.grouplens.org/datasets/movielens/ml-100k.zip\" /content/"
      ],
      "metadata": {
        "id": "vNL0f2XJ6sJw"
      },
      "execution_count": null,
      "outputs": []
    },
    {
      "cell_type": "code",
      "source": [
        "# datasetの解凍\n",
        "!unzip \"ml-100k.zip\""
      ],
      "metadata": {
        "id": "UtiAacKPt9T1"
      },
      "execution_count": null,
      "outputs": []
    },
    {
      "cell_type": "code",
      "source": [
        "# datasetの確認\n",
        "!ls ml-100k"
      ],
      "metadata": {
        "id": "a89hxbB6RVyq"
      },
      "execution_count": null,
      "outputs": []
    },
    {
      "cell_type": "markdown",
      "source": [
        "## データセットの準備"
      ],
      "metadata": {
        "id": "3D71Us_6RkHq"
      }
    },
    {
      "cell_type": "code",
      "source": [
        "# ライブラリのインポート\n",
        "import pandas as pd\n",
        "from datetime import datetime\n",
        "\n",
        "# データの読込\n",
        "df_data = pd.read_csv(\"ml-100k/u.data\",sep=\"\\t\", header=None,\n",
        "                      names=[\"user id\", \"movie id\", \"rating\", \"timestamp\"], \n",
        "                      parse_dates=[3], date_parser=lambda x: datetime.fromtimestamp(int(x)))\n",
        "df_item = pd.read_csv(\"ml-100k/u.item\",sep=\"|\", encoding = \"ISO-8859-1\", header=None, \n",
        "                      names= [\"movie id\", \"movie title\", \"release date\"],\n",
        "                      usecols=[0,1,2], parse_dates=[2], index_col=0)"
      ],
      "metadata": {
        "id": "TVksq4QsRf-2"
      },
      "execution_count": null,
      "outputs": []
    },
    {
      "cell_type": "code",
      "source": [
        "# データの表示\n",
        "df_data.head()"
      ],
      "metadata": {
        "id": "SE3LdlMbTGK5"
      },
      "execution_count": null,
      "outputs": []
    },
    {
      "cell_type": "code",
      "source": [
        "# データの表示\n",
        "df_item.head()"
      ],
      "metadata": {
        "id": "sr7mBxr9TOgn"
      },
      "execution_count": null,
      "outputs": []
    },
    {
      "cell_type": "markdown",
      "source": [
        "## データの加工"
      ],
      "metadata": {
        "id": "o5Z5YRe4U9y4"
      }
    },
    {
      "cell_type": "code",
      "source": [
        "# ライブラリのインポート\n",
        "from surprise import Dataset\n",
        "from surprise import Reader\n",
        "from surprise.model_selection import cross_validate\n",
        "\n",
        "# dataset加工\n",
        "reader = Reader(rating_scale=(1,5))\n",
        "data = Dataset.load_from_df(df_data[[\"user id\", \"movie id\", \"rating\"]], reader)"
      ],
      "metadata": {
        "id": "bdjk5Q3kVC7x"
      },
      "execution_count": null,
      "outputs": []
    },
    {
      "cell_type": "markdown",
      "source": [
        "## SVDの学習"
      ],
      "metadata": {
        "id": "YeRSEgRmVJdY"
      }
    },
    {
      "cell_type": "code",
      "source": [
        "from surprise import SVD\n",
        "model = SVD(random_state=1)\n",
        "\n",
        "model.fit(data.build_full_trainset())"
      ],
      "metadata": {
        "id": "GuoYdcPSVPXl"
      },
      "execution_count": null,
      "outputs": []
    },
    {
      "cell_type": "markdown",
      "source": [
        "## SVDの予測"
      ],
      "metadata": {
        "id": "xBUYNOjbVWLu"
      }
    },
    {
      "cell_type": "code",
      "source": [
        "# 一人が見た映画の数の最小値\n",
        "aggregated = df_data[[\"user id\", \"movie id\"]].groupby(\"user id\").count().rename(columns={\"movie id\":\"count\"})\n",
        "aggregated.min()"
      ],
      "metadata": {
        "id": "oocJAcOFVbb-"
      },
      "execution_count": null,
      "outputs": []
    },
    {
      "cell_type": "code",
      "source": [
        "# 鑑賞数が20になった人を抽出\n",
        "aggregated[ aggregated[\"count\"]==20 ]"
      ],
      "metadata": {
        "id": "stc3nLXLVkKi"
      },
      "execution_count": null,
      "outputs": []
    },
    {
      "cell_type": "code",
      "source": [
        "# サンプルとしてユーザIDが364のタイトル一覧を取得\n",
        "uid = 364\n",
        "df_data[df_data[\"user id\"] == uid].merge(df_item,\"left\", on=\"movie id\")"
      ],
      "metadata": {
        "id": "0ckTqfNiVyoS"
      },
      "execution_count": null,
      "outputs": []
    },
    {
      "cell_type": "code",
      "source": [
        "# ユーザID 364が映画ID 1 \"ToyStory\"をどう評価するかを予測する\n",
        "iid = 1\n",
        "model.predict(uid=uid, iid=iid).est"
      ],
      "metadata": {
        "id": "1R0awy_kWCSe"
      },
      "execution_count": null,
      "outputs": []
    },
    {
      "cell_type": "code",
      "source": [
        "# 関数の定義（与えられたユーザと候補映画リストについて、それぞれの映画の評価予測を計算し降順にソート）\n",
        "def get_ranking(user_id, model, candidates):\n",
        "    pred = [(i, model.predict(user_id, i).est) for i in candidates]\n",
        "    return sorted(pred, key=lambda x: x[1], reverse=True)"
      ],
      "metadata": {
        "id": "T3VRxQHHWgP5"
      },
      "execution_count": null,
      "outputs": []
    },
    {
      "cell_type": "code",
      "source": [
        "# ユーザID 364のおすすめリストを予測\n",
        "watched = set(df_data[df_data[\"user id\"] == uid][\"movie id\"])\n",
        "r = get_ranking(uid, model, set(df_item.index) - watched)"
      ],
      "metadata": {
        "id": "8m9aN7PvWrOX"
      },
      "execution_count": null,
      "outputs": []
    },
    {
      "cell_type": "code",
      "source": [
        "# おすすめリストを取得\n",
        "r[:30]"
      ],
      "metadata": {
        "id": "FarrioVDWxrc"
      },
      "execution_count": null,
      "outputs": []
    },
    {
      "cell_type": "code",
      "source": [
        "# 関数の定義（値をタイトルとして表示させる）\n",
        "def show_result(res):\n",
        "    for movie, score in res:\n",
        "        print(\"{:4d} {:70s} {:f}\".format(movie, df_item.loc[movie][\"movie title\"], score))"
      ],
      "metadata": {
        "id": "miGgmwbDW6tm"
      },
      "execution_count": null,
      "outputs": []
    },
    {
      "cell_type": "code",
      "source": [
        "# 最後おすすめリストを表示\n",
        "show_result(r[:30])"
      ],
      "metadata": {
        "id": "w7PR7WsIXEDN"
      },
      "execution_count": null,
      "outputs": []
    },
    {
      "cell_type": "markdown",
      "source": [
        "## 映画のレコメンデーション"
      ],
      "metadata": {
        "id": "HqwaxbdOXPWA"
      }
    },
    {
      "cell_type": "code",
      "source": [
        "# 人工的にユーザを追加する\n",
        "df_data[\"user id\"].max()"
      ],
      "metadata": {
        "id": "47-JtyCjXVHR"
      },
      "execution_count": null,
      "outputs": []
    },
    {
      "cell_type": "code",
      "source": [
        "# \"StarWars\"で一覧を検索する\n",
        "df_item[df_item[\"movie title\"].str.contains(\"Star Wars\")]"
      ],
      "metadata": {
        "id": "iHVjlHCcXeY-"
      },
      "execution_count": null,
      "outputs": []
    },
    {
      "cell_type": "code",
      "source": [
        "# ユーザIDが944の人を人工的に加えて、その人は\"Star Wars\"（映画ID=50）を5と評価したもの\n",
        "uid = 944\n",
        "iid = 50\n",
        "df_data2 = df_data.append({\"user id\":uid, \"movie id\": iid, \"rating\": 5}, ignore_index=True).convert_dtypes()"
      ],
      "metadata": {
        "id": "hFWR8BTXX1nf"
      },
      "execution_count": null,
      "outputs": []
    },
    {
      "cell_type": "code",
      "source": [
        "# データが加えられていることを確認\n",
        "df_data2.tail()"
      ],
      "metadata": {
        "id": "kzZ-aE0EX-gA"
      },
      "execution_count": null,
      "outputs": []
    },
    {
      "cell_type": "code",
      "source": [
        "# 実際におすすめを表示する\n",
        "model = SVD(random_state=1)\n",
        "data2 = Dataset.load_from_df(df_data2[[\"user id\", \"movie id\", \"rating\"]], reader)\n",
        "model.fit(data2.build_full_trainset())\n",
        "\n",
        "r = get_ranking(uid, model, [x for x in df_item.index if x!=iid])\n",
        "\n",
        "show_result(r[:30])"
      ],
      "metadata": {
        "id": "FQMHxYK1YIAO"
      },
      "execution_count": null,
      "outputs": []
    },
    {
      "cell_type": "markdown",
      "source": [
        "## アルゴリズムの評価"
      ],
      "metadata": {
        "id": "hXWQ6zJtYXXj"
      }
    },
    {
      "cell_type": "code",
      "source": [
        "# データの分割\n",
        "from surprise.model_selection import train_test_split\n",
        "from surprise import accuracy\n",
        "trainset, testset = train_test_split(data, test_size=0.2)"
      ],
      "metadata": {
        "id": "ZoCe-uRIYdDf"
      },
      "execution_count": null,
      "outputs": []
    },
    {
      "cell_type": "code",
      "source": [
        "# KNNBasic, NMF, SVDを評価して比較\n",
        "from surprise.prediction_algorithms.knns import KNNBasic\n",
        "from surprise.prediction_algorithms.matrix_factorization import NMF\n",
        "algorithms = [KNNBasic, NMF, SVD]\n",
        "algo_names = [\"KNNBasic\", \"NMF\", \"SVD\"]\n",
        "for algo, name in zip(algorithms, algo_names):\n",
        "    model = algo()\n",
        "    model.fit(trainset)\n",
        "    predictions = model.test(testset)\n",
        "    print(name)\n",
        "    print(accuracy.rmse(predictions,verbose=False))"
      ],
      "metadata": {
        "id": "HpD80e5MYn6H"
      },
      "execution_count": null,
      "outputs": []
    }
  ]
}