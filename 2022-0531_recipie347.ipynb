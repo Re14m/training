{
  "nbformat": 4,
  "nbformat_minor": 0,
  "metadata": {
    "colab": {
      "name": "2022-0531_recipie347.ipynb",
      "private_outputs": true,
      "provenance": [],
      "collapsed_sections": [],
      "authorship_tag": "ABX9TyPR9dNOCXYAQR7ukZAm2NbW",
      "include_colab_link": true
    },
    "kernelspec": {
      "name": "python3",
      "display_name": "Python 3"
    },
    "language_info": {
      "name": "python"
    },
    "accelerator": "GPU"
  },
  "cells": [
    {
      "cell_type": "markdown",
      "metadata": {
        "id": "view-in-github",
        "colab_type": "text"
      },
      "source": [
        "<a href=\"https://colab.research.google.com/github/Re14m/training/blob/master/2022-0531_recipie347.ipynb\" target=\"_parent\"><img src=\"https://colab.research.google.com/assets/colab-badge.svg\" alt=\"Open In Colab\"/></a>"
      ]
    },
    {
      "cell_type": "markdown",
      "source": [
        "# [脅威の無料AutoML「Pycaret」でKaggleに挑む](https://axross-recipe.com/recipes/347)"
      ],
      "metadata": {
        "id": "uBEQNS6RFYid"
      }
    },
    {
      "cell_type": "markdown",
      "source": [
        "## データセットの準備"
      ],
      "metadata": {
        "id": "P132XhpENGkY"
      }
    },
    {
      "cell_type": "code",
      "execution_count": null,
      "metadata": {
        "id": "mwtbV8EXoGzX"
      },
      "outputs": [],
      "source": [
        "# Google Driveをマウント\n",
        "from google.colab import drive\n",
        "drive.mount('/content/drive')"
      ]
    },
    {
      "cell_type": "code",
      "source": [
        "# パッケージのインストール\n",
        "!pip install pycaret\n",
        "!pip install pandas-profiling==3.1.0"
      ],
      "metadata": {
        "id": "vOKb3lQymeB9"
      },
      "execution_count": null,
      "outputs": []
    },
    {
      "cell_type": "code",
      "source": [
        "# Kaggle APIのインストール\n",
        "!pip install kaggle"
      ],
      "metadata": {
        "id": "g0DwS3gZ5fAp"
      },
      "execution_count": null,
      "outputs": []
    },
    {
      "cell_type": "code",
      "source": [
        "# jsonで認証\n",
        "from google.colab import files\n",
        "uploaded = files.upload()\n",
        "\n",
        "for fn in uploaded.keys():\n",
        "  print('User uploaded file \"{name}\" with length {length} bytes'.format(\n",
        "      name=fn, length=len(uploaded[fn])))\n",
        "\n",
        "# Then move kaggle.json into the folder where the API expects to find it.\n",
        "!mkdir -p ~/.kaggle/ && mv kaggle.json ~/.kaggle/ && chmod 600 ~/.kaggle/kaggle.json"
      ],
      "metadata": {
        "id": "en7SO1vc5uL2"
      },
      "execution_count": null,
      "outputs": []
    },
    {
      "cell_type": "code",
      "source": [
        "# datasetダウンロード\n",
        "!kaggle competitions download -c titanic"
      ],
      "metadata": {
        "id": "vNL0f2XJ6sJw"
      },
      "execution_count": null,
      "outputs": []
    },
    {
      "cell_type": "code",
      "source": [
        "# dataset 解凍\n",
        "!unzip /content/titanic.zip"
      ],
      "metadata": {
        "id": "Ngzp_raGNLNP"
      },
      "execution_count": null,
      "outputs": []
    },
    {
      "cell_type": "markdown",
      "source": [
        "## 課題抽出"
      ],
      "metadata": {
        "id": "OyMPi4PDO2e0"
      }
    },
    {
      "cell_type": "code",
      "source": [
        "# パッケージのインポート\n",
        "import pandas as pd\n",
        "import numpy as np\n",
        "import random as rnd\n",
        "\n",
        "import seaborn as sns\n",
        "import matplotlib.pyplot as plt\n",
        "%matplotlib inline"
      ],
      "metadata": {
        "id": "tmvk8S-sO63P"
      },
      "execution_count": null,
      "outputs": []
    },
    {
      "cell_type": "code",
      "source": [
        "# データの読込\n",
        "train_df = pd.read_csv(\"train.csv\")\n",
        "test_df = pd.read_csv(\"test.csv\")"
      ],
      "metadata": {
        "id": "zR0140yTPNce"
      },
      "execution_count": null,
      "outputs": []
    },
    {
      "cell_type": "code",
      "source": [
        "# 特徴量の確認\n",
        "print(train_df.columns.values)"
      ],
      "metadata": {
        "id": "4Lr81qb4PurG"
      },
      "execution_count": null,
      "outputs": []
    },
    {
      "cell_type": "code",
      "source": [
        "# データの種類の確認\n",
        "display(train_df.head())\n",
        "print('_'*40)\n",
        "display(train_df.tail())"
      ],
      "metadata": {
        "id": "fv_UD-9bP_Du"
      },
      "execution_count": null,
      "outputs": []
    },
    {
      "cell_type": "code",
      "source": [
        "# 欠損値とデータ型の確認\n",
        "print(train_df.info())\n",
        "print('_'*40)\n",
        "print(test_df.info())"
      ],
      "metadata": {
        "id": "ywQB9rO7Qj_J"
      },
      "execution_count": null,
      "outputs": []
    },
    {
      "cell_type": "code",
      "source": [
        "# 統計情報(数値データ)の表示\n",
        "train_df.describe()"
      ],
      "metadata": {
        "id": "EknG47YyQ322"
      },
      "execution_count": null,
      "outputs": []
    },
    {
      "cell_type": "code",
      "source": [
        "# 統計情報の表示(カテゴリーデータ)\n",
        "train_df.describe(include=['O'])"
      ],
      "metadata": {
        "id": "84RF6j1MXC_n"
      },
      "execution_count": null,
      "outputs": []
    },
    {
      "cell_type": "markdown",
      "source": [
        "## データの基礎集計"
      ],
      "metadata": {
        "id": "pQzMpaxYXcCa"
      }
    },
    {
      "cell_type": "code",
      "source": [
        "# Pclass別の平均生存率\n",
        "train_df[['Pclass', 'Survived']].groupby(['Pclass'], as_index=False).mean().sort_values(by='Survived', ascending=False)"
      ],
      "metadata": {
        "id": "Gt9GJVAIXfyL"
      },
      "execution_count": null,
      "outputs": []
    },
    {
      "cell_type": "code",
      "source": [
        "# Pclass別の生存数の頻度分布\n",
        "sns.countplot(train_df['Pclass'], hue=train_df['Survived'])"
      ],
      "metadata": {
        "id": "t3rOTu1WXjev"
      },
      "execution_count": null,
      "outputs": []
    },
    {
      "cell_type": "code",
      "source": [
        "# 学習用データのPclass別の頻度\n",
        "train_Pclass = train_df['Pclass'].value_counts(normalize=True, sort=False)\n",
        "train_Pclass = train_Pclass.rename('Train')\n",
        "\n",
        "# テスト用データのPclass別の頻度\n",
        "test_Pclass = test_df['Pclass'].value_counts(normalize=True, sort=False)\n",
        "test_Pclass = test_Pclass.rename('Test')\n",
        "\n",
        "pd.concat([train_Pclass , test_Pclass], axis=1)"
      ],
      "metadata": {
        "id": "OPzkXEQ1Xojg"
      },
      "execution_count": null,
      "outputs": []
    },
    {
      "cell_type": "code",
      "source": [
        "# Nameの基礎集計\n",
        "print(train_df[['Name']].head())"
      ],
      "metadata": {
        "id": "eLOU41XSXs8g"
      },
      "execution_count": null,
      "outputs": []
    },
    {
      "cell_type": "code",
      "source": [
        "# 敬称の抽出\n",
        "train_df['Title'] = train_df['Name'].map(lambda x: x.split(', ')[1].split('. ')[0])\n",
        "train_df['Title'].value_counts() #敬称別の頻度分布"
      ],
      "metadata": {
        "id": "3n9A_OvGXzY9"
      },
      "execution_count": null,
      "outputs": []
    },
    {
      "cell_type": "code",
      "source": [
        "# 敬称(Title)別の平均生存率\n",
        "train_df[['Title', 'Survived']].groupby(['Title'], as_index=False).mean().sort_values(by='Survived', ascending=False)"
      ],
      "metadata": {
        "id": "G5qMGk32X3M_"
      },
      "execution_count": null,
      "outputs": []
    },
    {
      "cell_type": "code",
      "source": [
        "# 学習用データの敬称(Title)別の頻度\n",
        "train_Title = train_df['Title'].value_counts(sort=False)\n",
        "train_Title = train_Title.rename('Train')\n",
        "\n",
        "# テスト用データの敬称の抽出\n",
        "test_df['Title'] = test_df['Name'].map(lambda x: x.split(', ')[1].split('. ')[0])\n",
        "# テスト用データの敬称(Title)別の頻度\n",
        "test_Title = test_df['Title'].value_counts(sort=False)\n",
        "test_Title = test_Title.rename('Test')\n",
        "\n",
        "# 並べて出力\n",
        "merge_Title = pd.concat([train_Title , test_Title], axis=1)\n",
        "display(merge_Title)"
      ],
      "metadata": {
        "id": "PM9qNjyQX7Dh"
      },
      "execution_count": null,
      "outputs": []
    },
    {
      "cell_type": "code",
      "source": [
        "# 学習用にしかない敬称を抽出\n",
        "train_only_title = merge_Title[merge_Title['Test'].isnull()].index\n",
        "train_only_title = train_only_title.tolist()\n",
        "print(train_only_title)\n",
        "\n",
        "# 学習用にしかない敬称を除外\n",
        "train_df2 = train_df[~train_df['Title'].isin(train_only_title)].reset_index(drop=True)\n",
        "train_df2['Title'].value_counts() #敬称別の頻度分布"
      ],
      "metadata": {
        "id": "uqzjl7SxX-aR"
      },
      "execution_count": null,
      "outputs": []
    },
    {
      "cell_type": "code",
      "source": [
        "# 「Ms」を「Miss」に置換\n",
        "train_df2['Title'].replace('Ms', 'Miss',inplace=True)\n",
        "\n",
        "#「Master」,「Miss」,「Mrs」,「Mr」以外の敬称を統合\n",
        "train_df2['Title'].replace(['Col','Dr', 'Rev'], 'Rare',inplace=True)\n",
        "train_df2['Title'].value_counts() #敬称別の頻度分布"
      ],
      "metadata": {
        "id": "Ggqkp2NnbRr9"
      },
      "execution_count": null,
      "outputs": []
    },
    {
      "cell_type": "code",
      "source": [
        "# 敬称別の平均生存率\n",
        "train_df2['Survived'].groupby(train_df2['Title']).mean()"
      ],
      "metadata": {
        "id": "dH6VhkcHbUos"
      },
      "execution_count": null,
      "outputs": []
    },
    {
      "cell_type": "code",
      "source": [
        "# Sexの基礎集計\n",
        "# Sex別の平均生存率\n",
        "train_df[['Sex', 'Survived']].groupby(['Sex'], as_index=False).mean().sort_values(by='Survived', ascending=False)"
      ],
      "metadata": {
        "id": "1zDm98-1bXrf"
      },
      "execution_count": null,
      "outputs": []
    },
    {
      "cell_type": "code",
      "source": [
        "# Sex別の生存数の頻度分布\n",
        "sns.countplot(train_df['Sex'], hue=train_df['Survived'])"
      ],
      "metadata": {
        "id": "Sd3X_AvqbdNT"
      },
      "execution_count": null,
      "outputs": []
    },
    {
      "cell_type": "code",
      "source": [
        "# 学習用データのSex別の頻度\n",
        "train_Pclass = train_df['Sex'].value_counts(normalize=True, sort=False)\n",
        "train_Pclass = train_Pclass.rename('Train')\n",
        "\n",
        "# テスト用データのSex別の頻度\n",
        "test_Pclass = test_df['Sex'].value_counts(normalize=True, sort=False)\n",
        "test_Pclass = test_Pclass.rename('Test')\n",
        "\n",
        "# 並べて表示\n",
        "pd.concat([train_Pclass , test_Pclass], axis=1)"
      ],
      "metadata": {
        "id": "qmCr8uRobgWG"
      },
      "execution_count": null,
      "outputs": []
    },
    {
      "cell_type": "code",
      "source": [
        "# Ageの欠損有無による生存率差\n",
        "train_df['Survived'].groupby(train_df['Age'].isnull()).mean()"
      ],
      "metadata": {
        "id": "-VtXayECcQVp"
      },
      "execution_count": null,
      "outputs": []
    },
    {
      "cell_type": "code",
      "source": [
        "# Ageの欠損値を除外\n",
        "train_df_age = train_df.dropna(subset=['Age'])\n",
        "\n",
        "# Ageの分布\n",
        "sns.distplot(train_df_age[train_df_age['Survived']==1]['Age'],kde=True,rug=False,bins=10,label='Survived=1') #生存者の分布\n",
        "sns.distplot(train_df_age[train_df_age['Survived']==0]['Age'],kde=True,rug=False,bins=10,label='Survived=0') #死亡者の分布\n",
        "plt.legend()"
      ],
      "metadata": {
        "id": "GirOJN6AcTEj"
      },
      "execution_count": null,
      "outputs": []
    },
    {
      "cell_type": "code",
      "source": [
        "# テスト用でのAge欠損値を除外\n",
        "train_df_age = train_df.dropna(subset=['Age'])\n",
        "\n",
        "# TrainとTestのAge分布\n",
        "sns.distplot(train_df_age['Age'],kde=True,rug=False,bins=10,label='Train') \n",
        "sns.distplot(test_df['Age'],kde=True,rug=False,bins=10,label='Test')\n",
        "plt.legend()"
      ],
      "metadata": {
        "id": "gyfXHF2-cXWm"
      },
      "execution_count": null,
      "outputs": []
    },
    {
      "cell_type": "code",
      "source": [
        "# SibSp別の平均生存率\n",
        "train_df[['SibSp', 'Survived']].groupby(['SibSp'], as_index=False).mean()"
      ],
      "metadata": {
        "id": "EQx8KdWlcdRr"
      },
      "execution_count": null,
      "outputs": []
    },
    {
      "cell_type": "code",
      "source": [
        "# SibSp別の生存数の頻度分布\n",
        "sns.countplot(train_df['SibSp'], hue=train_df['Survived'])"
      ],
      "metadata": {
        "id": "cL8QnuCzcfvH"
      },
      "execution_count": null,
      "outputs": []
    },
    {
      "cell_type": "code",
      "source": [
        "# ibSpを生存率予測モデルの特徴量として利用\n",
        "train_Pclass = train_df['SibSp'].value_counts(normalize=True, sort=False)\n",
        "train_Pclass = train_Pclass.rename('Train')\n",
        "\n",
        "# 学習用データのSibSp別の頻度\n",
        "test_Pclass = test_df['SibSp'].value_counts(normalize=True, sort=False)\n",
        "test_Pclass = test_Pclass.rename('Test')\n",
        "\n",
        "# 並べて出力\n",
        "pd.concat([train_Pclass , test_Pclass], axis=1)"
      ],
      "metadata": {
        "id": "aClvnFrCcjj4"
      },
      "execution_count": null,
      "outputs": []
    },
    {
      "cell_type": "code",
      "source": [
        "# Parch別の平均生存率\n",
        "train_df[['Parch', 'Survived']].groupby(['Parch'], as_index=False).mean().sort_values(by='Survived', ascending=False)"
      ],
      "metadata": {
        "id": "ShUn42ulct4-"
      },
      "execution_count": null,
      "outputs": []
    },
    {
      "cell_type": "code",
      "source": [
        "# Parch別の生存数の頻度分布\n",
        "sns.countplot(train_df['Parch'], hue=train_df['Survived'])"
      ],
      "metadata": {
        "id": "4BARlyEBcxPS"
      },
      "execution_count": null,
      "outputs": []
    },
    {
      "cell_type": "code",
      "source": [
        "# 学習用データのParch別の頻度\n",
        "train_Pclass = train_df['Parch'].value_counts(normalize=True, sort=False)\n",
        "train_Pclass = train_Pclass.rename('Train')\n",
        "\n",
        "# テスト用データのParch別の頻度\n",
        "test_Pclass = test_df['Parch'].value_counts(normalize=True, sort=False)\n",
        "test_Pclass = test_Pclass.rename('Test')\n",
        "\n",
        "# 並べて出力\n",
        "pd.concat([train_Pclass , test_Pclass], axis=1)"
      ],
      "metadata": {
        "id": "lph2PNnDc0Hv"
      },
      "execution_count": null,
      "outputs": []
    },
    {
      "cell_type": "code",
      "source": [
        "# Ticketの表示（特徴量としては今回は採用しない）\n",
        "print(train_df[['Ticket']].head())\n",
        "print(train_df[['Ticket']].tail())"
      ],
      "metadata": {
        "id": "97rfvsDuc28B"
      },
      "execution_count": null,
      "outputs": []
    },
    {
      "cell_type": "code",
      "source": [
        "# Fareの分布\n",
        "sns.distplot(train_df_age[train_df['Survived']==1]['Fare'],kde=True,rug=False,bins=10,label='Survived=1') #生存者の分布\n",
        "sns.distplot(train_df_age[train_df['Survived']==0]['Fare'],kde=True,rug=False,bins=10,label='Survived=0') #死亡者の分布\n",
        "plt.legend()"
      ],
      "metadata": {
        "id": "cALLhj6fc7Z4"
      },
      "execution_count": null,
      "outputs": []
    },
    {
      "cell_type": "code",
      "source": [
        "# 対数変換後の描画\n",
        "sns.distplot(np.log1p(train_df[train_df['Survived']==1]['Fare']),kde=True,rug=False,bins=10,label='Survived=1')\n",
        "sns.distplot(np.log1p(train_df[train_df['Survived']==0]['Fare']),kde=True,rug=False,bins=10,label='Survived=0')\n",
        "plt.legend()"
      ],
      "metadata": {
        "id": "AROWcKVsdFgT"
      },
      "execution_count": null,
      "outputs": []
    },
    {
      "cell_type": "code",
      "source": [
        "# 対数変換後の描画\n",
        "sns.distplot(np.log1p(train_df['Fare']),kde=True,rug=False,bins=10,label='Train')\n",
        "sns.distplot(np.log1p(test_df['Fare']),kde=True,rug=False,bins=10,label='Test')\n",
        "plt.legend()"
      ],
      "metadata": {
        "id": "nDSatgSPdJGo"
      },
      "execution_count": null,
      "outputs": []
    },
    {
      "cell_type": "code",
      "source": [
        "# Cabin\n",
        "print(train_df[['Cabin']].head())\n",
        "print(train_df[['Cabin']].tail())"
      ],
      "metadata": {
        "id": "rhNoDZNjdNGg"
      },
      "execution_count": null,
      "outputs": []
    },
    {
      "cell_type": "code",
      "source": [
        "# Embarked別の平均生存率\n",
        "train_df[['Embarked', 'Survived']].groupby(['Embarked'], as_index=False).mean().sort_values(by='Survived', ascending=False)"
      ],
      "metadata": {
        "id": "5OOEFlLodTYZ"
      },
      "execution_count": null,
      "outputs": []
    },
    {
      "cell_type": "code",
      "source": [
        "# Embarked別の生存数の頻度分布\n",
        "sns.countplot(train_df['Embarked'], hue=train_df['Survived'])"
      ],
      "metadata": {
        "id": "hJ2rLFvydWXB"
      },
      "execution_count": null,
      "outputs": []
    },
    {
      "cell_type": "code",
      "source": [
        "# 学習用データのEmbarked別の頻度\n",
        "train_Pclass = train_df['Embarked'].value_counts(normalize=True, sort=False)\n",
        "train_Pclass = train_Pclass.rename('Train')\n",
        "\n",
        "# テスト用データのEmbarked別の頻度\n",
        "test_Pclass = test_df['Embarked'].value_counts(normalize=True, sort=False)\n",
        "test_Pclass = test_Pclass.rename('Test')\n",
        "\n",
        "# 並べて出力\n",
        "pd.concat([train_Pclass , test_Pclass], axis=1)"
      ],
      "metadata": {
        "id": "ABJRbzbvdbEp"
      },
      "execution_count": null,
      "outputs": []
    },
    {
      "cell_type": "markdown",
      "source": [
        "## 基礎集計の整理\n",
        "ここまでの各カラムので基礎集計を下記のように整理する。\n",
        "*   PassengerId\n",
        "不採用。\n",
        "*   `Survived`\n",
        "採用。\n",
        "*   `Pclass`\n",
        "採用。上級階級が生存しやすい。\n",
        "*   `Name(敬称)`\n",
        "採用。Age等ではわからない乗客の属性。\n",
        "*   `Sex`\n",
        "採用。女性が生存しやすい。\n",
        "*   `Age`\n",
        "採用。0～20歳が生存しやすい。\n",
        "*   `SibSp`\n",
        "採用。兄弟/配偶者の構成。\n",
        "*   `Parch`\n",
        "採用。親/子供の構成。\n",
        "*   Ticket\n",
        "不採用。\n",
        "*   `Fare`\n",
        "採用。低い運賃の乗客が死亡しやすい。\n",
        "*   Cabin\n",
        "不採用。\n",
        "*   `Embarked`\n",
        "採用。地域特性。"
      ],
      "metadata": {
        "id": "9Pp3XPN6dhn2"
      }
    },
    {
      "cell_type": "markdown",
      "source": [
        "## 特徴量の作成と整理"
      ],
      "metadata": {
        "id": "DsSb12Xgg-uA"
      }
    },
    {
      "cell_type": "code",
      "source": [
        "# dataset 読込\n",
        "train_df = pd.read_csv(\"train.csv\")\n",
        "test_df = pd.read_csv(\"test.csv\")\n",
        "combine = [train_df, test_df]"
      ],
      "metadata": {
        "id": "X_O6V36yhEyE"
      },
      "execution_count": null,
      "outputs": []
    },
    {
      "cell_type": "code",
      "source": [
        "# 不要な特徴量の除去\n",
        "print('Before', combine[0].shape, combine[1].shape)\n",
        "\n",
        "combine[0].drop(['PassengerId','Ticket', 'Cabin'], axis=1, inplace=True)\n",
        "combine[1].drop(['Ticket', 'Cabin'], axis=1, inplace=True)\n",
        "\n",
        "print('After', combine[0].shape, combine[1].shape)"
      ],
      "metadata": {
        "id": "aNLnBWnahMsL"
      },
      "execution_count": null,
      "outputs": []
    },
    {
      "cell_type": "code",
      "source": [
        "# 欠損値の補完\n",
        "# 学習用とテスト用をfor文で逐次加工\n",
        "for dataset in combine:\n",
        "    # Ageの補完\n",
        "    dataset[\"Age\"].fillna(int(dataset.Age.mean()), inplace=True)\n",
        "    # Fareの補完\n",
        "    dataset[\"Fare\"].fillna(dataset.Fare.median(), inplace=True)\n",
        "    # Embarkedの補完\n",
        "    dataset[\"Embarked\"].fillna(dataset.Embarked.mode()[0], inplace=True)"
      ],
      "metadata": {
        "id": "1PMaQ8N6hTxo"
      },
      "execution_count": null,
      "outputs": []
    },
    {
      "cell_type": "code",
      "source": [
        "# 補完後のdatasetの確認\n",
        "for dataset in combine:\n",
        "    print(dataset.info())"
      ],
      "metadata": {
        "id": "tOwfsuo1hX8q"
      },
      "execution_count": null,
      "outputs": []
    },
    {
      "cell_type": "code",
      "source": [
        "# データ型の整理\n",
        "# 文字列型に変換\n",
        "for dataset in combine:\n",
        "    dataset['Pclass'] = dataset['Pclass'].astype('str')"
      ],
      "metadata": {
        "id": "AAWuO3dPhiMh"
      },
      "execution_count": null,
      "outputs": []
    },
    {
      "cell_type": "code",
      "source": [
        "# 新規特徴量の作成\n",
        "# 学習用データの敬称(Title)別の頻度\n",
        "combine[0]['Title'] = combine[0]['Name'].map(lambda x: x.split(', ')[1].split('. ')[0])\n",
        "train_Title = combine[0]['Title'].value_counts(sort=False)\n",
        "train_Title = train_Title.rename('Train')\n",
        "\n",
        "# テスト用データの敬称の抽出\n",
        "combine[1]['Title'] = combine[1]['Name'].map(lambda x: x.split(', ')[1].split('. ')[0])\n",
        "# テスト用データの敬称(Title)別の頻度\n",
        "test_Title = combine[1]['Title'].value_counts(sort=False)\n",
        "test_Title = test_Title.rename('Test')\n",
        "\n",
        "merge_Title = pd.concat([train_Title , test_Title], axis=1)\n",
        "\n",
        "# 学習用にしかない敬称を抽出\n",
        "train_only_title = merge_Title[merge_Title['Test'].isnull()].index\n",
        "train_only_title = train_only_title.tolist()\n",
        "# 学習用にしかない敬称を除外\n",
        "combine[0] = combine[0][~combine[0]['Title'].isin(train_only_title)].reset_index(drop=True)\n",
        "\n",
        "# 敬称の置換\n",
        "for dataset in combine:\n",
        "    # 「Ms」を「Miss」に置換\n",
        "    dataset['Title'].replace('Ms', 'Miss',inplace=True)\n",
        "    #「Master」,「Miss」,「Mrs」,「Mr」以外の敬称を統合\n",
        "    dataset['Title'].replace(['Col','Dr', 'Rev', 'Dona'], 'Rare',inplace=True)\n",
        "    # 確認\n",
        "    print(dataset['Title'].value_counts(sort=False))"
      ],
      "metadata": {
        "id": "70C0YbGdhlqt"
      },
      "execution_count": null,
      "outputs": []
    },
    {
      "cell_type": "code",
      "source": [
        "# モデル作成で使用しないNameを除去\n",
        "print('Before', combine[0].shape, combine[1].shape)\n",
        "\n",
        "for dataset in combine:\n",
        "    dataset.drop('Name', axis=1, inplace=True)\n",
        "    print(dataset.columns)\n",
        "\n",
        "print('After', combine[0].shape, combine[1].shape)"
      ],
      "metadata": {
        "id": "-xd9yBAtisXQ"
      },
      "execution_count": null,
      "outputs": []
    },
    {
      "cell_type": "code",
      "source": [
        "for dataset in combine:\n",
        "    # 家族構成 = Parch + SibSp + 1\n",
        "    dataset['Family'] = dataset['Parch'] + dataset['SibSp'] + 1 #学習データ\n",
        "\n",
        "# 家族構成の平均生存率\n",
        "display(combine[0][['Family', 'Survived']].groupby(['Family'], as_index=False).mean())\n",
        "\n",
        "# 家族構成ごとの分布を確認\n",
        "sns.countplot(combine[0]['Family'],hue=combine[0]['Survived'])"
      ],
      "metadata": {
        "id": "A_7b-57Yi2UB"
      },
      "execution_count": null,
      "outputs": []
    },
    {
      "cell_type": "code",
      "source": [
        "for dataset in combine:\n",
        "    # FamilySizeを離散化\n",
        "    dataset['FamilySize'] = 'big'\n",
        "    dataset.loc[dataset['Family']==1,'FamilySize'] = 'alone'\n",
        "    dataset.loc[(dataset['Family']>=2) & (dataset['Family']<=4),'FamilySize'] = 'small'\n",
        "    dataset.loc[(dataset['Family']>=5) & (dataset['Family']<=7),'FamilySize'] = 'mediam'\n",
        "\n",
        "# FamilySizeを離散化したときの生存率\n",
        "combine[0]['Survived'].groupby(combine[0]['FamilySize']).mean()"
      ],
      "metadata": {
        "id": "Ut1CalhUi_O2"
      },
      "execution_count": null,
      "outputs": []
    },
    {
      "cell_type": "code",
      "source": [
        "# モデル作成で使用しないSibSp,Parch,Familyを削除\n",
        "print('Before', combine[0].shape, combine[1].shape)\n",
        "\n",
        "for dataset in combine:\n",
        "    dataset.drop(['SibSp', 'Parch', 'Family'], axis=1, inplace=True)\n",
        "    print(dataset.columns)\n",
        "\n",
        "print('After', combine[0].shape, combine[1].shape)"
      ],
      "metadata": {
        "id": "TwaGNGG9jEPG"
      },
      "execution_count": null,
      "outputs": []
    },
    {
      "cell_type": "code",
      "source": [
        "# Fareを4群に分割\n",
        "for dataset in combine:\n",
        "    dataset['FareBand'] = pd.qcut(dataset['Fare'], 4)\n",
        "\n",
        "# Fareをカテゴリー化した平均生存率\n",
        "combine[0][['FareBand', 'Survived']].groupby(['FareBand'], as_index=False).mean()"
      ],
      "metadata": {
        "id": "4THM8mfIjVQs"
      },
      "execution_count": null,
      "outputs": []
    },
    {
      "cell_type": "code",
      "source": [
        "# モデル作成で使用しないFareを削除\n",
        "print('Before', combine[0].shape, combine[1].shape)\n",
        "\n",
        "for dataset in combine:\n",
        "    dataset.drop(['Fare'], axis=1, inplace=True)\n",
        "    print(dataset.columns)\n",
        "\n",
        "print('After', combine[0].shape, combine[1].shape)"
      ],
      "metadata": {
        "id": "8fj2eT5cjcep"
      },
      "execution_count": null,
      "outputs": []
    },
    {
      "cell_type": "code",
      "source": [
        "# 加工データを出力\n",
        "combine[0].to_csv('train_processing.csv', index=False)\n",
        "combine[1].to_csv('test_processing.csv', index=False)"
      ],
      "metadata": {
        "id": "vBl_6cbSjjk5"
      },
      "execution_count": null,
      "outputs": []
    },
    {
      "cell_type": "markdown",
      "source": [
        "## pycaretによるモデル作成"
      ],
      "metadata": {
        "id": "zGW_d8eBjtk1"
      }
    },
    {
      "cell_type": "code",
      "source": [
        "# dataset読込\n",
        "from pycaret.classification import *\n",
        "train_df = pd.read_csv(\"train_processing.csv\")\n",
        "\n",
        "# 前処理\n",
        "exp_1 = setup(data = train_df, target = \"Survived\", session_id = 123)"
      ],
      "metadata": {
        "id": "2nZLczEmkHm0"
      },
      "execution_count": null,
      "outputs": []
    },
    {
      "cell_type": "code",
      "source": [
        "# モデル比較\n",
        "compare_models()"
      ],
      "metadata": {
        "id": "-DehR9ILxWqU"
      },
      "execution_count": null,
      "outputs": []
    },
    {
      "cell_type": "code",
      "source": [
        "# モデル作成\n",
        "model = create_model(\"gbc\")"
      ],
      "metadata": {
        "id": "u1P3DqIpxZMm"
      },
      "execution_count": null,
      "outputs": []
    },
    {
      "cell_type": "code",
      "source": [
        "# モデルの最適化\n",
        "tuned_model = tune_model(model, optimize = 'Accuracy')"
      ],
      "metadata": {
        "id": "XPkmnvg5xbJk"
      },
      "execution_count": null,
      "outputs": []
    },
    {
      "cell_type": "code",
      "source": [
        "# モデルの評価指標\n",
        "evaluate_model(tuned_model)"
      ],
      "metadata": {
        "id": "TtCiMq5Wxdao"
      },
      "execution_count": null,
      "outputs": []
    },
    {
      "cell_type": "code",
      "source": [
        "# テストデータの予測\n",
        "# 作成モデルの読込\n",
        "final_model = finalize_model(tuned_model)\n",
        "\n",
        "# データの読込\n",
        "test_df = pd.read_csv(\"test_processing.csv\")\n",
        "result = predict_model(final_model, data = test_df)"
      ],
      "metadata": {
        "id": "N0UStDVaxeTR"
      },
      "execution_count": null,
      "outputs": []
    },
    {
      "cell_type": "code",
      "source": [
        "# データを提出用にフォーマット\n",
        "result.rename(columns={\"Label\": \"Survived\"}).to_csv(\"pycaret_result.csv\", index=False)\n",
        "result[[\"PassengerId\", \"Label\"]].rename(columns={\"Label\": \"Survived\"}).to_csv(\"submission.csv\", index=False)"
      ],
      "metadata": {
        "id": "TQgHERlexp90"
      },
      "execution_count": null,
      "outputs": []
    }
  ]
}