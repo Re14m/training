{
 "cells": [
  {
   "cell_type": "markdown",
   "id": "1e88b240",
   "metadata": {},
   "source": [
    "# [Pythonのタートルグラフィックスを用いて描画するレシピ](https://axross-recipe.com/recipes/310)"
   ]
  },
  {
   "cell_type": "code",
   "execution_count": 1,
   "id": "7f2c3fdb",
   "metadata": {},
   "outputs": [],
   "source": [
    "# ライブラリのインポート\n",
    "from turtle import *"
   ]
  },
  {
   "cell_type": "code",
   "execution_count": 2,
   "id": "3571d11c",
   "metadata": {},
   "outputs": [],
   "source": [
    "# 描画メソッド\n",
    "color(\"blue\",\"yellow\")\n",
    "begin_fill()\n",
    "speed(5)"
   ]
  },
  {
   "cell_type": "code",
   "execution_count": 3,
   "id": "90a32a8c",
   "metadata": {},
   "outputs": [],
   "source": [
    "# 描画図形の処理\n",
    "for i in range(5): #繰り返し処理の指定\n",
    "    forward(300)\n",
    "    right(144)     #右に144°曲がる"
   ]
  },
  {
   "cell_type": "code",
   "execution_count": 4,
   "id": "694a2e6f",
   "metadata": {},
   "outputs": [],
   "source": [
    "# 描画の終了処理\n",
    "end_fill()\n",
    "done()"
   ]
  }
 ],
 "metadata": {
  "kernelspec": {
   "display_name": "Python 3 (ipykernel)",
   "language": "python",
   "name": "python3"
  },
  "language_info": {
   "codemirror_mode": {
    "name": "ipython",
    "version": 3
   },
   "file_extension": ".py",
   "mimetype": "text/x-python",
   "name": "python",
   "nbconvert_exporter": "python",
   "pygments_lexer": "ipython3",
   "version": "3.9.12"
  }
 },
 "nbformat": 4,
 "nbformat_minor": 5
}
