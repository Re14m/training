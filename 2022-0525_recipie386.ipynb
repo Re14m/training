{
  "nbformat": 4,
  "nbformat_minor": 0,
  "metadata": {
    "colab": {
      "name": "2022-0525_recipie386.ipynb",
      "provenance": [],
      "collapsed_sections": [
        "Tbc0CfQ2ZvEd"
      ],
      "private_outputs": true,
      "authorship_tag": "ABX9TyPgRWiZWwnNN2yQp6ZSB946",
      "include_colab_link": true
    },
    "kernelspec": {
      "name": "python3",
      "display_name": "Python 3"
    },
    "language_info": {
      "name": "python"
    },
    "accelerator": "GPU"
  },
  "cells": [
    {
      "cell_type": "markdown",
      "metadata": {
        "id": "view-in-github",
        "colab_type": "text"
      },
      "source": [
        "<a href=\"https://colab.research.google.com/github/Re14m/training/blob/master/2022-0525_recipie386.ipynb\" target=\"_parent\"><img src=\"https://colab.research.google.com/assets/colab-badge.svg\" alt=\"Open In Colab\"/></a>"
      ]
    },
    {
      "cell_type": "markdown",
      "source": [
        "# [【Lesson5】モデルを評価するレシピ](https://axross-recipe.com/recipes/386)"
      ],
      "metadata": {
        "id": "mVBFNMUAEPzA"
      }
    },
    {
      "cell_type": "markdown",
      "source": [
        "## 作業準備"
      ],
      "metadata": {
        "id": "Tbc0CfQ2ZvEd"
      }
    },
    {
      "cell_type": "code",
      "source": [
        "# CG mount\n",
        "from google.colab import drive\n",
        "drive.mount(\"/content/drive\")"
      ],
      "metadata": {
        "id": "3dhO1D-SYyvb"
      },
      "execution_count": null,
      "outputs": []
    },
    {
      "cell_type": "markdown",
      "source": [
        "## データセットの準備"
      ],
      "metadata": {
        "id": "fa0DyHLOFd3I"
      }
    },
    {
      "cell_type": "code",
      "execution_count": null,
      "metadata": {
        "id": "XtEu1HXvEJNZ"
      },
      "outputs": [],
      "source": [
        "import numpy\n",
        "import matplotlib.pyplot as plt\n",
        "numpy.random.seed(2)\n",
        "\n",
        "x = numpy.random.normal(3, 1, 1000)\n",
        "y = numpy.random.normal(150, 40, 1000) / x\n",
        "\n",
        "plt.scatter(x, y)\n",
        "plt.show()"
      ]
    },
    {
      "cell_type": "code",
      "source": [
        "train_x = x[:800]\n",
        "train_y = y[:800]\n",
        "\n",
        "test_x = x[800:]\n",
        "test_y = y[800:]"
      ],
      "metadata": {
        "id": "WUeRM9XYVmN4"
      },
      "execution_count": null,
      "outputs": []
    },
    {
      "cell_type": "code",
      "source": [
        "# 訓練データ散布図\n",
        "plt.scatter(train_x, train_y)\n",
        "plt.show()"
      ],
      "metadata": {
        "id": "5IpXk_TBVnqI"
      },
      "execution_count": null,
      "outputs": []
    },
    {
      "cell_type": "code",
      "source": [
        "# テストデータ散布図\n",
        "plt.scatter(test_x, test_y)\n",
        "plt.show()"
      ],
      "metadata": {
        "id": "-gperB-tV2CL"
      },
      "execution_count": null,
      "outputs": []
    },
    {
      "cell_type": "markdown",
      "source": [
        "## 多項式回帰モデルの学習"
      ],
      "metadata": {
        "id": "adCxLqnWGhBk"
      }
    },
    {
      "cell_type": "code",
      "source": [
        "import numpy\n",
        "import matplotlib.pyplot as plt\n",
        "numpy.random.seed(2)\n",
        "\n",
        "x = numpy.random.normal(3, 1, 1000)\n",
        "y = numpy.random.normal(150, 40, 1000) / x\n",
        "\n",
        "train_x = x[:800]\n",
        "train_y = y[:800]\n",
        "\n",
        "test_x = x[800:]\n",
        "test_y = y[800:]\n",
        "\n",
        "mymodel = numpy.poly1d(numpy.polyfit(train_x, train_y, 4))\n",
        "\n",
        "myline = numpy.linspace(0, 6, 1000)\n",
        "\n",
        "plt.scatter(train_x, train_y)\n",
        "plt.plot(myline, mymodel(myline))\n",
        "plt.show()"
      ],
      "metadata": {
        "id": "hyDiwBukU98f"
      },
      "execution_count": null,
      "outputs": []
    },
    {
      "cell_type": "code",
      "source": [
        "import numpy\n",
        "from sklearn.metrics import r2_score\n",
        "numpy.random.seed(2)\n",
        "\n",
        "x = numpy.random.normal(3, 1, 1000)\n",
        "y = numpy.random.normal(150, 40, 1000) / x\n",
        "\n",
        "train_x = x[:800]\n",
        "train_y = y[:800]\n",
        "\n",
        "test_x = x[800:]\n",
        "test_y = y[800:]\n",
        "\n",
        "mymodel = numpy.poly1d(numpy.polyfit(train_x, train_y, 4))\n",
        "\n",
        "r2 = r2_score(train_y, mymodel(train_x))\n",
        "\n",
        "print(r2)"
      ],
      "metadata": {
        "id": "JGVCzRk2V1Z0"
      },
      "execution_count": null,
      "outputs": []
    },
    {
      "cell_type": "markdown",
      "source": [
        "## 多項式回帰モデルの評価"
      ],
      "metadata": {
        "id": "6-dd0N4UVyjX"
      }
    },
    {
      "cell_type": "code",
      "source": [
        "import numpy\n",
        "from sklearn.metrics import r2_score\n",
        "numpy.random.seed(2)\n",
        "\n",
        "x = numpy.random.normal(3, 1, 1000)\n",
        "y = numpy.random.normal(150, 40, 1000) / x\n",
        "\n",
        "train_x = x[:800]\n",
        "train_y = y[:800]\n",
        "\n",
        "test_x = x[800:]\n",
        "test_y = y[800:]\n",
        "\n",
        "mymodel = numpy.poly1d(numpy.polyfit(train_x, train_y, 4))\n",
        "\n",
        "r2 = r2_score(test_y, mymodel(test_x))\n",
        "\n",
        "print(r2)"
      ],
      "metadata": {
        "id": "2kE5CEc9WLOx"
      },
      "execution_count": null,
      "outputs": []
    },
    {
      "cell_type": "code",
      "source": [
        "print(mymodel(5))"
      ],
      "metadata": {
        "id": "dHuDw8c_WMum"
      },
      "execution_count": null,
      "outputs": []
    }
  ]
}