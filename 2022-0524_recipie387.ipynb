{
  "nbformat": 4,
  "nbformat_minor": 0,
  "metadata": {
    "colab": {
      "name": "2022-0524_recipie387.ipynb",
      "provenance": [],
      "collapsed_sections": [],
      "private_outputs": true,
      "authorship_tag": "ABX9TyPK3O9DLwov+j4jJ8D+Y3aa",
      "include_colab_link": true
    },
    "kernelspec": {
      "name": "python3",
      "display_name": "Python 3"
    },
    "language_info": {
      "name": "python"
    },
    "accelerator": "GPU"
  },
  "cells": [
    {
      "cell_type": "markdown",
      "metadata": {
        "id": "view-in-github",
        "colab_type": "text"
      },
      "source": [
        "<a href=\"https://colab.research.google.com/github/Re14m/training/blob/master/2022-0524_recipie387.ipynb\" target=\"_parent\"><img src=\"https://colab.research.google.com/assets/colab-badge.svg\" alt=\"Open In Colab\"/></a>"
      ]
    },
    {
      "cell_type": "markdown",
      "source": [
        "# [【Lesson4】Pythonで回帰を行うレシピ](https://axross-recipe.com/recipes/387)"
      ],
      "metadata": {
        "id": "mVBFNMUAEPzA"
      }
    },
    {
      "cell_type": "markdown",
      "source": [
        "## 作業準備"
      ],
      "metadata": {
        "id": "Tbc0CfQ2ZvEd"
      }
    },
    {
      "cell_type": "code",
      "source": [
        "# CG mount\n",
        "from google.colab import drive\n",
        "drive.mount(\"/content/drive\")"
      ],
      "metadata": {
        "id": "3dhO1D-SYyvb"
      },
      "execution_count": null,
      "outputs": []
    },
    {
      "cell_type": "code",
      "source": [
        "# datasetのダウンロード\n",
        "!cp \"/content/drive/MyDrive/Colab Notebooks/note_Axross/_data/apartments.csv\" /content/"
      ],
      "metadata": {
        "id": "-Md9qFVnZI1E"
      },
      "execution_count": null,
      "outputs": []
    },
    {
      "cell_type": "markdown",
      "source": [
        "## 線形回帰（Linear regression）"
      ],
      "metadata": {
        "id": "fa0DyHLOFd3I"
      }
    },
    {
      "cell_type": "code",
      "execution_count": null,
      "metadata": {
        "id": "XtEu1HXvEJNZ"
      },
      "outputs": [],
      "source": [
        "## x軸で平方フィートの面積を表し、y軸でアパートメントの家賃を表す ##\n",
        "\n",
        "import matplotlib.pyplot as plt\n",
        "from scipy import stats\n",
        "\n",
        "# x軸とy軸の値を表す配列を作成\n",
        "x = [1215,1117,1238,1247,1142,1117,1132,1419,1121,1111]\n",
        "y = [2499,2286,2487,2488,2211,2286,2203,2887,2294,2278]\n",
        "\n",
        "# 線形回帰の重要なキー値を返すメソッドを実行\n",
        "slope, intercept, r, p, std_err = stats.linregress(x, y)\n",
        "\n",
        "# 傾きと切片の値を使用して新しい値を返す関数を作成。この新しい値は、対応するx値がy軸のどこに配置されるかを表します。\n",
        "\n",
        "def myfunc(x):\n",
        "  return slope * x + intercept\n",
        "\n",
        "# 関数を介してx配列の各値を実行。これにより、y軸に新しい値を持つ新しい配列が作成されます。\n",
        "\n",
        "mymodel = list(map(myfunc, x))\n",
        "\n",
        "plt.scatter(x, y)\n",
        "plt.plot(x, mymodel)\n",
        "plt.show()"
      ]
    },
    {
      "cell_type": "code",
      "source": [
        "## 1000平方フィートのアパートの家賃を予測 ##\n",
        "\n",
        "import matplotlib.pyplot as plt\n",
        "from scipy import stats\n",
        "\n",
        "# x軸とy軸の値を表す配列を作成\n",
        "x = [1215,1117,1238,1247,1142,1117,1132,1419,1121,1111]\n",
        "y = [2499,2286,2487,2488,2211,2286,2203,2887,2294,2278]\n",
        "\n",
        "# 線形回帰の重要なキー値を返すメソッドを実行\n",
        "slope, intercept, r, p, std_err = stats.linregress(x, y)\n",
        "\n",
        "# 傾きと切片の値を使用して新しい値を返す関数を作成。この新しい値は、対応するx値がy軸のどこに配置されるかを表します。\n",
        "def myfunc(x):\n",
        "  return slope * x + intercept\n",
        "\n",
        "# 関数を介してx配列の各値を実行。これにより、y軸に新しい値を持つ新しい配列が作成されます。\n",
        "mymodel = list(map(myfunc, x))\n",
        "\n",
        "rent = myfunc(1000)\n",
        "\n",
        "print(rent)"
      ],
      "metadata": {
        "id": "WtrZu8Q7FT5-"
      },
      "execution_count": null,
      "outputs": []
    },
    {
      "cell_type": "code",
      "source": [
        "## 線形回帰が最良ではないパターン ##\n",
        "\n",
        "import numpy\n",
        "from scipy import stats\n",
        "\n",
        "x = [89,43,36,36,95,10,66,34,38,20,26,29,48,64,6,5,36,66,72,40]\n",
        "y = [21,46,3,35,67,95,53,72,58,10,26,34,90,33,38,20,56,2,47,15]\n",
        "\n",
        "slope, intercept, r, p, std_err = stats.linregress(x, y)\n",
        "\n",
        "print(r)"
      ],
      "metadata": {
        "id": "jkLLRSgqF71l"
      },
      "execution_count": null,
      "outputs": []
    },
    {
      "cell_type": "markdown",
      "source": [
        "## 多項式回帰（Polynomial Regression）"
      ],
      "metadata": {
        "id": "adCxLqnWGhBk"
      }
    },
    {
      "cell_type": "code",
      "source": [
        "## 特定の料金所を通過した18台の車について、車の速度と通過時刻（時間）をデータとして登録。x軸は1日の時間を表し、y軸は速度を表す ##\n",
        "\n",
        "import numpy\n",
        "import matplotlib.pyplot as plt\n",
        "\n",
        "# x軸とy軸の値を表す配列を作成\n",
        "x = [1,2,3,5,6,7,8,9,10,12,13,14,15,16,18,19,21,22]\n",
        "y = [100,90,80,60,60,55,60,65,70,70,75,76,78,79,90,99,99,100]\n",
        "\n",
        "# NumPyの、多項式モデルを作成できるメソッド\n",
        "mymodel = numpy.poly1d(numpy.polyfit(x, y, 3))\n",
        "\n",
        "# 線の表示方法を指定する。位置1で開始し、位置22で終了。\n",
        "myline = numpy.linspace(1, 22, 100)\n",
        "\n",
        "# 散布図を描画。\n",
        "plt.scatter(x, y)\n",
        "#Draw the line of polynomial regression:\n",
        "plt.plot(myline, mymodel(myline))\n",
        "#Display the diagram:\n",
        "plt.show()"
      ],
      "metadata": {
        "id": "VZ_y2k9wGj0G"
      },
      "execution_count": null,
      "outputs": []
    },
    {
      "cell_type": "code",
      "source": [
        "## 多項式を用いて決定係数（R-Squared）を求める ##\n",
        "\n",
        "import numpy\n",
        "from sklearn.metrics import r2_score\n",
        "\n",
        "x = [1,2,3,5,6,7,8,9,10,12,13,14,15,16,18,19,21,22]\n",
        "y = [100,90,80,60,60,55,60,65,70,70,75,76,78,79,90,99,99,100]\n",
        "\n",
        "mymodel = numpy.poly1d(numpy.polyfit(x, y, 3))\n",
        "\n",
        "print(r2_score(y, mymodel(x)))"
      ],
      "metadata": {
        "id": "St4rnwbsGwFa"
      },
      "execution_count": null,
      "outputs": []
    },
    {
      "cell_type": "code",
      "source": [
        "## 午後17時頃に料金所を通過する車の速度を予測 ##\n",
        "\n",
        "import numpy\n",
        "from sklearn.metrics import r2_score\n",
        "\n",
        "x = [1,2,3,5,6,7,8,9,10,12,13,14,15,16,18,19,21,22]\n",
        "y = [100,90,80,60,60,55,60,65,70,70,75,76,78,79,90,99,99,100]\n",
        "\n",
        "mymodel = numpy.poly1d(numpy.polyfit(x, y, 3))\n",
        "\n",
        "speed = mymodel(17)\n",
        "print(speed)"
      ],
      "metadata": {
        "id": "jplfgmtMHsjl"
      },
      "execution_count": null,
      "outputs": []
    },
    {
      "cell_type": "code",
      "source": [
        "## 多項式回帰が最良の方法ではない例 ##\n",
        "\n",
        "import numpy\n",
        "import matplotlib.pyplot as plt\n",
        "\n",
        "x = [89,43,36,36,95,10,66,34,38,20,26,29,48,64,6,5,36,66,72,40]\n",
        "y = [21,46,3,35,67,95,53,72,58,10,26,34,90,33,38,20,56,2,47,15]\n",
        "\n",
        "mymodel = numpy.poly1d(numpy.polyfit(x, y, 3))\n",
        "\n",
        "myline = numpy.linspace(2, 95, 100)\n",
        "\n",
        "plt.scatter(x, y)\n",
        "plt.plot(myline, mymodel(myline))\n",
        "plt.show()"
      ],
      "metadata": {
        "id": "--uSQYbERKO2"
      },
      "execution_count": null,
      "outputs": []
    },
    {
      "cell_type": "code",
      "source": [
        "## 決定係数を算出 ##\n",
        "\n",
        "import numpy\n",
        "from sklearn.metrics import r2_score\n",
        "\n",
        "x = [89,43,36,36,95,10,66,34,38,20,26,29,48,64,6,5,36,66,72,40]\n",
        "y = [21,46,3,35,67,95,53,72,58,10,26,34,90,33,38,20,56,2,47,15]\n",
        "\n",
        "mymodel = numpy.poly1d(numpy.polyfit(x, y, 3))\n",
        "\n",
        "print(r2_score(y, mymodel(x)))"
      ],
      "metadata": {
        "id": "hyDiwBukU98f"
      },
      "execution_count": null,
      "outputs": []
    },
    {
      "cell_type": "markdown",
      "source": [
        "## 重回帰（Multiple regression）"
      ],
      "metadata": {
        "id": "6-dd0N4UVyjX"
      }
    },
    {
      "cell_type": "code",
      "source": [
        "## 重回帰を利用し変数を増やして予測 ##\n",
        "\n",
        "import pandas\n",
        "from sklearn import linear_model\n",
        "\n",
        "df = pandas.read_csv(\"apartments.csv\")\n",
        "\n",
        "X = df[['Number of rooms', 'Area']]\n",
        "y = df['Rent']\n",
        "\n",
        "regr = linear_model.LinearRegression()\n",
        "regr.fit(X, y)\n",
        "\n",
        "# 面積が2000sqftで、部屋の数が5であるアパートの家賃を予測します。\n",
        "predictedRent = regr.predict([[5, 2000]])\n",
        "\n",
        "print(predictedRent)"
      ],
      "metadata": {
        "id": "JGVCzRk2V1Z0"
      },
      "execution_count": null,
      "outputs": []
    },
    {
      "cell_type": "code",
      "source": [
        "## 回帰オブジェクトの係数値 ##\n",
        "\n",
        "import pandas\n",
        "from sklearn import linear_model\n",
        "\n",
        "df = pandas.read_csv(\"apartments.csv\")\n",
        "\n",
        "X = df[['Number of rooms', 'Area']]\n",
        "y = df['Rent']\n",
        "\n",
        "regr = linear_model.LinearRegression()\n",
        "regr.fit(X, y)\n",
        "\n",
        "print(regr.coef_)"
      ],
      "metadata": {
        "id": "MvkDGrDAgfNm"
      },
      "execution_count": null,
      "outputs": []
    },
    {
      "cell_type": "code",
      "source": [
        "## 標準化 ##\n",
        "\n",
        "import pandas\n",
        "from sklearn import linear_model\n",
        "from sklearn.preprocessing import StandardScaler\n",
        "scale = StandardScaler()\n",
        "\n",
        "df = pandas.read_csv(\"apartments.csv\")\n",
        "\n",
        "X = df[['Number of rooms', 'Area']]\n",
        "y = df['Rent']\n",
        "\n",
        "scaledX = scale.fit_transform(X)\n",
        "\n",
        "regr = linear_model.LinearRegression()\n",
        "regr.fit(scaledX, y)\n",
        "\n",
        "scaled = scale.transform([[4, 2000]])\n",
        "\n",
        "predictedRent = regr.predict([scaled[0]])\n",
        "print(predictedRent)"
      ],
      "metadata": {
        "id": "9TaPDnVwhP1c"
      },
      "execution_count": null,
      "outputs": []
    }
  ]
}