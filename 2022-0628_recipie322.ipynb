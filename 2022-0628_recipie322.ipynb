{
  "nbformat": 4,
  "nbformat_minor": 0,
  "metadata": {
    "colab": {
      "name": "2022-0628_recipie322.ipynb",
      "private_outputs": true,
      "provenance": [],
      "collapsed_sections": [],
      "mount_file_id": "1QxnldRrAuaE_F7lpKqXuWZP6LLs4-hWB",
      "authorship_tag": "ABX9TyMWzLALNWvvybdtpQY978/9",
      "include_colab_link": true
    },
    "kernelspec": {
      "name": "python3",
      "display_name": "Python 3"
    },
    "language_info": {
      "name": "python"
    },
    "accelerator": "GPU"
  },
  "cells": [
    {
      "cell_type": "markdown",
      "metadata": {
        "id": "view-in-github",
        "colab_type": "text"
      },
      "source": [
        "<a href=\"https://colab.research.google.com/github/Re14m/training/blob/master/2022-0628_recipie322.ipynb\" target=\"_parent\"><img src=\"https://colab.research.google.com/assets/colab-badge.svg\" alt=\"Open In Colab\"/></a>"
      ]
    },
    {
      "cell_type": "markdown",
      "source": [
        "# [Pythonのスクレイピングにより定期的にソフトバンクの株価を取得するレシピ](https://axross-recipe.com/recipes/322)"
      ],
      "metadata": {
        "id": "r2XJSRJMof9Z"
      }
    },
    {
      "cell_type": "markdown",
      "source": [
        "## 環境準備"
      ],
      "metadata": {
        "id": "Oyp2R7EToqas"
      }
    },
    {
      "cell_type": "code",
      "source": [
        "from google.colab import drive\n",
        "drive.mount(\"/content/drive/\")"
      ],
      "metadata": {
        "id": "R0SHu_WZowX5"
      },
      "execution_count": null,
      "outputs": []
    },
    {
      "cell_type": "markdown",
      "source": [
        "## Pythonのウォーミングアップ2 requests, BeautifulSoup, time library"
      ],
      "metadata": {
        "id": "vFLZk81ao_6y"
      }
    },
    {
      "cell_type": "code",
      "execution_count": null,
      "metadata": {
        "id": "VvcXkEE4oQVX"
      },
      "outputs": [],
      "source": [
        "# requests\n",
        "import requests \n",
        "URL = 'https://finance.yahoo.co.jp/' \n",
        "response = requests.get(URL) \n",
        "#200ならok,404なら存在しないページなど\n",
        "print(response.status_code)\n",
        "#実際に送られてきたデータ\n",
        "print(response.text)"
      ]
    },
    {
      "cell_type": "code",
      "source": [
        "# BeautiflSoup\n",
        "import requests \n",
        "from bs4 import BeautifulSoup\n",
        "URL = 'https://finance.yahoo.co.jp/' \n",
        "html = requests.get(URL).text\n",
        "soup = BeautifulSoup(html,\"html5lib\")\n",
        "\n",
        "tag = soup.find_all(\"a\")\n",
        "\n",
        "print(tag[0])\n",
        "print(tag[1])\n",
        "print(tag[2].text)"
      ],
      "metadata": {
        "id": "8WZIvcQN0Kxk"
      },
      "execution_count": null,
      "outputs": []
    },
    {
      "cell_type": "code",
      "source": [
        "# time library\n",
        "import time\n",
        "time.sleep(5)\n",
        "print(time.localtime(time.time()))"
      ],
      "metadata": {
        "id": "1MjeCkCl0S4Y"
      },
      "execution_count": null,
      "outputs": []
    },
    {
      "cell_type": "markdown",
      "source": [
        "## Pythonのウォーミングアップ3 - yfinance module"
      ],
      "metadata": {
        "id": "iIXrOUuX0bCG"
      }
    },
    {
      "cell_type": "code",
      "source": [
        "# パッケージのインストール\n",
        "!pip install yfinance"
      ],
      "metadata": {
        "id": "xbUaLvR00fRp"
      },
      "execution_count": null,
      "outputs": []
    },
    {
      "cell_type": "markdown",
      "source": [
        "## 手順1 共通"
      ],
      "metadata": {
        "id": "DguVrCdH0srR"
      }
    },
    {
      "cell_type": "code",
      "source": [
        "# パッケージのインストール\n",
        "import requests\n",
        "from bs4 import BeautifulSoup\n",
        "from time import sleep"
      ],
      "metadata": {
        "id": "Mtog81I_09sN"
      },
      "execution_count": null,
      "outputs": []
    },
    {
      "cell_type": "markdown",
      "source": [
        "## 手順2 idの特定が可能な場合"
      ],
      "metadata": {
        "id": "Ig8wqEL71JgH"
      }
    },
    {
      "cell_type": "code",
      "source": [
        "# URLの概要detailを取得\n",
        "import requests\n",
        "from bs4 import BeautifulSoup\n",
        "from time import sleep\n",
        "\n",
        "if __name__ == '__main__':\n",
        "    #ソフトバンクの株価を表すURL\n",
        "    url = \"https://finance.yahoo.co.jp/quote/9434.T\"\n",
        "    #htmlのみを取り入れるために、.textを追加\n",
        "    html = requests.get(url).text\n",
        "    #BeautifulSoupでデータのparsing\n",
        "    soup = BeautifulSoup(html,\"html5lib\")\n",
        "    #'detail'のidを持っているtag全てをリストの形式で返還する.select()関数を利用。[0]は最初の要素を意味する。\n",
        "    detail = soup.select('#detail')[0]\n",
        "    print(detail)\n",
        "    #データの中で、tagをなくして、テキストのみを確認する場合\n",
        "    print(detail.text)"
      ],
      "metadata": {
        "id": "Iashp77u2buS"
      },
      "execution_count": null,
      "outputs": []
    },
    {
      "cell_type": "markdown",
      "source": [
        "## 手順3 idの特定不可能=一般的な場合"
      ],
      "metadata": {
        "id": "BxBIup2-2wqD"
      }
    },
    {
      "cell_type": "code",
      "source": [
        "# URLの概要detailを取得\n",
        "import requests\n",
        "from bs4 import BeautifulSoup\n",
        "from time import sleep\n",
        "\n",
        "if __name__ == '__main__':\n",
        "    #ソフトバンクの株価を表すURL\n",
        "    url = \"https://finance.yahoo.co.jp/quote/9434.T\"\n",
        "    #htmlのみを取り入れるために、.textを追加\n",
        "    html = requests.get(url).text\n",
        "    #BeautifulSoupでデータのparsing\n",
        "    soup = BeautifulSoup(html,\"html5lib\")\n",
        "    #条件を満たすtag全てをリストの形式で返還する.select()関数を利用。[0]は最初の要素を意味する。\n",
        "    closingprice = soup.select(\"#detail > section._2Yx3YP9V._3v4W38Hq > div > ul > li:nth-of-type(1) > dl > dd > span._1fofaCjs._2aohzPlv._1DMRub9m > span\")[0]\n",
        "\n",
        "    print(\"ソフトバンク\")\n",
        "    #データの中で、tagをなくして、テキストのみを確認する場合\n",
        "    print(\"前日終値　\" +closingprice.text)"
      ],
      "metadata": {
        "id": "nK0Ay2-x249q"
      },
      "execution_count": null,
      "outputs": []
    },
    {
      "cell_type": "markdown",
      "source": [
        "## 手順4 定期的に株価を確認したい場合"
      ],
      "metadata": {
        "id": "kKtr6hwk3KLN"
      }
    },
    {
      "cell_type": "code",
      "source": [
        "import requests\n",
        "from bs4 import BeautifulSoup\n",
        "from time import sleep\n",
        "\n",
        "def get_current_price(url):\n",
        "    html = requests.get(url).text\n",
        "    soup = BeautifulSoup(html,\"html5lib\")\n",
        "    #\"#detail > section._2Yx3YP9V._3v4W38Hq > div > ul > li:nth-child(1) > dl > dd > span._1fofaCjs._2aohzPlv._1DMRub9m > span\"\n",
        "    realtimeprice = soup.select(\"#root > main > div > div > div.XuqDlHPN > div:nth-of-type(2) > section._1zZriTjI._2l2sDX5w > div._1nb3c4wQ > header > div.nOmR5zWz > span > span\")[0]\n",
        "    return realtimeprice\n",
        "\n",
        "def get_closing_price(url):\n",
        "    html = requests.get(url).text\n",
        "    soup = BeautifulSoup(html,\"html5lib\")\n",
        "    #\"#detail > section._2Yx3YP9V._3v4W38Hq > div > ul > li:nth-child(1) > dl > dd > span._1fofaCjs._2aohzPlv._1DMRub9m > span\"\n",
        "    closingprice = soup.select(\"#detail > section._2Yx3YP9V._3v4W38Hq > div > ul > li:nth-of-type(1) > dl > dd > span._1fofaCjs._2aohzPlv._1DMRub9m > span\")[0]\n",
        "    return closingprice\n",
        "\n",
        "if __name__ == '__main__':\n",
        "    url = \"https://finance.yahoo.co.jp/quote/9434.T\"\n",
        "    closingprice = get_closing_price(url)\n",
        "    print(\"ソフトバンク\")\n",
        "    print(\"前日終値　\" +closingprice.text)\n",
        "\n",
        "    while(True):\n",
        "        realtimeprice = get_current_price(url)\n",
        "        print(\"リアルタイム株価　\" +realtimeprice.text)\n",
        "        sleep(10)"
      ],
      "metadata": {
        "id": "-Th2TtI_3MrJ"
      },
      "execution_count": null,
      "outputs": []
    },
    {
      "cell_type": "markdown",
      "source": [
        "## おまけ apiの活用"
      ],
      "metadata": {
        "id": "0xPogSyZ3gpa"
      }
    },
    {
      "cell_type": "code",
      "source": [
        "import requests\n",
        "from bs4 import BeautifulSoup\n",
        "import yfinance as yf\n",
        "from time import sleep\n",
        "\n",
        "#最後に更新されたデータを提供\n",
        "def get_current_price(symbol):\n",
        "    ticker = yf.Ticker(symbol)\n",
        "    todays_data = ticker.history(period='1d')\n",
        "    return todays_data['Close'][0]\n",
        "\n",
        "#https://finance.yahoo.com/\n",
        "#ソフトバンクグループSFTBY\n",
        "#ソフトバンクSOBKY\n",
        "msft = yf.Ticker(\"SOBKY\")\n",
        "\n",
        "while(True):\n",
        "    realtimeprice = get_current_price('SOBKY')\n",
        "    print(\"リアルタイム株価（$）　\" +str(realtimeprice))\n",
        "    sleep(10)"
      ],
      "metadata": {
        "id": "SpzBhnip3jRQ"
      },
      "execution_count": null,
      "outputs": []
    }
  ]
}